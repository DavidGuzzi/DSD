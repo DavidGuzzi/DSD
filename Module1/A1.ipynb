{
 "cells": [
  {
   "cell_type": "markdown",
   "id": "advance-plenty",
   "metadata": {
    "id": "advance-plenty"
   },
   "source": [
    "# **ANALYSIS OF SALES DATA FROM AN E-COMMERCE.**"
   ]
  },
  {
   "cell_type": "code",
   "execution_count": 3,
   "id": "1771f8ff",
   "metadata": {},
   "outputs": [
    {
     "name": "stdout",
     "output_type": "stream",
     "text": [
      "Requirement already satisfied: pyarrow in c:\\users\\hp\\anaconda3\\lib\\site-packages (4.0.1)\n",
      "Requirement already satisfied: numpy>=1.16.6 in c:\\users\\hp\\anaconda3\\lib\\site-packages (from pyarrow) (1.24.1)\n",
      "Note: you may need to restart the kernel to use updated packages.\n"
     ]
    }
   ],
   "source": [
    "pip install pyarrow"
   ]
  },
  {
   "cell_type": "code",
   "execution_count": 5,
   "id": "arabic-quantum",
   "metadata": {
    "executionInfo": {
     "elapsed": 987,
     "status": "ok",
     "timestamp": 1622677838014,
     "user": {
      "displayName": "David Guzzi",
      "photoUrl": "https://lh3.googleusercontent.com/a-/AOh14GhSjhgfhnxX5QmyhWy5jLH3NKcCVPEgEB9KwpG4Eg=s64",
      "userId": "10735015058891789975"
     },
     "user_tz": 180
    },
    "id": "arabic-quantum"
   },
   "outputs": [],
   "source": [
    "import pandas as pd\n",
    "import seaborn as sns\n",
    "import numpy as np\n",
    "import matplotlib.pyplot as plt\n",
    "pd.options.display.float_format = '{:.2f}'.format"
   ]
  },
  {
   "cell_type": "markdown",
   "id": "1c0hhQl_XzWi",
   "metadata": {
    "id": "1c0hhQl_XzWi"
   },
   "source": [
    "## **ENTENDIENDO EL DOMINIO DEL DATASET.**"
   ]
  },
  {
   "cell_type": "code",
   "execution_count": 7,
   "id": "caroline-inventory",
   "metadata": {
    "executionInfo": {
     "elapsed": 11325,
     "status": "ok",
     "timestamp": 1622677851839,
     "user": {
      "displayName": "David Guzzi",
      "photoUrl": "https://lh3.googleusercontent.com/a-/AOh14GhSjhgfhnxX5QmyhWy5jLH3NKcCVPEgEB9KwpG4Eg=s64",
      "userId": "10735015058891789975"
     },
     "user_tz": 180
    },
    "id": "caroline-inventory"
   },
   "outputs": [],
   "source": [
    "df = pd.read_parquet('data-ecomm-10-19-smallsampled.parquet')"
   ]
  },
  {
   "cell_type": "code",
   "execution_count": 8,
   "id": "facial-major",
   "metadata": {
    "colab": {
     "base_uri": "https://localhost:8080/",
     "height": 206
    },
    "executionInfo": {
     "elapsed": 382,
     "status": "ok",
     "timestamp": 1622677854601,
     "user": {
      "displayName": "David Guzzi",
      "photoUrl": "https://lh3.googleusercontent.com/a-/AOh14GhSjhgfhnxX5QmyhWy5jLH3NKcCVPEgEB9KwpG4Eg=s64",
      "userId": "10735015058891789975"
     },
     "user_tz": 180
    },
    "id": "facial-major",
    "outputId": "25a01e0d-52ad-4e7b-a5e2-4a0a74828737"
   },
   "outputs": [
    {
     "data": {
      "text/html": [
       "<div>\n",
       "<style scoped>\n",
       "    .dataframe tbody tr th:only-of-type {\n",
       "        vertical-align: middle;\n",
       "    }\n",
       "\n",
       "    .dataframe tbody tr th {\n",
       "        vertical-align: top;\n",
       "    }\n",
       "\n",
       "    .dataframe thead th {\n",
       "        text-align: right;\n",
       "    }\n",
       "</style>\n",
       "<table border=\"1\" class=\"dataframe\">\n",
       "  <thead>\n",
       "    <tr style=\"text-align: right;\">\n",
       "      <th></th>\n",
       "      <th>event_time</th>\n",
       "      <th>event_type</th>\n",
       "      <th>product_id</th>\n",
       "      <th>category_id</th>\n",
       "      <th>category_code</th>\n",
       "      <th>brand</th>\n",
       "      <th>price</th>\n",
       "      <th>user_id</th>\n",
       "      <th>user_session</th>\n",
       "    </tr>\n",
       "  </thead>\n",
       "  <tbody>\n",
       "    <tr>\n",
       "      <th>39054315</th>\n",
       "      <td>2019-10-29 07:06:41 UTC</td>\n",
       "      <td>view</td>\n",
       "      <td>1004767</td>\n",
       "      <td>2053013555631882655</td>\n",
       "      <td>electronics.smartphone</td>\n",
       "      <td>samsung</td>\n",
       "      <td>243.22</td>\n",
       "      <td>564343135</td>\n",
       "      <td>76be743b-f5cd-47a2-82eb-b489597df6ba</td>\n",
       "    </tr>\n",
       "    <tr>\n",
       "      <th>2640418</th>\n",
       "      <td>2019-10-03 06:05:30 UTC</td>\n",
       "      <td>view</td>\n",
       "      <td>26020177</td>\n",
       "      <td>2053013562644759347</td>\n",
       "      <td>None</td>\n",
       "      <td>None</td>\n",
       "      <td>9.05</td>\n",
       "      <td>529412421</td>\n",
       "      <td>0ee743f2-1a41-4e6f-8d8e-cd38135032a0</td>\n",
       "    </tr>\n",
       "    <tr>\n",
       "      <th>24303444</th>\n",
       "      <td>2019-10-18 14:21:55 UTC</td>\n",
       "      <td>view</td>\n",
       "      <td>1307059</td>\n",
       "      <td>2053013558920217191</td>\n",
       "      <td>computers.notebook</td>\n",
       "      <td>apple</td>\n",
       "      <td>1569.92</td>\n",
       "      <td>549727626</td>\n",
       "      <td>022640cb-f45a-4e76-9ade-3eeec65d7837</td>\n",
       "    </tr>\n",
       "    <tr>\n",
       "      <th>16337102</th>\n",
       "      <td>2019-10-13 08:46:22 UTC</td>\n",
       "      <td>view</td>\n",
       "      <td>12709948</td>\n",
       "      <td>2053013553559896355</td>\n",
       "      <td>None</td>\n",
       "      <td>triangle</td>\n",
       "      <td>36.94</td>\n",
       "      <td>550305198</td>\n",
       "      <td>56ef2383-4c9d-4475-adcd-d4eeb4205fde</td>\n",
       "    </tr>\n",
       "    <tr>\n",
       "      <th>41227753</th>\n",
       "      <td>2019-10-31 02:05:01 UTC</td>\n",
       "      <td>view</td>\n",
       "      <td>1005160</td>\n",
       "      <td>2053013555631882655</td>\n",
       "      <td>electronics.smartphone</td>\n",
       "      <td>xiaomi</td>\n",
       "      <td>212.12</td>\n",
       "      <td>535374900</td>\n",
       "      <td>a4ee5bfa-3824-4f66-87fb-0d0ae358f307</td>\n",
       "    </tr>\n",
       "  </tbody>\n",
       "</table>\n",
       "</div>"
      ],
      "text/plain": [
       "                       event_time event_type  product_id          category_id  \\\n",
       "39054315  2019-10-29 07:06:41 UTC       view     1004767  2053013555631882655   \n",
       "2640418   2019-10-03 06:05:30 UTC       view    26020177  2053013562644759347   \n",
       "24303444  2019-10-18 14:21:55 UTC       view     1307059  2053013558920217191   \n",
       "16337102  2019-10-13 08:46:22 UTC       view    12709948  2053013553559896355   \n",
       "41227753  2019-10-31 02:05:01 UTC       view     1005160  2053013555631882655   \n",
       "\n",
       "                   category_code     brand   price    user_id  \\\n",
       "39054315  electronics.smartphone   samsung  243.22  564343135   \n",
       "2640418                     None      None    9.05  529412421   \n",
       "24303444      computers.notebook     apple 1569.92  549727626   \n",
       "16337102                    None  triangle   36.94  550305198   \n",
       "41227753  electronics.smartphone    xiaomi  212.12  535374900   \n",
       "\n",
       "                                  user_session  \n",
       "39054315  76be743b-f5cd-47a2-82eb-b489597df6ba  \n",
       "2640418   0ee743f2-1a41-4e6f-8d8e-cd38135032a0  \n",
       "24303444  022640cb-f45a-4e76-9ade-3eeec65d7837  \n",
       "16337102  56ef2383-4c9d-4475-adcd-d4eeb4205fde  \n",
       "41227753  a4ee5bfa-3824-4f66-87fb-0d0ae358f307  "
      ]
     },
     "execution_count": 8,
     "metadata": {},
     "output_type": "execute_result"
    }
   ],
   "source": [
    "#Visualization of the dataset.\n",
    "df.head()"
   ]
  },
  {
   "cell_type": "code",
   "execution_count": 9,
   "id": "round-diving",
   "metadata": {
    "colab": {
     "base_uri": "https://localhost:8080/"
    },
    "executionInfo": {
     "elapsed": 355,
     "status": "ok",
     "timestamp": 1622677859468,
     "user": {
      "displayName": "David Guzzi",
      "photoUrl": "https://lh3.googleusercontent.com/a-/AOh14GhSjhgfhnxX5QmyhWy5jLH3NKcCVPEgEB9KwpG4Eg=s64",
      "userId": "10735015058891789975"
     },
     "user_tz": 180
    },
    "id": "round-diving",
    "outputId": "fd7d2805-ef46-47c9-d216-b8777aa71520"
   },
   "outputs": [
    {
     "data": {
      "text/plain": [
       "(6084217, 9)"
      ]
     },
     "execution_count": 9,
     "metadata": {},
     "output_type": "execute_result"
    }
   ],
   "source": [
    "#Number of rows and columns, respectively.\n",
    "df.shape"
   ]
  },
  {
   "cell_type": "code",
   "execution_count": 10,
   "id": "presidential-complex",
   "metadata": {
    "colab": {
     "base_uri": "https://localhost:8080/"
    },
    "executionInfo": {
     "elapsed": 5,
     "status": "ok",
     "timestamp": 1622677861375,
     "user": {
      "displayName": "David Guzzi",
      "photoUrl": "https://lh3.googleusercontent.com/a-/AOh14GhSjhgfhnxX5QmyhWy5jLH3NKcCVPEgEB9KwpG4Eg=s64",
      "userId": "10735015058891789975"
     },
     "user_tz": 180
    },
    "id": "presidential-complex",
    "outputId": "974836d5-e41a-4944-9715-2597de24327b"
   },
   "outputs": [
    {
     "data": {
      "text/plain": [
       "event_time        object\n",
       "event_type        object\n",
       "product_id         int64\n",
       "category_id        int64\n",
       "category_code     object\n",
       "brand             object\n",
       "price            float64\n",
       "user_id            int64\n",
       "user_session      object\n",
       "dtype: object"
      ]
     },
     "execution_count": 10,
     "metadata": {},
     "output_type": "execute_result"
    }
   ],
   "source": [
    "#Data type of each column.\n",
    "df.dtypes "
   ]
  },
  {
   "cell_type": "code",
   "execution_count": 11,
   "id": "UM4DezRLiYjX",
   "metadata": {
    "colab": {
     "base_uri": "https://localhost:8080/"
    },
    "executionInfo": {
     "elapsed": 376,
     "status": "ok",
     "timestamp": 1622677967125,
     "user": {
      "displayName": "David Guzzi",
      "photoUrl": "https://lh3.googleusercontent.com/a-/AOh14GhSjhgfhnxX5QmyhWy5jLH3NKcCVPEgEB9KwpG4Eg=s64",
      "userId": "10735015058891789975"
     },
     "user_tz": 180
    },
    "id": "UM4DezRLiYjX",
    "outputId": "905a03fe-f87b-4146-ae8d-93114b272a2c"
   },
   "outputs": [
    {
     "data": {
      "text/plain": [
       "127"
      ]
     },
     "execution_count": 11,
     "metadata": {},
     "output_type": "execute_result"
    }
   ],
   "source": [
    "#Number of unique categories offered.\n",
    "len(df.category_code.unique())"
   ]
  },
  {
   "cell_type": "code",
   "execution_count": 12,
   "id": "EkpdKb-ujRo8",
   "metadata": {
    "colab": {
     "base_uri": "https://localhost:8080/"
    },
    "executionInfo": {
     "elapsed": 356,
     "status": "ok",
     "timestamp": 1622677950502,
     "user": {
      "displayName": "David Guzzi",
      "photoUrl": "https://lh3.googleusercontent.com/a-/AOh14GhSjhgfhnxX5QmyhWy5jLH3NKcCVPEgEB9KwpG4Eg=s64",
      "userId": "10735015058891789975"
     },
     "user_tz": 180
    },
    "id": "EkpdKb-ujRo8",
    "outputId": "fb3b8912-2a2a-4367-9ae5-2822ee34b949"
   },
   "outputs": [
    {
     "data": {
      "text/plain": [
       "128487"
      ]
     },
     "execution_count": 12,
     "metadata": {},
     "output_type": "execute_result"
    }
   ],
   "source": [
    "#Number of unique products available.\n",
    "len(df.product_id.unique())"
   ]
  },
  {
   "cell_type": "code",
   "execution_count": 13,
   "id": "j4p81xK0kHwi",
   "metadata": {
    "colab": {
     "base_uri": "https://localhost:8080/"
    },
    "executionInfo": {
     "elapsed": 351,
     "status": "ok",
     "timestamp": 1622678075616,
     "user": {
      "displayName": "David Guzzi",
      "photoUrl": "https://lh3.googleusercontent.com/a-/AOh14GhSjhgfhnxX5QmyhWy5jLH3NKcCVPEgEB9KwpG4Eg=s64",
      "userId": "10735015058891789975"
     },
     "user_tz": 180
    },
    "id": "j4p81xK0kHwi",
    "outputId": "d1c02373-ffb3-42b6-ca31-c676c74cf968"
   },
   "outputs": [
    {
     "data": {
      "text/plain": [
       "614"
      ]
     },
     "execution_count": 13,
     "metadata": {},
     "output_type": "execute_result"
    }
   ],
   "source": [
    "#Number of unique subcategories available.\n",
    "len(df.category_id.unique())"
   ]
  },
  {
   "cell_type": "code",
   "execution_count": 14,
   "id": "kSZsPjlJkK07",
   "metadata": {
    "colab": {
     "base_uri": "https://localhost:8080/"
    },
    "executionInfo": {
     "elapsed": 349,
     "status": "ok",
     "timestamp": 1622678084241,
     "user": {
      "displayName": "David Guzzi",
      "photoUrl": "https://lh3.googleusercontent.com/a-/AOh14GhSjhgfhnxX5QmyhWy5jLH3NKcCVPEgEB9KwpG4Eg=s64",
      "userId": "10735015058891789975"
     },
     "user_tz": 180
    },
    "id": "kSZsPjlJkK07",
    "outputId": "2ad70a9a-4d59-4cd8-99ce-0c96df63633c"
   },
   "outputs": [
    {
     "data": {
      "text/plain": [
       "3172"
      ]
     },
     "execution_count": 14,
     "metadata": {},
     "output_type": "execute_result"
    }
   ],
   "source": [
    "#Number of unique brands available.\n",
    "len(df.brand.unique())"
   ]
  },
  {
   "cell_type": "code",
   "execution_count": 15,
   "id": "CcgvXRmrjhw9",
   "metadata": {
    "colab": {
     "base_uri": "https://localhost:8080/"
    },
    "executionInfo": {
     "elapsed": 581,
     "status": "ok",
     "timestamp": 1622678123191,
     "user": {
      "displayName": "David Guzzi",
      "photoUrl": "https://lh3.googleusercontent.com/a-/AOh14GhSjhgfhnxX5QmyhWy5jLH3NKcCVPEgEB9KwpG4Eg=s64",
      "userId": "10735015058891789975"
     },
     "user_tz": 180
    },
    "id": "CcgvXRmrjhw9",
    "outputId": "94121d9d-492d-4e16-9325-62eb7e1db63e"
   },
   "outputs": [
    {
     "data": {
      "text/plain": [
       "1028553"
      ]
     },
     "execution_count": 15,
     "metadata": {},
     "output_type": "execute_result"
    }
   ],
   "source": [
    "#Number of unique customers.\n",
    "len(df.user_id.unique())"
   ]
  },
  {
   "cell_type": "markdown",
   "id": "nKb7LRvKkigE",
   "metadata": {
    "id": "nKb7LRvKkigE"
   },
   "source": [
    "To understand **how the business is performing**, we want to identify which products are the most viewed and which ones are the most purchased.\n"
   ]
  },
  {
   "cell_type": "code",
   "execution_count": 16,
   "id": "mi8YIAlUKziD",
   "metadata": {
    "colab": {
     "base_uri": "https://localhost:8080/"
    },
    "executionInfo": {
     "elapsed": 347,
     "status": "ok",
     "timestamp": 1622678390370,
     "user": {
      "displayName": "David Guzzi",
      "photoUrl": "https://lh3.googleusercontent.com/a-/AOh14GhSjhgfhnxX5QmyhWy5jLH3NKcCVPEgEB9KwpG4Eg=s64",
      "userId": "10735015058891789975"
     },
     "user_tz": 180
    },
    "id": "mi8YIAlUKziD",
    "outputId": "997f1c9c-8140-42b5-92e0-7bbb3353be9b"
   },
   "outputs": [
    {
     "data": {
      "text/plain": [
       "view       0.92\n",
       "purchase   0.04\n",
       "cart       0.04\n",
       "Name: event_type, dtype: float64"
      ]
     },
     "execution_count": 16,
     "metadata": {},
     "output_type": "execute_result"
    }
   ],
   "source": [
    "df['event_type'].value_counts(normalize = True)"
   ]
  },
  {
   "cell_type": "code",
   "execution_count": 20,
   "id": "XwMwuPHMbjrV",
   "metadata": {
    "colab": {
     "base_uri": "https://localhost:8080/",
     "height": 416
    },
    "executionInfo": {
     "elapsed": 1566,
     "status": "ok",
     "timestamp": 1622678161619,
     "user": {
      "displayName": "David Guzzi",
      "photoUrl": "https://lh3.googleusercontent.com/a-/AOh14GhSjhgfhnxX5QmyhWy5jLH3NKcCVPEgEB9KwpG4Eg=s64",
      "userId": "10735015058891789975"
     },
     "user_tz": 180
    },
    "id": "XwMwuPHMbjrV",
    "outputId": "0a063c86-bb3f-418a-b72c-41c1ce498a21"
   },
   "outputs": [
    {
     "data": {
      "image/png": "[encoded data removed]",
      "text/plain": [
       "<Figure size 432x288 with 1 Axes>"
      ]
     },
     "metadata": {
      "needs_background": "light"
     },
     "output_type": "display_data"
    }
   ],
   "source": [
    "vistas = df[df['event_type']=='view']['category_code'].value_counts(normalize = True)[:5].plot.bar(ylabel= 'Proportion', title='Proportion of views by category')\n",
    "plt.ticklabel_format(style=\"plain\", axis=\"y\")\n",
    "for p in vistas.patches:\n",
    "    vistas.annotate(str(round(p.get_height(),2)), (p.get_x() * 1.005, p.get_height() * 1.005))"
   ]
  },
  {
   "cell_type": "code",
   "execution_count": 21,
   "id": "dZ5scKhZd01e",
   "metadata": {
    "colab": {
     "base_uri": "https://localhost:8080/",
     "height": 416
    },
    "executionInfo": {
     "elapsed": 956,
     "status": "ok",
     "timestamp": 1622678169416,
     "user": {
      "displayName": "David Guzzi",
      "photoUrl": "https://lh3.googleusercontent.com/a-/AOh14GhSjhgfhnxX5QmyhWy5jLH3NKcCVPEgEB9KwpG4Eg=s64",
      "userId": "10735015058891789975"
     },
     "user_tz": 180
    },
    "id": "dZ5scKhZd01e",
    "outputId": "d987d1dc-5b3d-4a9c-b8d5-a616de349355"
   },
   "outputs": [
    {
     "data": {
      "image/png": "[encoded data removed]",
      "text/plain": [
       "<Figure size 432x288 with 1 Axes>"
      ]
     },
     "metadata": {
      "needs_background": "light"
     },
     "output_type": "display_data"
    }
   ],
   "source": [
    "compras = df[df['event_type']=='purchase']['category_code'].value_counts(normalize = True)[:5].plot.bar(ylabel= 'Proportion', title='Proportion of purchases by category')\n",
    "plt.ticklabel_format(style=\"plain\", axis=\"y\")\n",
    "for p in compras.patches:\n",
    "    compras.annotate(str(round(p.get_height(),2)), (p.get_x() * 1.005, p.get_height() * 1.005))"
   ]
  },
  {
   "cell_type": "code",
   "execution_count": 22,
   "id": "gMHPBIHIJ_-O",
   "metadata": {
    "colab": {
     "base_uri": "https://localhost:8080/",
     "height": 416
    },
    "executionInfo": {
     "elapsed": 945,
     "status": "ok",
     "timestamp": 1622678333674,
     "user": {
      "displayName": "David Guzzi",
      "photoUrl": "https://lh3.googleusercontent.com/a-/AOh14GhSjhgfhnxX5QmyhWy5jLH3NKcCVPEgEB9KwpG4Eg=s64",
      "userId": "10735015058891789975"
     },
     "user_tz": 180
    },
    "id": "gMHPBIHIJ_-O",
    "outputId": "f577e10f-4fbd-4fd9-884e-47c12012a322"
   },
   "outputs": [
    {
     "data": {
      "image/png": "[encoded data removed]",
      "text/plain": [
       "<Figure size 432x288 with 1 Axes>"
      ]
     },
     "metadata": {
      "needs_background": "light"
     },
     "output_type": "display_data"
    }
   ],
   "source": [
    "carros = df[df['event_type']=='cart']['category_code'].value_counts(normalize = True)[:5].plot.bar(ylabel= 'Proportion', title='Proportion of cars by category')\n",
    "plt.ticklabel_format(style=\"plain\", axis=\"y\")\n",
    "for p in carros.patches:\n",
    "    carros.annotate(str(round(p.get_height(),2)), (p.get_x() * 1.005, p.get_height() * 1.005))"
   ]
  },
  {
   "cell_type": "markdown",
   "id": "3iz1ipDDd7gO",
   "metadata": {
    "id": "3iz1ipDDd7gO"
   },
   "source": [
    "The atypical case of **Notebooks** is generated: it appears within the most viewed categories but not within the most purchased categories. \n",
    "We will try to corroborate this."
   ]
  },
  {
   "cell_type": "code",
   "execution_count": 23,
   "id": "colonial-complex",
   "metadata": {
    "executionInfo": {
     "elapsed": 17712,
     "status": "ok",
     "timestamp": 1622678417813,
     "user": {
      "displayName": "David Guzzi",
      "photoUrl": "https://lh3.googleusercontent.com/a-/AOh14GhSjhgfhnxX5QmyhWy5jLH3NKcCVPEgEB9KwpG4Eg=s64",
      "userId": "10735015058891789975"
     },
     "user_tz": 180
    },
    "id": "colonial-complex"
   },
   "outputs": [],
   "source": [
    "df_categories = df['category_code'].str.split('.',expand=True)\n",
    "df_categories.columns = ['N0','N1','N2','N3']"
   ]
  },
  {
   "cell_type": "code",
   "execution_count": 24,
   "id": "minute-memorabilia",
   "metadata": {
    "colab": {
     "base_uri": "https://localhost:8080/",
     "height": 424
    },
    "executionInfo": {
     "elapsed": 705,
     "status": "ok",
     "timestamp": 1622678433859,
     "user": {
      "displayName": "David Guzzi",
      "photoUrl": "https://lh3.googleusercontent.com/a-/AOh14GhSjhgfhnxX5QmyhWy5jLH3NKcCVPEgEB9KwpG4Eg=s64",
      "userId": "10735015058891789975"
     },
     "user_tz": 180
    },
    "id": "minute-memorabilia",
    "outputId": "229a7111-6f20-4958-b34c-dd27b218f922"
   },
   "outputs": [
    {
     "data": {
      "text/html": [
       "<div>\n",
       "<style scoped>\n",
       "    .dataframe tbody tr th:only-of-type {\n",
       "        vertical-align: middle;\n",
       "    }\n",
       "\n",
       "    .dataframe tbody tr th {\n",
       "        vertical-align: top;\n",
       "    }\n",
       "\n",
       "    .dataframe thead th {\n",
       "        text-align: right;\n",
       "    }\n",
       "</style>\n",
       "<table border=\"1\" class=\"dataframe\">\n",
       "  <thead>\n",
       "    <tr style=\"text-align: right;\">\n",
       "      <th></th>\n",
       "      <th>N0</th>\n",
       "      <th>N1</th>\n",
       "      <th>N2</th>\n",
       "      <th>N3</th>\n",
       "    </tr>\n",
       "  </thead>\n",
       "  <tbody>\n",
       "    <tr>\n",
       "      <th>39054315</th>\n",
       "      <td>electronics</td>\n",
       "      <td>smartphone</td>\n",
       "      <td>None</td>\n",
       "      <td>None</td>\n",
       "    </tr>\n",
       "    <tr>\n",
       "      <th>2640418</th>\n",
       "      <td>None</td>\n",
       "      <td>None</td>\n",
       "      <td>None</td>\n",
       "      <td>None</td>\n",
       "    </tr>\n",
       "    <tr>\n",
       "      <th>24303444</th>\n",
       "      <td>computers</td>\n",
       "      <td>notebook</td>\n",
       "      <td>None</td>\n",
       "      <td>None</td>\n",
       "    </tr>\n",
       "    <tr>\n",
       "      <th>16337102</th>\n",
       "      <td>None</td>\n",
       "      <td>None</td>\n",
       "      <td>None</td>\n",
       "      <td>None</td>\n",
       "    </tr>\n",
       "    <tr>\n",
       "      <th>41227753</th>\n",
       "      <td>electronics</td>\n",
       "      <td>smartphone</td>\n",
       "      <td>None</td>\n",
       "      <td>None</td>\n",
       "    </tr>\n",
       "    <tr>\n",
       "      <th>...</th>\n",
       "      <td>...</td>\n",
       "      <td>...</td>\n",
       "      <td>...</td>\n",
       "      <td>...</td>\n",
       "    </tr>\n",
       "    <tr>\n",
       "      <th>42448589</th>\n",
       "      <td>None</td>\n",
       "      <td>None</td>\n",
       "      <td>None</td>\n",
       "      <td>None</td>\n",
       "    </tr>\n",
       "    <tr>\n",
       "      <th>42448614</th>\n",
       "      <td>electronics</td>\n",
       "      <td>audio</td>\n",
       "      <td>subwoofer</td>\n",
       "      <td>None</td>\n",
       "    </tr>\n",
       "    <tr>\n",
       "      <th>42448669</th>\n",
       "      <td>electronics</td>\n",
       "      <td>audio</td>\n",
       "      <td>subwoofer</td>\n",
       "      <td>None</td>\n",
       "    </tr>\n",
       "    <tr>\n",
       "      <th>42448734</th>\n",
       "      <td>None</td>\n",
       "      <td>None</td>\n",
       "      <td>None</td>\n",
       "      <td>None</td>\n",
       "    </tr>\n",
       "    <tr>\n",
       "      <th>42448749</th>\n",
       "      <td>electronics</td>\n",
       "      <td>audio</td>\n",
       "      <td>subwoofer</td>\n",
       "      <td>None</td>\n",
       "    </tr>\n",
       "  </tbody>\n",
       "</table>\n",
       "<p>6084217 rows × 4 columns</p>\n",
       "</div>"
      ],
      "text/plain": [
       "                   N0          N1         N2    N3\n",
       "39054315  electronics  smartphone       None  None\n",
       "2640418          None        None       None  None\n",
       "24303444    computers    notebook       None  None\n",
       "16337102         None        None       None  None\n",
       "41227753  electronics  smartphone       None  None\n",
       "...               ...         ...        ...   ...\n",
       "42448589         None        None       None  None\n",
       "42448614  electronics       audio  subwoofer  None\n",
       "42448669  electronics       audio  subwoofer  None\n",
       "42448734         None        None       None  None\n",
       "42448749  electronics       audio  subwoofer  None\n",
       "\n",
       "[6084217 rows x 4 columns]"
      ]
     },
     "execution_count": 24,
     "metadata": {},
     "output_type": "execute_result"
    }
   ],
   "source": [
    "df_categories"
   ]
  },
  {
   "cell_type": "code",
   "execution_count": 25,
   "id": "three-young",
   "metadata": {
    "executionInfo": {
     "elapsed": 1489,
     "status": "ok",
     "timestamp": 1622678438867,
     "user": {
      "displayName": "David Guzzi",
      "photoUrl": "https://lh3.googleusercontent.com/a-/AOh14GhSjhgfhnxX5QmyhWy5jLH3NKcCVPEgEB9KwpG4Eg=s64",
      "userId": "10735015058891789975"
     },
     "user_tz": 180
    },
    "id": "three-young"
   },
   "outputs": [],
   "source": [
    "df = pd.concat([df,df_categories],axis=1)"
   ]
  },
  {
   "cell_type": "code",
   "execution_count": 26,
   "id": "FR7ZTIgKeZ1z",
   "metadata": {
    "colab": {
     "base_uri": "https://localhost:8080/",
     "height": 345
    },
    "executionInfo": {
     "elapsed": 11,
     "status": "ok",
     "timestamp": 1622678440784,
     "user": {
      "displayName": "David Guzzi",
      "photoUrl": "https://lh3.googleusercontent.com/a-/AOh14GhSjhgfhnxX5QmyhWy5jLH3NKcCVPEgEB9KwpG4Eg=s64",
      "userId": "10735015058891789975"
     },
     "user_tz": 180
    },
    "id": "FR7ZTIgKeZ1z",
    "outputId": "db56aec4-fd2e-4ca6-ab75-ad52fa5613d3"
   },
   "outputs": [
    {
     "data": {
      "text/html": [
       "<div>\n",
       "<style scoped>\n",
       "    .dataframe tbody tr th:only-of-type {\n",
       "        vertical-align: middle;\n",
       "    }\n",
       "\n",
       "    .dataframe tbody tr th {\n",
       "        vertical-align: top;\n",
       "    }\n",
       "\n",
       "    .dataframe thead th {\n",
       "        text-align: right;\n",
       "    }\n",
       "</style>\n",
       "<table border=\"1\" class=\"dataframe\">\n",
       "  <thead>\n",
       "    <tr style=\"text-align: right;\">\n",
       "      <th></th>\n",
       "      <th>event_time</th>\n",
       "      <th>event_type</th>\n",
       "      <th>product_id</th>\n",
       "      <th>category_id</th>\n",
       "      <th>category_code</th>\n",
       "      <th>brand</th>\n",
       "      <th>price</th>\n",
       "      <th>user_id</th>\n",
       "      <th>user_session</th>\n",
       "      <th>N0</th>\n",
       "      <th>N1</th>\n",
       "      <th>N2</th>\n",
       "      <th>N3</th>\n",
       "    </tr>\n",
       "  </thead>\n",
       "  <tbody>\n",
       "    <tr>\n",
       "      <th>39054315</th>\n",
       "      <td>2019-10-29 07:06:41 UTC</td>\n",
       "      <td>view</td>\n",
       "      <td>1004767</td>\n",
       "      <td>2053013555631882655</td>\n",
       "      <td>electronics.smartphone</td>\n",
       "      <td>samsung</td>\n",
       "      <td>243.22</td>\n",
       "      <td>564343135</td>\n",
       "      <td>76be743b-f5cd-47a2-82eb-b489597df6ba</td>\n",
       "      <td>electronics</td>\n",
       "      <td>smartphone</td>\n",
       "      <td>None</td>\n",
       "      <td>None</td>\n",
       "    </tr>\n",
       "    <tr>\n",
       "      <th>2640418</th>\n",
       "      <td>2019-10-03 06:05:30 UTC</td>\n",
       "      <td>view</td>\n",
       "      <td>26020177</td>\n",
       "      <td>2053013562644759347</td>\n",
       "      <td>None</td>\n",
       "      <td>None</td>\n",
       "      <td>9.05</td>\n",
       "      <td>529412421</td>\n",
       "      <td>0ee743f2-1a41-4e6f-8d8e-cd38135032a0</td>\n",
       "      <td>None</td>\n",
       "      <td>None</td>\n",
       "      <td>None</td>\n",
       "      <td>None</td>\n",
       "    </tr>\n",
       "    <tr>\n",
       "      <th>24303444</th>\n",
       "      <td>2019-10-18 14:21:55 UTC</td>\n",
       "      <td>view</td>\n",
       "      <td>1307059</td>\n",
       "      <td>2053013558920217191</td>\n",
       "      <td>computers.notebook</td>\n",
       "      <td>apple</td>\n",
       "      <td>1569.92</td>\n",
       "      <td>549727626</td>\n",
       "      <td>022640cb-f45a-4e76-9ade-3eeec65d7837</td>\n",
       "      <td>computers</td>\n",
       "      <td>notebook</td>\n",
       "      <td>None</td>\n",
       "      <td>None</td>\n",
       "    </tr>\n",
       "    <tr>\n",
       "      <th>16337102</th>\n",
       "      <td>2019-10-13 08:46:22 UTC</td>\n",
       "      <td>view</td>\n",
       "      <td>12709948</td>\n",
       "      <td>2053013553559896355</td>\n",
       "      <td>None</td>\n",
       "      <td>triangle</td>\n",
       "      <td>36.94</td>\n",
       "      <td>550305198</td>\n",
       "      <td>56ef2383-4c9d-4475-adcd-d4eeb4205fde</td>\n",
       "      <td>None</td>\n",
       "      <td>None</td>\n",
       "      <td>None</td>\n",
       "      <td>None</td>\n",
       "    </tr>\n",
       "    <tr>\n",
       "      <th>41227753</th>\n",
       "      <td>2019-10-31 02:05:01 UTC</td>\n",
       "      <td>view</td>\n",
       "      <td>1005160</td>\n",
       "      <td>2053013555631882655</td>\n",
       "      <td>electronics.smartphone</td>\n",
       "      <td>xiaomi</td>\n",
       "      <td>212.12</td>\n",
       "      <td>535374900</td>\n",
       "      <td>a4ee5bfa-3824-4f66-87fb-0d0ae358f307</td>\n",
       "      <td>electronics</td>\n",
       "      <td>smartphone</td>\n",
       "      <td>None</td>\n",
       "      <td>None</td>\n",
       "    </tr>\n",
       "  </tbody>\n",
       "</table>\n",
       "</div>"
      ],
      "text/plain": [
       "                       event_time event_type  product_id          category_id  \\\n",
       "39054315  2019-10-29 07:06:41 UTC       view     1004767  2053013555631882655   \n",
       "2640418   2019-10-03 06:05:30 UTC       view    26020177  2053013562644759347   \n",
       "24303444  2019-10-18 14:21:55 UTC       view     1307059  2053013558920217191   \n",
       "16337102  2019-10-13 08:46:22 UTC       view    12709948  2053013553559896355   \n",
       "41227753  2019-10-31 02:05:01 UTC       view     1005160  2053013555631882655   \n",
       "\n",
       "                   category_code     brand   price    user_id  \\\n",
       "39054315  electronics.smartphone   samsung  243.22  564343135   \n",
       "2640418                     None      None    9.05  529412421   \n",
       "24303444      computers.notebook     apple 1569.92  549727626   \n",
       "16337102                    None  triangle   36.94  550305198   \n",
       "41227753  electronics.smartphone    xiaomi  212.12  535374900   \n",
       "\n",
       "                                  user_session           N0          N1    N2  \\\n",
       "39054315  76be743b-f5cd-47a2-82eb-b489597df6ba  electronics  smartphone  None   \n",
       "2640418   0ee743f2-1a41-4e6f-8d8e-cd38135032a0         None        None  None   \n",
       "24303444  022640cb-f45a-4e76-9ade-3eeec65d7837    computers    notebook  None   \n",
       "16337102  56ef2383-4c9d-4475-adcd-d4eeb4205fde         None        None  None   \n",
       "41227753  a4ee5bfa-3824-4f66-87fb-0d0ae358f307  electronics  smartphone  None   \n",
       "\n",
       "            N3  \n",
       "39054315  None  \n",
       "2640418   None  \n",
       "24303444  None  \n",
       "16337102  None  \n",
       "41227753  None  "
      ]
     },
     "execution_count": 26,
     "metadata": {},
     "output_type": "execute_result"
    }
   ],
   "source": [
    "df.head()"
   ]
  },
  {
   "cell_type": "code",
   "execution_count": 27,
   "id": "fresh-tracy",
   "metadata": {
    "colab": {
     "base_uri": "https://localhost:8080/",
     "height": 335
    },
    "executionInfo": {
     "elapsed": 5564,
     "status": "ok",
     "timestamp": 1622678453860,
     "user": {
      "displayName": "David Guzzi",
      "photoUrl": "https://lh3.googleusercontent.com/a-/AOh14GhSjhgfhnxX5QmyhWy5jLH3NKcCVPEgEB9KwpG4Eg=s64",
      "userId": "10735015058891789975"
     },
     "user_tz": 180
    },
    "id": "fresh-tracy",
    "outputId": "9878a859-77f0-411a-b78c-221441624b31"
   },
   "outputs": [
    {
     "data": {
      "image/png": "[encoded data removed]",
      "text/plain": [
       "<Figure size 432x288 with 1 Axes>"
      ]
     },
     "metadata": {
      "needs_background": "light"
     },
     "output_type": "display_data"
    }
   ],
   "source": [
    "vistas_2 = df[df['event_type']=='view']['N1'].value_counts(normalize = True)[:10].plot.bar(ylabel= 'Proportion', title='Proportion of views by subcategory')\n",
    "plt.ticklabel_format(style=\"plain\", axis=\"y\")\n",
    "for p in vistas_2.patches:\n",
    "    vistas_2.annotate(str(round(p.get_height(),2)), (p.get_x() * 1.005, p.get_height() * 1.005))"
   ]
  },
  {
   "cell_type": "code",
   "execution_count": 28,
   "id": "burning-damage",
   "metadata": {
    "colab": {
     "base_uri": "https://localhost:8080/",
     "height": 335
    },
    "executionInfo": {
     "elapsed": 1076,
     "status": "ok",
     "timestamp": 1622678460194,
     "user": {
      "displayName": "David Guzzi",
      "photoUrl": "https://lh3.googleusercontent.com/a-/AOh14GhSjhgfhnxX5QmyhWy5jLH3NKcCVPEgEB9KwpG4Eg=s64",
      "userId": "10735015058891789975"
     },
     "user_tz": 180
    },
    "id": "burning-damage",
    "outputId": "b1d99285-4642-4bdc-d3b2-310a127f1f23"
   },
   "outputs": [
    {
     "data": {
      "image/png": "[encoded data removed]",
      "text/plain": [
       "<Figure size 432x288 with 1 Axes>"
      ]
     },
     "metadata": {
      "needs_background": "light"
     },
     "output_type": "display_data"
    }
   ],
   "source": [
    "compras_2 = df[df['event_type']=='purchase']['N1'].value_counts(normalize = True)[:10].plot.bar(ylabel= 'Proportion', title='Proportion of sales by subcategory')\n",
    "plt.ticklabel_format(style=\"plain\", axis=\"y\")\n",
    "for p in compras_2.patches:\n",
    "    compras_2.annotate(str(round(p.get_height(),2)), (p.get_x() * 1.005, p.get_height() * 1.005))"
   ]
  },
  {
   "cell_type": "code",
   "execution_count": 29,
   "id": "tiQxBLwoLGuQ",
   "metadata": {
    "colab": {
     "base_uri": "https://localhost:8080/",
     "height": 335
    },
    "executionInfo": {
     "elapsed": 1127,
     "status": "ok",
     "timestamp": 1622678497039,
     "user": {
      "displayName": "David Guzzi",
      "photoUrl": "https://lh3.googleusercontent.com/a-/AOh14GhSjhgfhnxX5QmyhWy5jLH3NKcCVPEgEB9KwpG4Eg=s64",
      "userId": "10735015058891789975"
     },
     "user_tz": 180
    },
    "id": "tiQxBLwoLGuQ",
    "outputId": "6e7e6877-8d77-4fb1-f2b8-4b8ea876a629"
   },
   "outputs": [
    {
     "data": {
      "image/png": "[encoded data removed]",
      "text/plain": [
       "<Figure size 432x288 with 1 Axes>"
      ]
     },
     "metadata": {
      "needs_background": "light"
     },
     "output_type": "display_data"
    }
   ],
   "source": [
    "carros_2 = df[df['event_type']=='cart']['N1'].value_counts(normalize = True)[:10].plot.bar(ylabel= 'Proportion', title='Proportion of cars by subcategories')\n",
    "plt.ticklabel_format(style=\"plain\", axis=\"y\")\n",
    "for p in carros_2.patches:\n",
    "    carros_2.annotate(str(round(p.get_height(),2)), (p.get_x() * 1.005, p.get_height() * 1.005))"
   ]
  },
  {
   "cell_type": "markdown",
   "id": "HRU1q3G7fZzG",
   "metadata": {
    "id": "HRU1q3G7fZzG"
   },
   "source": [
    "When grouping by subcategories, the atypical case disappears. **Notebook** purchases are in line with their views.\n"
   ]
  },
  {
   "cell_type": "markdown",
   "id": "caroline-documentation",
   "metadata": {
    "id": "caroline-documentation"
   },
   "source": [
    "### **Assumption:** The company's objective is to increase the sales of Notebooks."
   ]
  },
  {
   "cell_type": "markdown",
   "id": "bd000b73",
   "metadata": {},
   "source": [
    "## **Therefore, we will work only with the 'computers.notebook' category.** "
   ]
  },
  {
   "cell_type": "code",
   "execution_count": 30,
   "id": "narrative-special",
   "metadata": {
    "executionInfo": {
     "elapsed": 346,
     "status": "ok",
     "timestamp": 1622678508167,
     "user": {
      "displayName": "David Guzzi",
      "photoUrl": "https://lh3.googleusercontent.com/a-/AOh14GhSjhgfhnxX5QmyhWy5jLH3NKcCVPEgEB9KwpG4Eg=s64",
      "userId": "10735015058891789975"
     },
     "user_tz": 180
    },
    "id": "narrative-special"
   },
   "outputs": [],
   "source": [
    "df_notebook=df[df['category_code']=='computers.notebook'].copy()\n",
    "df_notebook= df_notebook.reset_index()"
   ]
  },
  {
   "cell_type": "markdown",
   "id": "whole-technical",
   "metadata": {
    "id": "whole-technical"
   },
   "source": [
    "## **DATA CLEANING**"
   ]
  },
  {
   "cell_type": "code",
   "execution_count": 31,
   "id": "afraid-belize",
   "metadata": {
    "colab": {
     "base_uri": "https://localhost:8080/",
     "height": 424
    },
    "executionInfo": {
     "elapsed": 375,
     "status": "ok",
     "timestamp": 1622678513507,
     "user": {
      "displayName": "David Guzzi",
      "photoUrl": "https://lh3.googleusercontent.com/a-/AOh14GhSjhgfhnxX5QmyhWy5jLH3NKcCVPEgEB9KwpG4Eg=s64",
      "userId": "10735015058891789975"
     },
     "user_tz": 180
    },
    "id": "afraid-belize",
    "outputId": "2dbbf172-efa8-4aaa-91f8-486965012a6e"
   },
   "outputs": [
    {
     "data": {
      "text/html": [
       "<div>\n",
       "<style scoped>\n",
       "    .dataframe tbody tr th:only-of-type {\n",
       "        vertical-align: middle;\n",
       "    }\n",
       "\n",
       "    .dataframe tbody tr th {\n",
       "        vertical-align: top;\n",
       "    }\n",
       "\n",
       "    .dataframe thead th {\n",
       "        text-align: right;\n",
       "    }\n",
       "</style>\n",
       "<table border=\"1\" class=\"dataframe\">\n",
       "  <thead>\n",
       "    <tr style=\"text-align: right;\">\n",
       "      <th></th>\n",
       "      <th>index</th>\n",
       "      <th>event_time</th>\n",
       "      <th>event_type</th>\n",
       "      <th>product_id</th>\n",
       "      <th>category_id</th>\n",
       "      <th>category_code</th>\n",
       "      <th>brand</th>\n",
       "      <th>price</th>\n",
       "      <th>user_id</th>\n",
       "      <th>N0</th>\n",
       "      <th>N1</th>\n",
       "      <th>N2</th>\n",
       "      <th>N3</th>\n",
       "    </tr>\n",
       "  </thead>\n",
       "  <tbody>\n",
       "    <tr>\n",
       "      <th>0</th>\n",
       "      <td>24303444</td>\n",
       "      <td>2019-10-18 14:21:55 UTC</td>\n",
       "      <td>view</td>\n",
       "      <td>1307059</td>\n",
       "      <td>2053013558920217191</td>\n",
       "      <td>computers.notebook</td>\n",
       "      <td>apple</td>\n",
       "      <td>1569.92</td>\n",
       "      <td>549727626</td>\n",
       "      <td>computers</td>\n",
       "      <td>notebook</td>\n",
       "      <td>None</td>\n",
       "      <td>None</td>\n",
       "    </tr>\n",
       "    <tr>\n",
       "      <th>1</th>\n",
       "      <td>5398322</td>\n",
       "      <td>2019-10-05 08:20:00 UTC</td>\n",
       "      <td>view</td>\n",
       "      <td>1307344</td>\n",
       "      <td>2053013558920217191</td>\n",
       "      <td>computers.notebook</td>\n",
       "      <td>asus</td>\n",
       "      <td>540.53</td>\n",
       "      <td>549734639</td>\n",
       "      <td>computers</td>\n",
       "      <td>notebook</td>\n",
       "      <td>None</td>\n",
       "      <td>None</td>\n",
       "    </tr>\n",
       "    <tr>\n",
       "      <th>2</th>\n",
       "      <td>12732638</td>\n",
       "      <td>2019-10-10 19:00:37 UTC</td>\n",
       "      <td>view</td>\n",
       "      <td>1306691</td>\n",
       "      <td>2053013558920217191</td>\n",
       "      <td>computers.notebook</td>\n",
       "      <td>lenovo</td>\n",
       "      <td>373.06</td>\n",
       "      <td>513074495</td>\n",
       "      <td>computers</td>\n",
       "      <td>notebook</td>\n",
       "      <td>None</td>\n",
       "      <td>None</td>\n",
       "    </tr>\n",
       "    <tr>\n",
       "      <th>3</th>\n",
       "      <td>10624462</td>\n",
       "      <td>2019-10-09 08:19:46 UTC</td>\n",
       "      <td>view</td>\n",
       "      <td>1306686</td>\n",
       "      <td>2053013558920217191</td>\n",
       "      <td>computers.notebook</td>\n",
       "      <td>prestigio</td>\n",
       "      <td>257.15</td>\n",
       "      <td>558355847</td>\n",
       "      <td>computers</td>\n",
       "      <td>notebook</td>\n",
       "      <td>None</td>\n",
       "      <td>None</td>\n",
       "    </tr>\n",
       "    <tr>\n",
       "      <th>4</th>\n",
       "      <td>2388466</td>\n",
       "      <td>2019-10-02 19:49:09 UTC</td>\n",
       "      <td>view</td>\n",
       "      <td>1307293</td>\n",
       "      <td>2053013558920217191</td>\n",
       "      <td>computers.notebook</td>\n",
       "      <td>msi</td>\n",
       "      <td>866.71</td>\n",
       "      <td>534449314</td>\n",
       "      <td>computers</td>\n",
       "      <td>notebook</td>\n",
       "      <td>None</td>\n",
       "      <td>None</td>\n",
       "    </tr>\n",
       "    <tr>\n",
       "      <th>...</th>\n",
       "      <td>...</td>\n",
       "      <td>...</td>\n",
       "      <td>...</td>\n",
       "      <td>...</td>\n",
       "      <td>...</td>\n",
       "      <td>...</td>\n",
       "      <td>...</td>\n",
       "      <td>...</td>\n",
       "      <td>...</td>\n",
       "      <td>...</td>\n",
       "      <td>...</td>\n",
       "      <td>...</td>\n",
       "      <td>...</td>\n",
       "    </tr>\n",
       "    <tr>\n",
       "      <th>156125</th>\n",
       "      <td>42446530</td>\n",
       "      <td>2019-10-31 23:41:58 UTC</td>\n",
       "      <td>view</td>\n",
       "      <td>1307545</td>\n",
       "      <td>2053013558920217191</td>\n",
       "      <td>computers.notebook</td>\n",
       "      <td>lenovo</td>\n",
       "      <td>257.15</td>\n",
       "      <td>546977150</td>\n",
       "      <td>computers</td>\n",
       "      <td>notebook</td>\n",
       "      <td>None</td>\n",
       "      <td>None</td>\n",
       "    </tr>\n",
       "    <tr>\n",
       "      <th>156126</th>\n",
       "      <td>42446696</td>\n",
       "      <td>2019-10-31 23:43:25 UTC</td>\n",
       "      <td>purchase</td>\n",
       "      <td>1307545</td>\n",
       "      <td>2053013558920217191</td>\n",
       "      <td>computers.notebook</td>\n",
       "      <td>lenovo</td>\n",
       "      <td>257.15</td>\n",
       "      <td>546977150</td>\n",
       "      <td>computers</td>\n",
       "      <td>notebook</td>\n",
       "      <td>None</td>\n",
       "      <td>None</td>\n",
       "    </tr>\n",
       "    <tr>\n",
       "      <th>156127</th>\n",
       "      <td>42446757</td>\n",
       "      <td>2019-10-31 23:43:52 UTC</td>\n",
       "      <td>view</td>\n",
       "      <td>1307545</td>\n",
       "      <td>2053013558920217191</td>\n",
       "      <td>computers.notebook</td>\n",
       "      <td>lenovo</td>\n",
       "      <td>257.15</td>\n",
       "      <td>546977150</td>\n",
       "      <td>computers</td>\n",
       "      <td>notebook</td>\n",
       "      <td>None</td>\n",
       "      <td>None</td>\n",
       "    </tr>\n",
       "    <tr>\n",
       "      <th>156128</th>\n",
       "      <td>42446833</td>\n",
       "      <td>2019-10-31 23:44:30 UTC</td>\n",
       "      <td>view</td>\n",
       "      <td>1307545</td>\n",
       "      <td>2053013558920217191</td>\n",
       "      <td>computers.notebook</td>\n",
       "      <td>lenovo</td>\n",
       "      <td>257.15</td>\n",
       "      <td>546977150</td>\n",
       "      <td>computers</td>\n",
       "      <td>notebook</td>\n",
       "      <td>None</td>\n",
       "      <td>None</td>\n",
       "    </tr>\n",
       "    <tr>\n",
       "      <th>156129</th>\n",
       "      <td>42448181</td>\n",
       "      <td>2019-10-31 23:55:24 UTC</td>\n",
       "      <td>view</td>\n",
       "      <td>1306256</td>\n",
       "      <td>2053013558920217191</td>\n",
       "      <td>computers.notebook</td>\n",
       "      <td>hp</td>\n",
       "      <td>334.37</td>\n",
       "      <td>523494091</td>\n",
       "      <td>computers</td>\n",
       "      <td>notebook</td>\n",
       "      <td>None</td>\n",
       "      <td>None</td>\n",
       "    </tr>\n",
       "  </tbody>\n",
       "</table>\n",
       "<p>156130 rows × 13 columns</p>\n",
       "</div>"
      ],
      "text/plain": [
       "           index               event_time event_type  product_id  \\\n",
       "0       24303444  2019-10-18 14:21:55 UTC       view     1307059   \n",
       "1        5398322  2019-10-05 08:20:00 UTC       view     1307344   \n",
       "2       12732638  2019-10-10 19:00:37 UTC       view     1306691   \n",
       "3       10624462  2019-10-09 08:19:46 UTC       view     1306686   \n",
       "4        2388466  2019-10-02 19:49:09 UTC       view     1307293   \n",
       "...          ...                      ...        ...         ...   \n",
       "156125  42446530  2019-10-31 23:41:58 UTC       view     1307545   \n",
       "156126  42446696  2019-10-31 23:43:25 UTC   purchase     1307545   \n",
       "156127  42446757  2019-10-31 23:43:52 UTC       view     1307545   \n",
       "156128  42446833  2019-10-31 23:44:30 UTC       view     1307545   \n",
       "156129  42448181  2019-10-31 23:55:24 UTC       view     1306256   \n",
       "\n",
       "                category_id       category_code      brand   price    user_id  \\\n",
       "0       2053013558920217191  computers.notebook      apple 1569.92  549727626   \n",
       "1       2053013558920217191  computers.notebook       asus  540.53  549734639   \n",
       "2       2053013558920217191  computers.notebook     lenovo  373.06  513074495   \n",
       "3       2053013558920217191  computers.notebook  prestigio  257.15  558355847   \n",
       "4       2053013558920217191  computers.notebook        msi  866.71  534449314   \n",
       "...                     ...                 ...        ...     ...        ...   \n",
       "156125  2053013558920217191  computers.notebook     lenovo  257.15  546977150   \n",
       "156126  2053013558920217191  computers.notebook     lenovo  257.15  546977150   \n",
       "156127  2053013558920217191  computers.notebook     lenovo  257.15  546977150   \n",
       "156128  2053013558920217191  computers.notebook     lenovo  257.15  546977150   \n",
       "156129  2053013558920217191  computers.notebook         hp  334.37  523494091   \n",
       "\n",
       "               N0        N1    N2    N3  \n",
       "0       computers  notebook  None  None  \n",
       "1       computers  notebook  None  None  \n",
       "2       computers  notebook  None  None  \n",
       "3       computers  notebook  None  None  \n",
       "4       computers  notebook  None  None  \n",
       "...           ...       ...   ...   ...  \n",
       "156125  computers  notebook  None  None  \n",
       "156126  computers  notebook  None  None  \n",
       "156127  computers  notebook  None  None  \n",
       "156128  computers  notebook  None  None  \n",
       "156129  computers  notebook  None  None  \n",
       "\n",
       "[156130 rows x 13 columns]"
      ]
     },
     "execution_count": 31,
     "metadata": {},
     "output_type": "execute_result"
    }
   ],
   "source": [
    "df_notebook = df_notebook.drop(['user_session'], axis=1)\n",
    "df_notebook"
   ]
  },
  {
   "cell_type": "markdown",
   "id": "played-fantasy",
   "metadata": {
    "id": "played-fantasy"
   },
   "source": [
    "## **DATA TRANSFORMATION.**"
   ]
  },
  {
   "cell_type": "code",
   "execution_count": 32,
   "id": "animated-intelligence",
   "metadata": {
    "executionInfo": {
     "elapsed": 1117,
     "status": "ok",
     "timestamp": 1622678525373,
     "user": {
      "displayName": "David Guzzi",
      "photoUrl": "https://lh3.googleusercontent.com/a-/AOh14GhSjhgfhnxX5QmyhWy5jLH3NKcCVPEgEB9KwpG4Eg=s64",
      "userId": "10735015058891789975"
     },
     "user_tz": 180
    },
    "id": "animated-intelligence"
   },
   "outputs": [],
   "source": [
    "df_notebook['event_time']= pd.to_datetime(df_notebook['event_time'], format='%Y-%m-%d %H:%M:%S UTC')"
   ]
  },
  {
   "cell_type": "code",
   "execution_count": 33,
   "id": "further-restoration",
   "metadata": {
    "colab": {
     "base_uri": "https://localhost:8080/",
     "height": 618
    },
    "executionInfo": {
     "elapsed": 493,
     "status": "ok",
     "timestamp": 1622678527922,
     "user": {
      "displayName": "David Guzzi",
      "photoUrl": "https://lh3.googleusercontent.com/a-/AOh14GhSjhgfhnxX5QmyhWy5jLH3NKcCVPEgEB9KwpG4Eg=s64",
      "userId": "10735015058891789975"
     },
     "user_tz": 180
    },
    "id": "further-restoration",
    "outputId": "21625599-1b86-4d56-8323-53856a8ab68b"
   },
   "outputs": [
    {
     "data": {
      "text/html": [
       "<div>\n",
       "<style scoped>\n",
       "    .dataframe tbody tr th:only-of-type {\n",
       "        vertical-align: middle;\n",
       "    }\n",
       "\n",
       "    .dataframe tbody tr th {\n",
       "        vertical-align: top;\n",
       "    }\n",
       "\n",
       "    .dataframe thead th {\n",
       "        text-align: right;\n",
       "    }\n",
       "</style>\n",
       "<table border=\"1\" class=\"dataframe\">\n",
       "  <thead>\n",
       "    <tr style=\"text-align: right;\">\n",
       "      <th></th>\n",
       "      <th>index</th>\n",
       "      <th>event_time</th>\n",
       "      <th>event_type</th>\n",
       "      <th>product_id</th>\n",
       "      <th>category_id</th>\n",
       "      <th>category_code</th>\n",
       "      <th>brand</th>\n",
       "      <th>price</th>\n",
       "      <th>user_id</th>\n",
       "      <th>N0</th>\n",
       "      <th>N1</th>\n",
       "      <th>N2</th>\n",
       "      <th>N3</th>\n",
       "      <th>Time</th>\n",
       "      <th>DayOfMonth</th>\n",
       "      <th>Month</th>\n",
       "      <th>Year</th>\n",
       "      <th>Day</th>\n",
       "      <th>Hour</th>\n",
       "    </tr>\n",
       "  </thead>\n",
       "  <tbody>\n",
       "    <tr>\n",
       "      <th>0</th>\n",
       "      <td>24303444</td>\n",
       "      <td>2019-10-18 14:21:55</td>\n",
       "      <td>view</td>\n",
       "      <td>1307059</td>\n",
       "      <td>2053013558920217191</td>\n",
       "      <td>computers.notebook</td>\n",
       "      <td>apple</td>\n",
       "      <td>1569.92</td>\n",
       "      <td>549727626</td>\n",
       "      <td>computers</td>\n",
       "      <td>notebook</td>\n",
       "      <td>None</td>\n",
       "      <td>None</td>\n",
       "      <td>14:21:55</td>\n",
       "      <td>18</td>\n",
       "      <td>10</td>\n",
       "      <td>2019</td>\n",
       "      <td>Friday</td>\n",
       "      <td>14</td>\n",
       "    </tr>\n",
       "    <tr>\n",
       "      <th>1</th>\n",
       "      <td>5398322</td>\n",
       "      <td>2019-10-05 08:20:00</td>\n",
       "      <td>view</td>\n",
       "      <td>1307344</td>\n",
       "      <td>2053013558920217191</td>\n",
       "      <td>computers.notebook</td>\n",
       "      <td>asus</td>\n",
       "      <td>540.53</td>\n",
       "      <td>549734639</td>\n",
       "      <td>computers</td>\n",
       "      <td>notebook</td>\n",
       "      <td>None</td>\n",
       "      <td>None</td>\n",
       "      <td>08:20:00</td>\n",
       "      <td>5</td>\n",
       "      <td>10</td>\n",
       "      <td>2019</td>\n",
       "      <td>Saturday</td>\n",
       "      <td>8</td>\n",
       "    </tr>\n",
       "    <tr>\n",
       "      <th>2</th>\n",
       "      <td>12732638</td>\n",
       "      <td>2019-10-10 19:00:37</td>\n",
       "      <td>view</td>\n",
       "      <td>1306691</td>\n",
       "      <td>2053013558920217191</td>\n",
       "      <td>computers.notebook</td>\n",
       "      <td>lenovo</td>\n",
       "      <td>373.06</td>\n",
       "      <td>513074495</td>\n",
       "      <td>computers</td>\n",
       "      <td>notebook</td>\n",
       "      <td>None</td>\n",
       "      <td>None</td>\n",
       "      <td>19:00:37</td>\n",
       "      <td>10</td>\n",
       "      <td>10</td>\n",
       "      <td>2019</td>\n",
       "      <td>Thursday</td>\n",
       "      <td>19</td>\n",
       "    </tr>\n",
       "    <tr>\n",
       "      <th>3</th>\n",
       "      <td>10624462</td>\n",
       "      <td>2019-10-09 08:19:46</td>\n",
       "      <td>view</td>\n",
       "      <td>1306686</td>\n",
       "      <td>2053013558920217191</td>\n",
       "      <td>computers.notebook</td>\n",
       "      <td>prestigio</td>\n",
       "      <td>257.15</td>\n",
       "      <td>558355847</td>\n",
       "      <td>computers</td>\n",
       "      <td>notebook</td>\n",
       "      <td>None</td>\n",
       "      <td>None</td>\n",
       "      <td>08:19:46</td>\n",
       "      <td>9</td>\n",
       "      <td>10</td>\n",
       "      <td>2019</td>\n",
       "      <td>Wednesday</td>\n",
       "      <td>8</td>\n",
       "    </tr>\n",
       "    <tr>\n",
       "      <th>4</th>\n",
       "      <td>2388466</td>\n",
       "      <td>2019-10-02 19:49:09</td>\n",
       "      <td>view</td>\n",
       "      <td>1307293</td>\n",
       "      <td>2053013558920217191</td>\n",
       "      <td>computers.notebook</td>\n",
       "      <td>msi</td>\n",
       "      <td>866.71</td>\n",
       "      <td>534449314</td>\n",
       "      <td>computers</td>\n",
       "      <td>notebook</td>\n",
       "      <td>None</td>\n",
       "      <td>None</td>\n",
       "      <td>19:49:09</td>\n",
       "      <td>2</td>\n",
       "      <td>10</td>\n",
       "      <td>2019</td>\n",
       "      <td>Wednesday</td>\n",
       "      <td>19</td>\n",
       "    </tr>\n",
       "    <tr>\n",
       "      <th>...</th>\n",
       "      <td>...</td>\n",
       "      <td>...</td>\n",
       "      <td>...</td>\n",
       "      <td>...</td>\n",
       "      <td>...</td>\n",
       "      <td>...</td>\n",
       "      <td>...</td>\n",
       "      <td>...</td>\n",
       "      <td>...</td>\n",
       "      <td>...</td>\n",
       "      <td>...</td>\n",
       "      <td>...</td>\n",
       "      <td>...</td>\n",
       "      <td>...</td>\n",
       "      <td>...</td>\n",
       "      <td>...</td>\n",
       "      <td>...</td>\n",
       "      <td>...</td>\n",
       "      <td>...</td>\n",
       "    </tr>\n",
       "    <tr>\n",
       "      <th>156125</th>\n",
       "      <td>42446530</td>\n",
       "      <td>2019-10-31 23:41:58</td>\n",
       "      <td>view</td>\n",
       "      <td>1307545</td>\n",
       "      <td>2053013558920217191</td>\n",
       "      <td>computers.notebook</td>\n",
       "      <td>lenovo</td>\n",
       "      <td>257.15</td>\n",
       "      <td>546977150</td>\n",
       "      <td>computers</td>\n",
       "      <td>notebook</td>\n",
       "      <td>None</td>\n",
       "      <td>None</td>\n",
       "      <td>23:41:58</td>\n",
       "      <td>31</td>\n",
       "      <td>10</td>\n",
       "      <td>2019</td>\n",
       "      <td>Thursday</td>\n",
       "      <td>23</td>\n",
       "    </tr>\n",
       "    <tr>\n",
       "      <th>156126</th>\n",
       "      <td>42446696</td>\n",
       "      <td>2019-10-31 23:43:25</td>\n",
       "      <td>purchase</td>\n",
       "      <td>1307545</td>\n",
       "      <td>2053013558920217191</td>\n",
       "      <td>computers.notebook</td>\n",
       "      <td>lenovo</td>\n",
       "      <td>257.15</td>\n",
       "      <td>546977150</td>\n",
       "      <td>computers</td>\n",
       "      <td>notebook</td>\n",
       "      <td>None</td>\n",
       "      <td>None</td>\n",
       "      <td>23:43:25</td>\n",
       "      <td>31</td>\n",
       "      <td>10</td>\n",
       "      <td>2019</td>\n",
       "      <td>Thursday</td>\n",
       "      <td>23</td>\n",
       "    </tr>\n",
       "    <tr>\n",
       "      <th>156127</th>\n",
       "      <td>42446757</td>\n",
       "      <td>2019-10-31 23:43:52</td>\n",
       "      <td>view</td>\n",
       "      <td>1307545</td>\n",
       "      <td>2053013558920217191</td>\n",
       "      <td>computers.notebook</td>\n",
       "      <td>lenovo</td>\n",
       "      <td>257.15</td>\n",
       "      <td>546977150</td>\n",
       "      <td>computers</td>\n",
       "      <td>notebook</td>\n",
       "      <td>None</td>\n",
       "      <td>None</td>\n",
       "      <td>23:43:52</td>\n",
       "      <td>31</td>\n",
       "      <td>10</td>\n",
       "      <td>2019</td>\n",
       "      <td>Thursday</td>\n",
       "      <td>23</td>\n",
       "    </tr>\n",
       "    <tr>\n",
       "      <th>156128</th>\n",
       "      <td>42446833</td>\n",
       "      <td>2019-10-31 23:44:30</td>\n",
       "      <td>view</td>\n",
       "      <td>1307545</td>\n",
       "      <td>2053013558920217191</td>\n",
       "      <td>computers.notebook</td>\n",
       "      <td>lenovo</td>\n",
       "      <td>257.15</td>\n",
       "      <td>546977150</td>\n",
       "      <td>computers</td>\n",
       "      <td>notebook</td>\n",
       "      <td>None</td>\n",
       "      <td>None</td>\n",
       "      <td>23:44:30</td>\n",
       "      <td>31</td>\n",
       "      <td>10</td>\n",
       "      <td>2019</td>\n",
       "      <td>Thursday</td>\n",
       "      <td>23</td>\n",
       "    </tr>\n",
       "    <tr>\n",
       "      <th>156129</th>\n",
       "      <td>42448181</td>\n",
       "      <td>2019-10-31 23:55:24</td>\n",
       "      <td>view</td>\n",
       "      <td>1306256</td>\n",
       "      <td>2053013558920217191</td>\n",
       "      <td>computers.notebook</td>\n",
       "      <td>hp</td>\n",
       "      <td>334.37</td>\n",
       "      <td>523494091</td>\n",
       "      <td>computers</td>\n",
       "      <td>notebook</td>\n",
       "      <td>None</td>\n",
       "      <td>None</td>\n",
       "      <td>23:55:24</td>\n",
       "      <td>31</td>\n",
       "      <td>10</td>\n",
       "      <td>2019</td>\n",
       "      <td>Thursday</td>\n",
       "      <td>23</td>\n",
       "    </tr>\n",
       "  </tbody>\n",
       "</table>\n",
       "<p>156130 rows × 19 columns</p>\n",
       "</div>"
      ],
      "text/plain": [
       "           index          event_time event_type  product_id  \\\n",
       "0       24303444 2019-10-18 14:21:55       view     1307059   \n",
       "1        5398322 2019-10-05 08:20:00       view     1307344   \n",
       "2       12732638 2019-10-10 19:00:37       view     1306691   \n",
       "3       10624462 2019-10-09 08:19:46       view     1306686   \n",
       "4        2388466 2019-10-02 19:49:09       view     1307293   \n",
       "...          ...                 ...        ...         ...   \n",
       "156125  42446530 2019-10-31 23:41:58       view     1307545   \n",
       "156126  42446696 2019-10-31 23:43:25   purchase     1307545   \n",
       "156127  42446757 2019-10-31 23:43:52       view     1307545   \n",
       "156128  42446833 2019-10-31 23:44:30       view     1307545   \n",
       "156129  42448181 2019-10-31 23:55:24       view     1306256   \n",
       "\n",
       "                category_id       category_code      brand   price    user_id  \\\n",
       "0       2053013558920217191  computers.notebook      apple 1569.92  549727626   \n",
       "1       2053013558920217191  computers.notebook       asus  540.53  549734639   \n",
       "2       2053013558920217191  computers.notebook     lenovo  373.06  513074495   \n",
       "3       2053013558920217191  computers.notebook  prestigio  257.15  558355847   \n",
       "4       2053013558920217191  computers.notebook        msi  866.71  534449314   \n",
       "...                     ...                 ...        ...     ...        ...   \n",
       "156125  2053013558920217191  computers.notebook     lenovo  257.15  546977150   \n",
       "156126  2053013558920217191  computers.notebook     lenovo  257.15  546977150   \n",
       "156127  2053013558920217191  computers.notebook     lenovo  257.15  546977150   \n",
       "156128  2053013558920217191  computers.notebook     lenovo  257.15  546977150   \n",
       "156129  2053013558920217191  computers.notebook         hp  334.37  523494091   \n",
       "\n",
       "               N0        N1    N2    N3      Time  DayOfMonth  Month  Year  \\\n",
       "0       computers  notebook  None  None  14:21:55          18     10  2019   \n",
       "1       computers  notebook  None  None  08:20:00           5     10  2019   \n",
       "2       computers  notebook  None  None  19:00:37          10     10  2019   \n",
       "3       computers  notebook  None  None  08:19:46           9     10  2019   \n",
       "4       computers  notebook  None  None  19:49:09           2     10  2019   \n",
       "...           ...       ...   ...   ...       ...         ...    ...   ...   \n",
       "156125  computers  notebook  None  None  23:41:58          31     10  2019   \n",
       "156126  computers  notebook  None  None  23:43:25          31     10  2019   \n",
       "156127  computers  notebook  None  None  23:43:52          31     10  2019   \n",
       "156128  computers  notebook  None  None  23:44:30          31     10  2019   \n",
       "156129  computers  notebook  None  None  23:55:24          31     10  2019   \n",
       "\n",
       "              Day  Hour  \n",
       "0          Friday    14  \n",
       "1        Saturday     8  \n",
       "2        Thursday    19  \n",
       "3       Wednesday     8  \n",
       "4       Wednesday    19  \n",
       "...           ...   ...  \n",
       "156125   Thursday    23  \n",
       "156126   Thursday    23  \n",
       "156127   Thursday    23  \n",
       "156128   Thursday    23  \n",
       "156129   Thursday    23  \n",
       "\n",
       "[156130 rows x 19 columns]"
      ]
     },
     "execution_count": 33,
     "metadata": {},
     "output_type": "execute_result"
    }
   ],
   "source": [
    "df_notebook['Time']= df_notebook['event_time'].dt.time\n",
    "df_notebook['DayOfMonth']=df_notebook['event_time'].dt.day\n",
    "df_notebook['Month']=df_notebook['event_time'].dt.month\n",
    "df_notebook['Year']=df_notebook['event_time'].dt.year\n",
    "df_notebook['Day']=df_notebook['event_time'].dt.day_name()\n",
    "df_notebook['Hour']=df_notebook['event_time'].dt.hour\n",
    "df_notebook"
   ]
  },
  {
   "cell_type": "markdown",
   "id": "32be2567",
   "metadata": {
    "id": "floral-strip"
   },
   "source": [
    "## **CREATION OF NEW COLUMNS.**"
   ]
  },
  {
   "cell_type": "code",
   "execution_count": 34,
   "id": "strange-price",
   "metadata": {
    "colab": {
     "base_uri": "https://localhost:8080/",
     "height": 618
    },
    "executionInfo": {
     "elapsed": 532,
     "status": "ok",
     "timestamp": 1622678533030,
     "user": {
      "displayName": "David Guzzi",
      "photoUrl": "https://lh3.googleusercontent.com/a-/AOh14GhSjhgfhnxX5QmyhWy5jLH3NKcCVPEgEB9KwpG4Eg=s64",
      "userId": "10735015058891789975"
     },
     "user_tz": 180
    },
    "id": "strange-price",
    "outputId": "5fd16150-a081-47fb-abaf-bc61ac7fa39a"
   },
   "outputs": [
    {
     "data": {
      "text/html": [
       "<div>\n",
       "<style scoped>\n",
       "    .dataframe tbody tr th:only-of-type {\n",
       "        vertical-align: middle;\n",
       "    }\n",
       "\n",
       "    .dataframe tbody tr th {\n",
       "        vertical-align: top;\n",
       "    }\n",
       "\n",
       "    .dataframe thead th {\n",
       "        text-align: right;\n",
       "    }\n",
       "</style>\n",
       "<table border=\"1\" class=\"dataframe\">\n",
       "  <thead>\n",
       "    <tr style=\"text-align: right;\">\n",
       "      <th></th>\n",
       "      <th>index</th>\n",
       "      <th>event_time</th>\n",
       "      <th>event_type</th>\n",
       "      <th>product_id</th>\n",
       "      <th>category_id</th>\n",
       "      <th>category_code</th>\n",
       "      <th>brand</th>\n",
       "      <th>price</th>\n",
       "      <th>user_id</th>\n",
       "      <th>N0</th>\n",
       "      <th>N1</th>\n",
       "      <th>N2</th>\n",
       "      <th>N3</th>\n",
       "      <th>Time</th>\n",
       "      <th>DayOfMonth</th>\n",
       "      <th>Month</th>\n",
       "      <th>Year</th>\n",
       "      <th>Day</th>\n",
       "      <th>Hour</th>\n",
       "      <th>event_type_ID</th>\n",
       "    </tr>\n",
       "  </thead>\n",
       "  <tbody>\n",
       "    <tr>\n",
       "      <th>0</th>\n",
       "      <td>24303444</td>\n",
       "      <td>2019-10-18 14:21:55</td>\n",
       "      <td>view</td>\n",
       "      <td>1307059</td>\n",
       "      <td>2053013558920217191</td>\n",
       "      <td>computers.notebook</td>\n",
       "      <td>apple</td>\n",
       "      <td>1569.92</td>\n",
       "      <td>549727626</td>\n",
       "      <td>computers</td>\n",
       "      <td>notebook</td>\n",
       "      <td>None</td>\n",
       "      <td>None</td>\n",
       "      <td>14:21:55</td>\n",
       "      <td>18</td>\n",
       "      <td>10</td>\n",
       "      <td>2019</td>\n",
       "      <td>Friday</td>\n",
       "      <td>14</td>\n",
       "      <td>0</td>\n",
       "    </tr>\n",
       "    <tr>\n",
       "      <th>1</th>\n",
       "      <td>5398322</td>\n",
       "      <td>2019-10-05 08:20:00</td>\n",
       "      <td>view</td>\n",
       "      <td>1307344</td>\n",
       "      <td>2053013558920217191</td>\n",
       "      <td>computers.notebook</td>\n",
       "      <td>asus</td>\n",
       "      <td>540.53</td>\n",
       "      <td>549734639</td>\n",
       "      <td>computers</td>\n",
       "      <td>notebook</td>\n",
       "      <td>None</td>\n",
       "      <td>None</td>\n",
       "      <td>08:20:00</td>\n",
       "      <td>5</td>\n",
       "      <td>10</td>\n",
       "      <td>2019</td>\n",
       "      <td>Saturday</td>\n",
       "      <td>8</td>\n",
       "      <td>0</td>\n",
       "    </tr>\n",
       "    <tr>\n",
       "      <th>2</th>\n",
       "      <td>12732638</td>\n",
       "      <td>2019-10-10 19:00:37</td>\n",
       "      <td>view</td>\n",
       "      <td>1306691</td>\n",
       "      <td>2053013558920217191</td>\n",
       "      <td>computers.notebook</td>\n",
       "      <td>lenovo</td>\n",
       "      <td>373.06</td>\n",
       "      <td>513074495</td>\n",
       "      <td>computers</td>\n",
       "      <td>notebook</td>\n",
       "      <td>None</td>\n",
       "      <td>None</td>\n",
       "      <td>19:00:37</td>\n",
       "      <td>10</td>\n",
       "      <td>10</td>\n",
       "      <td>2019</td>\n",
       "      <td>Thursday</td>\n",
       "      <td>19</td>\n",
       "      <td>0</td>\n",
       "    </tr>\n",
       "    <tr>\n",
       "      <th>3</th>\n",
       "      <td>10624462</td>\n",
       "      <td>2019-10-09 08:19:46</td>\n",
       "      <td>view</td>\n",
       "      <td>1306686</td>\n",
       "      <td>2053013558920217191</td>\n",
       "      <td>computers.notebook</td>\n",
       "      <td>prestigio</td>\n",
       "      <td>257.15</td>\n",
       "      <td>558355847</td>\n",
       "      <td>computers</td>\n",
       "      <td>notebook</td>\n",
       "      <td>None</td>\n",
       "      <td>None</td>\n",
       "      <td>08:19:46</td>\n",
       "      <td>9</td>\n",
       "      <td>10</td>\n",
       "      <td>2019</td>\n",
       "      <td>Wednesday</td>\n",
       "      <td>8</td>\n",
       "      <td>0</td>\n",
       "    </tr>\n",
       "    <tr>\n",
       "      <th>4</th>\n",
       "      <td>2388466</td>\n",
       "      <td>2019-10-02 19:49:09</td>\n",
       "      <td>view</td>\n",
       "      <td>1307293</td>\n",
       "      <td>2053013558920217191</td>\n",
       "      <td>computers.notebook</td>\n",
       "      <td>msi</td>\n",
       "      <td>866.71</td>\n",
       "      <td>534449314</td>\n",
       "      <td>computers</td>\n",
       "      <td>notebook</td>\n",
       "      <td>None</td>\n",
       "      <td>None</td>\n",
       "      <td>19:49:09</td>\n",
       "      <td>2</td>\n",
       "      <td>10</td>\n",
       "      <td>2019</td>\n",
       "      <td>Wednesday</td>\n",
       "      <td>19</td>\n",
       "      <td>0</td>\n",
       "    </tr>\n",
       "    <tr>\n",
       "      <th>...</th>\n",
       "      <td>...</td>\n",
       "      <td>...</td>\n",
       "      <td>...</td>\n",
       "      <td>...</td>\n",
       "      <td>...</td>\n",
       "      <td>...</td>\n",
       "      <td>...</td>\n",
       "      <td>...</td>\n",
       "      <td>...</td>\n",
       "      <td>...</td>\n",
       "      <td>...</td>\n",
       "      <td>...</td>\n",
       "      <td>...</td>\n",
       "      <td>...</td>\n",
       "      <td>...</td>\n",
       "      <td>...</td>\n",
       "      <td>...</td>\n",
       "      <td>...</td>\n",
       "      <td>...</td>\n",
       "      <td>...</td>\n",
       "    </tr>\n",
       "    <tr>\n",
       "      <th>156125</th>\n",
       "      <td>42446530</td>\n",
       "      <td>2019-10-31 23:41:58</td>\n",
       "      <td>view</td>\n",
       "      <td>1307545</td>\n",
       "      <td>2053013558920217191</td>\n",
       "      <td>computers.notebook</td>\n",
       "      <td>lenovo</td>\n",
       "      <td>257.15</td>\n",
       "      <td>546977150</td>\n",
       "      <td>computers</td>\n",
       "      <td>notebook</td>\n",
       "      <td>None</td>\n",
       "      <td>None</td>\n",
       "      <td>23:41:58</td>\n",
       "      <td>31</td>\n",
       "      <td>10</td>\n",
       "      <td>2019</td>\n",
       "      <td>Thursday</td>\n",
       "      <td>23</td>\n",
       "      <td>0</td>\n",
       "    </tr>\n",
       "    <tr>\n",
       "      <th>156126</th>\n",
       "      <td>42446696</td>\n",
       "      <td>2019-10-31 23:43:25</td>\n",
       "      <td>purchase</td>\n",
       "      <td>1307545</td>\n",
       "      <td>2053013558920217191</td>\n",
       "      <td>computers.notebook</td>\n",
       "      <td>lenovo</td>\n",
       "      <td>257.15</td>\n",
       "      <td>546977150</td>\n",
       "      <td>computers</td>\n",
       "      <td>notebook</td>\n",
       "      <td>None</td>\n",
       "      <td>None</td>\n",
       "      <td>23:43:25</td>\n",
       "      <td>31</td>\n",
       "      <td>10</td>\n",
       "      <td>2019</td>\n",
       "      <td>Thursday</td>\n",
       "      <td>23</td>\n",
       "      <td>0</td>\n",
       "    </tr>\n",
       "    <tr>\n",
       "      <th>156127</th>\n",
       "      <td>42446757</td>\n",
       "      <td>2019-10-31 23:43:52</td>\n",
       "      <td>view</td>\n",
       "      <td>1307545</td>\n",
       "      <td>2053013558920217191</td>\n",
       "      <td>computers.notebook</td>\n",
       "      <td>lenovo</td>\n",
       "      <td>257.15</td>\n",
       "      <td>546977150</td>\n",
       "      <td>computers</td>\n",
       "      <td>notebook</td>\n",
       "      <td>None</td>\n",
       "      <td>None</td>\n",
       "      <td>23:43:52</td>\n",
       "      <td>31</td>\n",
       "      <td>10</td>\n",
       "      <td>2019</td>\n",
       "      <td>Thursday</td>\n",
       "      <td>23</td>\n",
       "      <td>0</td>\n",
       "    </tr>\n",
       "    <tr>\n",
       "      <th>156128</th>\n",
       "      <td>42446833</td>\n",
       "      <td>2019-10-31 23:44:30</td>\n",
       "      <td>view</td>\n",
       "      <td>1307545</td>\n",
       "      <td>2053013558920217191</td>\n",
       "      <td>computers.notebook</td>\n",
       "      <td>lenovo</td>\n",
       "      <td>257.15</td>\n",
       "      <td>546977150</td>\n",
       "      <td>computers</td>\n",
       "      <td>notebook</td>\n",
       "      <td>None</td>\n",
       "      <td>None</td>\n",
       "      <td>23:44:30</td>\n",
       "      <td>31</td>\n",
       "      <td>10</td>\n",
       "      <td>2019</td>\n",
       "      <td>Thursday</td>\n",
       "      <td>23</td>\n",
       "      <td>0</td>\n",
       "    </tr>\n",
       "    <tr>\n",
       "      <th>156129</th>\n",
       "      <td>42448181</td>\n",
       "      <td>2019-10-31 23:55:24</td>\n",
       "      <td>view</td>\n",
       "      <td>1306256</td>\n",
       "      <td>2053013558920217191</td>\n",
       "      <td>computers.notebook</td>\n",
       "      <td>hp</td>\n",
       "      <td>334.37</td>\n",
       "      <td>523494091</td>\n",
       "      <td>computers</td>\n",
       "      <td>notebook</td>\n",
       "      <td>None</td>\n",
       "      <td>None</td>\n",
       "      <td>23:55:24</td>\n",
       "      <td>31</td>\n",
       "      <td>10</td>\n",
       "      <td>2019</td>\n",
       "      <td>Thursday</td>\n",
       "      <td>23</td>\n",
       "      <td>0</td>\n",
       "    </tr>\n",
       "  </tbody>\n",
       "</table>\n",
       "<p>156130 rows × 20 columns</p>\n",
       "</div>"
      ],
      "text/plain": [
       "           index          event_time event_type  product_id  \\\n",
       "0       24303444 2019-10-18 14:21:55       view     1307059   \n",
       "1        5398322 2019-10-05 08:20:00       view     1307344   \n",
       "2       12732638 2019-10-10 19:00:37       view     1306691   \n",
       "3       10624462 2019-10-09 08:19:46       view     1306686   \n",
       "4        2388466 2019-10-02 19:49:09       view     1307293   \n",
       "...          ...                 ...        ...         ...   \n",
       "156125  42446530 2019-10-31 23:41:58       view     1307545   \n",
       "156126  42446696 2019-10-31 23:43:25   purchase     1307545   \n",
       "156127  42446757 2019-10-31 23:43:52       view     1307545   \n",
       "156128  42446833 2019-10-31 23:44:30       view     1307545   \n",
       "156129  42448181 2019-10-31 23:55:24       view     1306256   \n",
       "\n",
       "                category_id       category_code      brand   price    user_id  \\\n",
       "0       2053013558920217191  computers.notebook      apple 1569.92  549727626   \n",
       "1       2053013558920217191  computers.notebook       asus  540.53  549734639   \n",
       "2       2053013558920217191  computers.notebook     lenovo  373.06  513074495   \n",
       "3       2053013558920217191  computers.notebook  prestigio  257.15  558355847   \n",
       "4       2053013558920217191  computers.notebook        msi  866.71  534449314   \n",
       "...                     ...                 ...        ...     ...        ...   \n",
       "156125  2053013558920217191  computers.notebook     lenovo  257.15  546977150   \n",
       "156126  2053013558920217191  computers.notebook     lenovo  257.15  546977150   \n",
       "156127  2053013558920217191  computers.notebook     lenovo  257.15  546977150   \n",
       "156128  2053013558920217191  computers.notebook     lenovo  257.15  546977150   \n",
       "156129  2053013558920217191  computers.notebook         hp  334.37  523494091   \n",
       "\n",
       "               N0        N1    N2    N3      Time  DayOfMonth  Month  Year  \\\n",
       "0       computers  notebook  None  None  14:21:55          18     10  2019   \n",
       "1       computers  notebook  None  None  08:20:00           5     10  2019   \n",
       "2       computers  notebook  None  None  19:00:37          10     10  2019   \n",
       "3       computers  notebook  None  None  08:19:46           9     10  2019   \n",
       "4       computers  notebook  None  None  19:49:09           2     10  2019   \n",
       "...           ...       ...   ...   ...       ...         ...    ...   ...   \n",
       "156125  computers  notebook  None  None  23:41:58          31     10  2019   \n",
       "156126  computers  notebook  None  None  23:43:25          31     10  2019   \n",
       "156127  computers  notebook  None  None  23:43:52          31     10  2019   \n",
       "156128  computers  notebook  None  None  23:44:30          31     10  2019   \n",
       "156129  computers  notebook  None  None  23:55:24          31     10  2019   \n",
       "\n",
       "              Day  Hour  event_type_ID  \n",
       "0          Friday    14              0  \n",
       "1        Saturday     8              0  \n",
       "2        Thursday    19              0  \n",
       "3       Wednesday     8              0  \n",
       "4       Wednesday    19              0  \n",
       "...           ...   ...            ...  \n",
       "156125   Thursday    23              0  \n",
       "156126   Thursday    23              0  \n",
       "156127   Thursday    23              0  \n",
       "156128   Thursday    23              0  \n",
       "156129   Thursday    23              0  \n",
       "\n",
       "[156130 rows x 20 columns]"
      ]
     },
     "execution_count": 34,
     "metadata": {},
     "output_type": "execute_result"
    }
   ],
   "source": [
    "df_notebook['event_type_ID'] = 0\n",
    "df_notebook"
   ]
  },
  {
   "cell_type": "code",
   "execution_count": 35,
   "id": "copyrighted-ability",
   "metadata": {
    "executionInfo": {
     "elapsed": 156024,
     "status": "ok",
     "timestamp": 1622678694654,
     "user": {
      "displayName": "David Guzzi",
      "photoUrl": "https://lh3.googleusercontent.com/a-/AOh14GhSjhgfhnxX5QmyhWy5jLH3NKcCVPEgEB9KwpG4Eg=s64",
      "userId": "10735015058891789975"
     },
     "user_tz": 180
    },
    "id": "copyrighted-ability"
   },
   "outputs": [],
   "source": [
    "for i in df_notebook.index.to_list():\n",
    "    if df_notebook.loc[i, 'event_type'] == 'view':\n",
    "        df_notebook.loc[i, 'event_type_ID']= 0\n",
    "    elif df_notebook.loc[i, 'event_type'] == 'cart':\n",
    "        df_notebook.loc[i, 'event_type_ID']= 1\n",
    "    else:\n",
    "        df_notebook.loc[i, 'event_type_ID']= 2"
   ]
  },
  {
   "cell_type": "code",
   "execution_count": 36,
   "id": "d11b4a39",
   "metadata": {},
   "outputs": [
    {
     "data": {
      "text/html": [
       "<div>\n",
       "<style scoped>\n",
       "    .dataframe tbody tr th:only-of-type {\n",
       "        vertical-align: middle;\n",
       "    }\n",
       "\n",
       "    .dataframe tbody tr th {\n",
       "        vertical-align: top;\n",
       "    }\n",
       "\n",
       "    .dataframe thead th {\n",
       "        text-align: right;\n",
       "    }\n",
       "</style>\n",
       "<table border=\"1\" class=\"dataframe\">\n",
       "  <thead>\n",
       "    <tr style=\"text-align: right;\">\n",
       "      <th></th>\n",
       "      <th>index</th>\n",
       "      <th>event_time</th>\n",
       "      <th>event_type</th>\n",
       "      <th>product_id</th>\n",
       "      <th>category_id</th>\n",
       "      <th>category_code</th>\n",
       "      <th>brand</th>\n",
       "      <th>price</th>\n",
       "      <th>user_id</th>\n",
       "      <th>N0</th>\n",
       "      <th>N1</th>\n",
       "      <th>N2</th>\n",
       "      <th>N3</th>\n",
       "      <th>Time</th>\n",
       "      <th>DayOfMonth</th>\n",
       "      <th>Month</th>\n",
       "      <th>Year</th>\n",
       "      <th>Day</th>\n",
       "      <th>Hour</th>\n",
       "      <th>event_type_ID</th>\n",
       "    </tr>\n",
       "  </thead>\n",
       "  <tbody>\n",
       "    <tr>\n",
       "      <th>0</th>\n",
       "      <td>24303444</td>\n",
       "      <td>2019-10-18 14:21:55</td>\n",
       "      <td>view</td>\n",
       "      <td>1307059</td>\n",
       "      <td>2053013558920217191</td>\n",
       "      <td>computers.notebook</td>\n",
       "      <td>apple</td>\n",
       "      <td>1569.92</td>\n",
       "      <td>549727626</td>\n",
       "      <td>computers</td>\n",
       "      <td>notebook</td>\n",
       "      <td>None</td>\n",
       "      <td>None</td>\n",
       "      <td>14:21:55</td>\n",
       "      <td>18</td>\n",
       "      <td>10</td>\n",
       "      <td>2019</td>\n",
       "      <td>Friday</td>\n",
       "      <td>14</td>\n",
       "      <td>0</td>\n",
       "    </tr>\n",
       "    <tr>\n",
       "      <th>1</th>\n",
       "      <td>5398322</td>\n",
       "      <td>2019-10-05 08:20:00</td>\n",
       "      <td>view</td>\n",
       "      <td>1307344</td>\n",
       "      <td>2053013558920217191</td>\n",
       "      <td>computers.notebook</td>\n",
       "      <td>asus</td>\n",
       "      <td>540.53</td>\n",
       "      <td>549734639</td>\n",
       "      <td>computers</td>\n",
       "      <td>notebook</td>\n",
       "      <td>None</td>\n",
       "      <td>None</td>\n",
       "      <td>08:20:00</td>\n",
       "      <td>5</td>\n",
       "      <td>10</td>\n",
       "      <td>2019</td>\n",
       "      <td>Saturday</td>\n",
       "      <td>8</td>\n",
       "      <td>0</td>\n",
       "    </tr>\n",
       "    <tr>\n",
       "      <th>2</th>\n",
       "      <td>12732638</td>\n",
       "      <td>2019-10-10 19:00:37</td>\n",
       "      <td>view</td>\n",
       "      <td>1306691</td>\n",
       "      <td>2053013558920217191</td>\n",
       "      <td>computers.notebook</td>\n",
       "      <td>lenovo</td>\n",
       "      <td>373.06</td>\n",
       "      <td>513074495</td>\n",
       "      <td>computers</td>\n",
       "      <td>notebook</td>\n",
       "      <td>None</td>\n",
       "      <td>None</td>\n",
       "      <td>19:00:37</td>\n",
       "      <td>10</td>\n",
       "      <td>10</td>\n",
       "      <td>2019</td>\n",
       "      <td>Thursday</td>\n",
       "      <td>19</td>\n",
       "      <td>0</td>\n",
       "    </tr>\n",
       "    <tr>\n",
       "      <th>3</th>\n",
       "      <td>10624462</td>\n",
       "      <td>2019-10-09 08:19:46</td>\n",
       "      <td>view</td>\n",
       "      <td>1306686</td>\n",
       "      <td>2053013558920217191</td>\n",
       "      <td>computers.notebook</td>\n",
       "      <td>prestigio</td>\n",
       "      <td>257.15</td>\n",
       "      <td>558355847</td>\n",
       "      <td>computers</td>\n",
       "      <td>notebook</td>\n",
       "      <td>None</td>\n",
       "      <td>None</td>\n",
       "      <td>08:19:46</td>\n",
       "      <td>9</td>\n",
       "      <td>10</td>\n",
       "      <td>2019</td>\n",
       "      <td>Wednesday</td>\n",
       "      <td>8</td>\n",
       "      <td>0</td>\n",
       "    </tr>\n",
       "    <tr>\n",
       "      <th>4</th>\n",
       "      <td>2388466</td>\n",
       "      <td>2019-10-02 19:49:09</td>\n",
       "      <td>view</td>\n",
       "      <td>1307293</td>\n",
       "      <td>2053013558920217191</td>\n",
       "      <td>computers.notebook</td>\n",
       "      <td>msi</td>\n",
       "      <td>866.71</td>\n",
       "      <td>534449314</td>\n",
       "      <td>computers</td>\n",
       "      <td>notebook</td>\n",
       "      <td>None</td>\n",
       "      <td>None</td>\n",
       "      <td>19:49:09</td>\n",
       "      <td>2</td>\n",
       "      <td>10</td>\n",
       "      <td>2019</td>\n",
       "      <td>Wednesday</td>\n",
       "      <td>19</td>\n",
       "      <td>0</td>\n",
       "    </tr>\n",
       "    <tr>\n",
       "      <th>...</th>\n",
       "      <td>...</td>\n",
       "      <td>...</td>\n",
       "      <td>...</td>\n",
       "      <td>...</td>\n",
       "      <td>...</td>\n",
       "      <td>...</td>\n",
       "      <td>...</td>\n",
       "      <td>...</td>\n",
       "      <td>...</td>\n",
       "      <td>...</td>\n",
       "      <td>...</td>\n",
       "      <td>...</td>\n",
       "      <td>...</td>\n",
       "      <td>...</td>\n",
       "      <td>...</td>\n",
       "      <td>...</td>\n",
       "      <td>...</td>\n",
       "      <td>...</td>\n",
       "      <td>...</td>\n",
       "      <td>...</td>\n",
       "    </tr>\n",
       "    <tr>\n",
       "      <th>156125</th>\n",
       "      <td>42446530</td>\n",
       "      <td>2019-10-31 23:41:58</td>\n",
       "      <td>view</td>\n",
       "      <td>1307545</td>\n",
       "      <td>2053013558920217191</td>\n",
       "      <td>computers.notebook</td>\n",
       "      <td>lenovo</td>\n",
       "      <td>257.15</td>\n",
       "      <td>546977150</td>\n",
       "      <td>computers</td>\n",
       "      <td>notebook</td>\n",
       "      <td>None</td>\n",
       "      <td>None</td>\n",
       "      <td>23:41:58</td>\n",
       "      <td>31</td>\n",
       "      <td>10</td>\n",
       "      <td>2019</td>\n",
       "      <td>Thursday</td>\n",
       "      <td>23</td>\n",
       "      <td>0</td>\n",
       "    </tr>\n",
       "    <tr>\n",
       "      <th>156126</th>\n",
       "      <td>42446696</td>\n",
       "      <td>2019-10-31 23:43:25</td>\n",
       "      <td>purchase</td>\n",
       "      <td>1307545</td>\n",
       "      <td>2053013558920217191</td>\n",
       "      <td>computers.notebook</td>\n",
       "      <td>lenovo</td>\n",
       "      <td>257.15</td>\n",
       "      <td>546977150</td>\n",
       "      <td>computers</td>\n",
       "      <td>notebook</td>\n",
       "      <td>None</td>\n",
       "      <td>None</td>\n",
       "      <td>23:43:25</td>\n",
       "      <td>31</td>\n",
       "      <td>10</td>\n",
       "      <td>2019</td>\n",
       "      <td>Thursday</td>\n",
       "      <td>23</td>\n",
       "      <td>2</td>\n",
       "    </tr>\n",
       "    <tr>\n",
       "      <th>156127</th>\n",
       "      <td>42446757</td>\n",
       "      <td>2019-10-31 23:43:52</td>\n",
       "      <td>view</td>\n",
       "      <td>1307545</td>\n",
       "      <td>2053013558920217191</td>\n",
       "      <td>computers.notebook</td>\n",
       "      <td>lenovo</td>\n",
       "      <td>257.15</td>\n",
       "      <td>546977150</td>\n",
       "      <td>computers</td>\n",
       "      <td>notebook</td>\n",
       "      <td>None</td>\n",
       "      <td>None</td>\n",
       "      <td>23:43:52</td>\n",
       "      <td>31</td>\n",
       "      <td>10</td>\n",
       "      <td>2019</td>\n",
       "      <td>Thursday</td>\n",
       "      <td>23</td>\n",
       "      <td>0</td>\n",
       "    </tr>\n",
       "    <tr>\n",
       "      <th>156128</th>\n",
       "      <td>42446833</td>\n",
       "      <td>2019-10-31 23:44:30</td>\n",
       "      <td>view</td>\n",
       "      <td>1307545</td>\n",
       "      <td>2053013558920217191</td>\n",
       "      <td>computers.notebook</td>\n",
       "      <td>lenovo</td>\n",
       "      <td>257.15</td>\n",
       "      <td>546977150</td>\n",
       "      <td>computers</td>\n",
       "      <td>notebook</td>\n",
       "      <td>None</td>\n",
       "      <td>None</td>\n",
       "      <td>23:44:30</td>\n",
       "      <td>31</td>\n",
       "      <td>10</td>\n",
       "      <td>2019</td>\n",
       "      <td>Thursday</td>\n",
       "      <td>23</td>\n",
       "      <td>0</td>\n",
       "    </tr>\n",
       "    <tr>\n",
       "      <th>156129</th>\n",
       "      <td>42448181</td>\n",
       "      <td>2019-10-31 23:55:24</td>\n",
       "      <td>view</td>\n",
       "      <td>1306256</td>\n",
       "      <td>2053013558920217191</td>\n",
       "      <td>computers.notebook</td>\n",
       "      <td>hp</td>\n",
       "      <td>334.37</td>\n",
       "      <td>523494091</td>\n",
       "      <td>computers</td>\n",
       "      <td>notebook</td>\n",
       "      <td>None</td>\n",
       "      <td>None</td>\n",
       "      <td>23:55:24</td>\n",
       "      <td>31</td>\n",
       "      <td>10</td>\n",
       "      <td>2019</td>\n",
       "      <td>Thursday</td>\n",
       "      <td>23</td>\n",
       "      <td>0</td>\n",
       "    </tr>\n",
       "  </tbody>\n",
       "</table>\n",
       "<p>156130 rows × 20 columns</p>\n",
       "</div>"
      ],
      "text/plain": [
       "           index          event_time event_type  product_id  \\\n",
       "0       24303444 2019-10-18 14:21:55       view     1307059   \n",
       "1        5398322 2019-10-05 08:20:00       view     1307344   \n",
       "2       12732638 2019-10-10 19:00:37       view     1306691   \n",
       "3       10624462 2019-10-09 08:19:46       view     1306686   \n",
       "4        2388466 2019-10-02 19:49:09       view     1307293   \n",
       "...          ...                 ...        ...         ...   \n",
       "156125  42446530 2019-10-31 23:41:58       view     1307545   \n",
       "156126  42446696 2019-10-31 23:43:25   purchase     1307545   \n",
       "156127  42446757 2019-10-31 23:43:52       view     1307545   \n",
       "156128  42446833 2019-10-31 23:44:30       view     1307545   \n",
       "156129  42448181 2019-10-31 23:55:24       view     1306256   \n",
       "\n",
       "                category_id       category_code      brand   price    user_id  \\\n",
       "0       2053013558920217191  computers.notebook      apple 1569.92  549727626   \n",
       "1       2053013558920217191  computers.notebook       asus  540.53  549734639   \n",
       "2       2053013558920217191  computers.notebook     lenovo  373.06  513074495   \n",
       "3       2053013558920217191  computers.notebook  prestigio  257.15  558355847   \n",
       "4       2053013558920217191  computers.notebook        msi  866.71  534449314   \n",
       "...                     ...                 ...        ...     ...        ...   \n",
       "156125  2053013558920217191  computers.notebook     lenovo  257.15  546977150   \n",
       "156126  2053013558920217191  computers.notebook     lenovo  257.15  546977150   \n",
       "156127  2053013558920217191  computers.notebook     lenovo  257.15  546977150   \n",
       "156128  2053013558920217191  computers.notebook     lenovo  257.15  546977150   \n",
       "156129  2053013558920217191  computers.notebook         hp  334.37  523494091   \n",
       "\n",
       "               N0        N1    N2    N3      Time  DayOfMonth  Month  Year  \\\n",
       "0       computers  notebook  None  None  14:21:55          18     10  2019   \n",
       "1       computers  notebook  None  None  08:20:00           5     10  2019   \n",
       "2       computers  notebook  None  None  19:00:37          10     10  2019   \n",
       "3       computers  notebook  None  None  08:19:46           9     10  2019   \n",
       "4       computers  notebook  None  None  19:49:09           2     10  2019   \n",
       "...           ...       ...   ...   ...       ...         ...    ...   ...   \n",
       "156125  computers  notebook  None  None  23:41:58          31     10  2019   \n",
       "156126  computers  notebook  None  None  23:43:25          31     10  2019   \n",
       "156127  computers  notebook  None  None  23:43:52          31     10  2019   \n",
       "156128  computers  notebook  None  None  23:44:30          31     10  2019   \n",
       "156129  computers  notebook  None  None  23:55:24          31     10  2019   \n",
       "\n",
       "              Day  Hour  event_type_ID  \n",
       "0          Friday    14              0  \n",
       "1        Saturday     8              0  \n",
       "2        Thursday    19              0  \n",
       "3       Wednesday     8              0  \n",
       "4       Wednesday    19              0  \n",
       "...           ...   ...            ...  \n",
       "156125   Thursday    23              0  \n",
       "156126   Thursday    23              2  \n",
       "156127   Thursday    23              0  \n",
       "156128   Thursday    23              0  \n",
       "156129   Thursday    23              0  \n",
       "\n",
       "[156130 rows x 20 columns]"
      ]
     },
     "execution_count": 36,
     "metadata": {},
     "output_type": "execute_result"
    }
   ],
   "source": [
    "df_notebook"
   ]
  },
  {
   "cell_type": "markdown",
   "id": "compact-swimming",
   "metadata": {
    "id": "compact-swimming"
   },
   "source": [
    "## **DATA CLEANING.**"
   ]
  },
  {
   "cell_type": "code",
   "execution_count": 37,
   "id": "alive-aluminum",
   "metadata": {
    "colab": {
     "base_uri": "https://localhost:8080/",
     "height": 618
    },
    "executionInfo": {
     "elapsed": 358,
     "status": "ok",
     "timestamp": 1622678717901,
     "user": {
      "displayName": "David Guzzi",
      "photoUrl": "https://lh3.googleusercontent.com/a-/AOh14GhSjhgfhnxX5QmyhWy5jLH3NKcCVPEgEB9KwpG4Eg=s64",
      "userId": "10735015058891789975"
     },
     "user_tz": 180
    },
    "id": "alive-aluminum",
    "outputId": "3bfc5f50-3a62-486b-dcbb-4b8d84ad3fc5"
   },
   "outputs": [
    {
     "data": {
      "text/html": [
       "<div>\n",
       "<style scoped>\n",
       "    .dataframe tbody tr th:only-of-type {\n",
       "        vertical-align: middle;\n",
       "    }\n",
       "\n",
       "    .dataframe tbody tr th {\n",
       "        vertical-align: top;\n",
       "    }\n",
       "\n",
       "    .dataframe thead th {\n",
       "        text-align: right;\n",
       "    }\n",
       "</style>\n",
       "<table border=\"1\" class=\"dataframe\">\n",
       "  <thead>\n",
       "    <tr style=\"text-align: right;\">\n",
       "      <th></th>\n",
       "      <th>level_0</th>\n",
       "      <th>index</th>\n",
       "      <th>event_time</th>\n",
       "      <th>event_type</th>\n",
       "      <th>product_id</th>\n",
       "      <th>category_id</th>\n",
       "      <th>category_code</th>\n",
       "      <th>brand</th>\n",
       "      <th>price</th>\n",
       "      <th>user_id</th>\n",
       "      <th>...</th>\n",
       "      <th>N1</th>\n",
       "      <th>N2</th>\n",
       "      <th>N3</th>\n",
       "      <th>Time</th>\n",
       "      <th>DayOfMonth</th>\n",
       "      <th>Month</th>\n",
       "      <th>Year</th>\n",
       "      <th>Day</th>\n",
       "      <th>Hour</th>\n",
       "      <th>event_type_ID</th>\n",
       "    </tr>\n",
       "  </thead>\n",
       "  <tbody>\n",
       "    <tr>\n",
       "      <th>0</th>\n",
       "      <td>0</td>\n",
       "      <td>24303444</td>\n",
       "      <td>2019-10-18 14:21:55</td>\n",
       "      <td>view</td>\n",
       "      <td>1307059</td>\n",
       "      <td>2053013558920217191</td>\n",
       "      <td>computers.notebook</td>\n",
       "      <td>apple</td>\n",
       "      <td>1569.92</td>\n",
       "      <td>549727626</td>\n",
       "      <td>...</td>\n",
       "      <td>notebook</td>\n",
       "      <td>None</td>\n",
       "      <td>None</td>\n",
       "      <td>14:21:55</td>\n",
       "      <td>18</td>\n",
       "      <td>10</td>\n",
       "      <td>2019</td>\n",
       "      <td>Friday</td>\n",
       "      <td>14</td>\n",
       "      <td>0</td>\n",
       "    </tr>\n",
       "    <tr>\n",
       "      <th>1</th>\n",
       "      <td>1</td>\n",
       "      <td>5398322</td>\n",
       "      <td>2019-10-05 08:20:00</td>\n",
       "      <td>view</td>\n",
       "      <td>1307344</td>\n",
       "      <td>2053013558920217191</td>\n",
       "      <td>computers.notebook</td>\n",
       "      <td>asus</td>\n",
       "      <td>540.53</td>\n",
       "      <td>549734639</td>\n",
       "      <td>...</td>\n",
       "      <td>notebook</td>\n",
       "      <td>None</td>\n",
       "      <td>None</td>\n",
       "      <td>08:20:00</td>\n",
       "      <td>5</td>\n",
       "      <td>10</td>\n",
       "      <td>2019</td>\n",
       "      <td>Saturday</td>\n",
       "      <td>8</td>\n",
       "      <td>0</td>\n",
       "    </tr>\n",
       "    <tr>\n",
       "      <th>2</th>\n",
       "      <td>2</td>\n",
       "      <td>12732638</td>\n",
       "      <td>2019-10-10 19:00:37</td>\n",
       "      <td>view</td>\n",
       "      <td>1306691</td>\n",
       "      <td>2053013558920217191</td>\n",
       "      <td>computers.notebook</td>\n",
       "      <td>lenovo</td>\n",
       "      <td>373.06</td>\n",
       "      <td>513074495</td>\n",
       "      <td>...</td>\n",
       "      <td>notebook</td>\n",
       "      <td>None</td>\n",
       "      <td>None</td>\n",
       "      <td>19:00:37</td>\n",
       "      <td>10</td>\n",
       "      <td>10</td>\n",
       "      <td>2019</td>\n",
       "      <td>Thursday</td>\n",
       "      <td>19</td>\n",
       "      <td>0</td>\n",
       "    </tr>\n",
       "    <tr>\n",
       "      <th>3</th>\n",
       "      <td>3</td>\n",
       "      <td>10624462</td>\n",
       "      <td>2019-10-09 08:19:46</td>\n",
       "      <td>view</td>\n",
       "      <td>1306686</td>\n",
       "      <td>2053013558920217191</td>\n",
       "      <td>computers.notebook</td>\n",
       "      <td>prestigio</td>\n",
       "      <td>257.15</td>\n",
       "      <td>558355847</td>\n",
       "      <td>...</td>\n",
       "      <td>notebook</td>\n",
       "      <td>None</td>\n",
       "      <td>None</td>\n",
       "      <td>08:19:46</td>\n",
       "      <td>9</td>\n",
       "      <td>10</td>\n",
       "      <td>2019</td>\n",
       "      <td>Wednesday</td>\n",
       "      <td>8</td>\n",
       "      <td>0</td>\n",
       "    </tr>\n",
       "    <tr>\n",
       "      <th>4</th>\n",
       "      <td>4</td>\n",
       "      <td>2388466</td>\n",
       "      <td>2019-10-02 19:49:09</td>\n",
       "      <td>view</td>\n",
       "      <td>1307293</td>\n",
       "      <td>2053013558920217191</td>\n",
       "      <td>computers.notebook</td>\n",
       "      <td>msi</td>\n",
       "      <td>866.71</td>\n",
       "      <td>534449314</td>\n",
       "      <td>...</td>\n",
       "      <td>notebook</td>\n",
       "      <td>None</td>\n",
       "      <td>None</td>\n",
       "      <td>19:49:09</td>\n",
       "      <td>2</td>\n",
       "      <td>10</td>\n",
       "      <td>2019</td>\n",
       "      <td>Wednesday</td>\n",
       "      <td>19</td>\n",
       "      <td>0</td>\n",
       "    </tr>\n",
       "    <tr>\n",
       "      <th>...</th>\n",
       "      <td>...</td>\n",
       "      <td>...</td>\n",
       "      <td>...</td>\n",
       "      <td>...</td>\n",
       "      <td>...</td>\n",
       "      <td>...</td>\n",
       "      <td>...</td>\n",
       "      <td>...</td>\n",
       "      <td>...</td>\n",
       "      <td>...</td>\n",
       "      <td>...</td>\n",
       "      <td>...</td>\n",
       "      <td>...</td>\n",
       "      <td>...</td>\n",
       "      <td>...</td>\n",
       "      <td>...</td>\n",
       "      <td>...</td>\n",
       "      <td>...</td>\n",
       "      <td>...</td>\n",
       "      <td>...</td>\n",
       "      <td>...</td>\n",
       "    </tr>\n",
       "    <tr>\n",
       "      <th>156125</th>\n",
       "      <td>156125</td>\n",
       "      <td>42446530</td>\n",
       "      <td>2019-10-31 23:41:58</td>\n",
       "      <td>view</td>\n",
       "      <td>1307545</td>\n",
       "      <td>2053013558920217191</td>\n",
       "      <td>computers.notebook</td>\n",
       "      <td>lenovo</td>\n",
       "      <td>257.15</td>\n",
       "      <td>546977150</td>\n",
       "      <td>...</td>\n",
       "      <td>notebook</td>\n",
       "      <td>None</td>\n",
       "      <td>None</td>\n",
       "      <td>23:41:58</td>\n",
       "      <td>31</td>\n",
       "      <td>10</td>\n",
       "      <td>2019</td>\n",
       "      <td>Thursday</td>\n",
       "      <td>23</td>\n",
       "      <td>0</td>\n",
       "    </tr>\n",
       "    <tr>\n",
       "      <th>156126</th>\n",
       "      <td>156126</td>\n",
       "      <td>42446696</td>\n",
       "      <td>2019-10-31 23:43:25</td>\n",
       "      <td>purchase</td>\n",
       "      <td>1307545</td>\n",
       "      <td>2053013558920217191</td>\n",
       "      <td>computers.notebook</td>\n",
       "      <td>lenovo</td>\n",
       "      <td>257.15</td>\n",
       "      <td>546977150</td>\n",
       "      <td>...</td>\n",
       "      <td>notebook</td>\n",
       "      <td>None</td>\n",
       "      <td>None</td>\n",
       "      <td>23:43:25</td>\n",
       "      <td>31</td>\n",
       "      <td>10</td>\n",
       "      <td>2019</td>\n",
       "      <td>Thursday</td>\n",
       "      <td>23</td>\n",
       "      <td>2</td>\n",
       "    </tr>\n",
       "    <tr>\n",
       "      <th>156127</th>\n",
       "      <td>156127</td>\n",
       "      <td>42446757</td>\n",
       "      <td>2019-10-31 23:43:52</td>\n",
       "      <td>view</td>\n",
       "      <td>1307545</td>\n",
       "      <td>2053013558920217191</td>\n",
       "      <td>computers.notebook</td>\n",
       "      <td>lenovo</td>\n",
       "      <td>257.15</td>\n",
       "      <td>546977150</td>\n",
       "      <td>...</td>\n",
       "      <td>notebook</td>\n",
       "      <td>None</td>\n",
       "      <td>None</td>\n",
       "      <td>23:43:52</td>\n",
       "      <td>31</td>\n",
       "      <td>10</td>\n",
       "      <td>2019</td>\n",
       "      <td>Thursday</td>\n",
       "      <td>23</td>\n",
       "      <td>0</td>\n",
       "    </tr>\n",
       "    <tr>\n",
       "      <th>156128</th>\n",
       "      <td>156128</td>\n",
       "      <td>42446833</td>\n",
       "      <td>2019-10-31 23:44:30</td>\n",
       "      <td>view</td>\n",
       "      <td>1307545</td>\n",
       "      <td>2053013558920217191</td>\n",
       "      <td>computers.notebook</td>\n",
       "      <td>lenovo</td>\n",
       "      <td>257.15</td>\n",
       "      <td>546977150</td>\n",
       "      <td>...</td>\n",
       "      <td>notebook</td>\n",
       "      <td>None</td>\n",
       "      <td>None</td>\n",
       "      <td>23:44:30</td>\n",
       "      <td>31</td>\n",
       "      <td>10</td>\n",
       "      <td>2019</td>\n",
       "      <td>Thursday</td>\n",
       "      <td>23</td>\n",
       "      <td>0</td>\n",
       "    </tr>\n",
       "    <tr>\n",
       "      <th>156129</th>\n",
       "      <td>156129</td>\n",
       "      <td>42448181</td>\n",
       "      <td>2019-10-31 23:55:24</td>\n",
       "      <td>view</td>\n",
       "      <td>1306256</td>\n",
       "      <td>2053013558920217191</td>\n",
       "      <td>computers.notebook</td>\n",
       "      <td>hp</td>\n",
       "      <td>334.37</td>\n",
       "      <td>523494091</td>\n",
       "      <td>...</td>\n",
       "      <td>notebook</td>\n",
       "      <td>None</td>\n",
       "      <td>None</td>\n",
       "      <td>23:55:24</td>\n",
       "      <td>31</td>\n",
       "      <td>10</td>\n",
       "      <td>2019</td>\n",
       "      <td>Thursday</td>\n",
       "      <td>23</td>\n",
       "      <td>0</td>\n",
       "    </tr>\n",
       "  </tbody>\n",
       "</table>\n",
       "<p>156130 rows × 21 columns</p>\n",
       "</div>"
      ],
      "text/plain": [
       "        level_0     index          event_time event_type  product_id  \\\n",
       "0             0  24303444 2019-10-18 14:21:55       view     1307059   \n",
       "1             1   5398322 2019-10-05 08:20:00       view     1307344   \n",
       "2             2  12732638 2019-10-10 19:00:37       view     1306691   \n",
       "3             3  10624462 2019-10-09 08:19:46       view     1306686   \n",
       "4             4   2388466 2019-10-02 19:49:09       view     1307293   \n",
       "...         ...       ...                 ...        ...         ...   \n",
       "156125   156125  42446530 2019-10-31 23:41:58       view     1307545   \n",
       "156126   156126  42446696 2019-10-31 23:43:25   purchase     1307545   \n",
       "156127   156127  42446757 2019-10-31 23:43:52       view     1307545   \n",
       "156128   156128  42446833 2019-10-31 23:44:30       view     1307545   \n",
       "156129   156129  42448181 2019-10-31 23:55:24       view     1306256   \n",
       "\n",
       "                category_id       category_code      brand   price    user_id  \\\n",
       "0       2053013558920217191  computers.notebook      apple 1569.92  549727626   \n",
       "1       2053013558920217191  computers.notebook       asus  540.53  549734639   \n",
       "2       2053013558920217191  computers.notebook     lenovo  373.06  513074495   \n",
       "3       2053013558920217191  computers.notebook  prestigio  257.15  558355847   \n",
       "4       2053013558920217191  computers.notebook        msi  866.71  534449314   \n",
       "...                     ...                 ...        ...     ...        ...   \n",
       "156125  2053013558920217191  computers.notebook     lenovo  257.15  546977150   \n",
       "156126  2053013558920217191  computers.notebook     lenovo  257.15  546977150   \n",
       "156127  2053013558920217191  computers.notebook     lenovo  257.15  546977150   \n",
       "156128  2053013558920217191  computers.notebook     lenovo  257.15  546977150   \n",
       "156129  2053013558920217191  computers.notebook         hp  334.37  523494091   \n",
       "\n",
       "        ...        N1    N2    N3      Time DayOfMonth  Month  Year  \\\n",
       "0       ...  notebook  None  None  14:21:55         18     10  2019   \n",
       "1       ...  notebook  None  None  08:20:00          5     10  2019   \n",
       "2       ...  notebook  None  None  19:00:37         10     10  2019   \n",
       "3       ...  notebook  None  None  08:19:46          9     10  2019   \n",
       "4       ...  notebook  None  None  19:49:09          2     10  2019   \n",
       "...     ...       ...   ...   ...       ...        ...    ...   ...   \n",
       "156125  ...  notebook  None  None  23:41:58         31     10  2019   \n",
       "156126  ...  notebook  None  None  23:43:25         31     10  2019   \n",
       "156127  ...  notebook  None  None  23:43:52         31     10  2019   \n",
       "156128  ...  notebook  None  None  23:44:30         31     10  2019   \n",
       "156129  ...  notebook  None  None  23:55:24         31     10  2019   \n",
       "\n",
       "              Day Hour  event_type_ID  \n",
       "0          Friday   14              0  \n",
       "1        Saturday    8              0  \n",
       "2        Thursday   19              0  \n",
       "3       Wednesday    8              0  \n",
       "4       Wednesday   19              0  \n",
       "...           ...  ...            ...  \n",
       "156125   Thursday   23              0  \n",
       "156126   Thursday   23              2  \n",
       "156127   Thursday   23              0  \n",
       "156128   Thursday   23              0  \n",
       "156129   Thursday   23              0  \n",
       "\n",
       "[156130 rows x 21 columns]"
      ]
     },
     "execution_count": 37,
     "metadata": {},
     "output_type": "execute_result"
    }
   ],
   "source": [
    "#We will only keep the records from October 2019.\n",
    "df_notebook_OCT= df_notebook[(df_notebook['Month']==10) & (df_notebook['Year']==2019)].copy() \n",
    "df_notebook_OCT.reset_index()"
   ]
  },
  {
   "cell_type": "markdown",
   "id": "separate-seeking",
   "metadata": {
    "id": "separate-seeking"
   },
   "source": [
    "## **DOMAIN UNDERSTANDING**. \n",
    "**We seek to answer:** Can a user make purchases without first viewing the product or adding it to the cart?"
   ]
  },
  {
   "cell_type": "code",
   "execution_count": 38,
   "id": "surface-hearts",
   "metadata": {
    "colab": {
     "base_uri": "https://localhost:8080/",
     "height": 313
    },
    "executionInfo": {
     "elapsed": 374,
     "status": "ok",
     "timestamp": 1622678725001,
     "user": {
      "displayName": "David Guzzi",
      "photoUrl": "https://lh3.googleusercontent.com/a-/AOh14GhSjhgfhnxX5QmyhWy5jLH3NKcCVPEgEB9KwpG4Eg=s64",
      "userId": "10735015058891789975"
     },
     "user_tz": 180
    },
    "id": "surface-hearts",
    "outputId": "106b7349-8b3e-453a-ca68-fa2703c5d4d2"
   },
   "outputs": [
    {
     "data": {
      "text/html": [
       "<div>\n",
       "<style scoped>\n",
       "    .dataframe tbody tr th:only-of-type {\n",
       "        vertical-align: middle;\n",
       "    }\n",
       "\n",
       "    .dataframe tbody tr th {\n",
       "        vertical-align: top;\n",
       "    }\n",
       "\n",
       "    .dataframe thead th {\n",
       "        text-align: right;\n",
       "    }\n",
       "</style>\n",
       "<table border=\"1\" class=\"dataframe\">\n",
       "  <thead>\n",
       "    <tr style=\"text-align: right;\">\n",
       "      <th></th>\n",
       "      <th>index</th>\n",
       "      <th>event_time</th>\n",
       "      <th>event_type</th>\n",
       "      <th>product_id</th>\n",
       "      <th>category_id</th>\n",
       "      <th>category_code</th>\n",
       "      <th>brand</th>\n",
       "      <th>price</th>\n",
       "      <th>user_id</th>\n",
       "      <th>N0</th>\n",
       "      <th>N1</th>\n",
       "      <th>N2</th>\n",
       "      <th>N3</th>\n",
       "      <th>Time</th>\n",
       "      <th>DayOfMonth</th>\n",
       "      <th>Month</th>\n",
       "      <th>Year</th>\n",
       "      <th>Day</th>\n",
       "      <th>Hour</th>\n",
       "      <th>event_type_ID</th>\n",
       "    </tr>\n",
       "  </thead>\n",
       "  <tbody>\n",
       "    <tr>\n",
       "      <th>156123</th>\n",
       "      <td>42446412</td>\n",
       "      <td>2019-10-31 23:41:03</td>\n",
       "      <td>view</td>\n",
       "      <td>1307545</td>\n",
       "      <td>2053013558920217191</td>\n",
       "      <td>computers.notebook</td>\n",
       "      <td>lenovo</td>\n",
       "      <td>257.15</td>\n",
       "      <td>546977150</td>\n",
       "      <td>computers</td>\n",
       "      <td>notebook</td>\n",
       "      <td>None</td>\n",
       "      <td>None</td>\n",
       "      <td>23:41:03</td>\n",
       "      <td>31</td>\n",
       "      <td>10</td>\n",
       "      <td>2019</td>\n",
       "      <td>Thursday</td>\n",
       "      <td>23</td>\n",
       "      <td>0</td>\n",
       "    </tr>\n",
       "    <tr>\n",
       "      <th>156125</th>\n",
       "      <td>42446530</td>\n",
       "      <td>2019-10-31 23:41:58</td>\n",
       "      <td>view</td>\n",
       "      <td>1307545</td>\n",
       "      <td>2053013558920217191</td>\n",
       "      <td>computers.notebook</td>\n",
       "      <td>lenovo</td>\n",
       "      <td>257.15</td>\n",
       "      <td>546977150</td>\n",
       "      <td>computers</td>\n",
       "      <td>notebook</td>\n",
       "      <td>None</td>\n",
       "      <td>None</td>\n",
       "      <td>23:41:58</td>\n",
       "      <td>31</td>\n",
       "      <td>10</td>\n",
       "      <td>2019</td>\n",
       "      <td>Thursday</td>\n",
       "      <td>23</td>\n",
       "      <td>0</td>\n",
       "    </tr>\n",
       "    <tr>\n",
       "      <th>156126</th>\n",
       "      <td>42446696</td>\n",
       "      <td>2019-10-31 23:43:25</td>\n",
       "      <td>purchase</td>\n",
       "      <td>1307545</td>\n",
       "      <td>2053013558920217191</td>\n",
       "      <td>computers.notebook</td>\n",
       "      <td>lenovo</td>\n",
       "      <td>257.15</td>\n",
       "      <td>546977150</td>\n",
       "      <td>computers</td>\n",
       "      <td>notebook</td>\n",
       "      <td>None</td>\n",
       "      <td>None</td>\n",
       "      <td>23:43:25</td>\n",
       "      <td>31</td>\n",
       "      <td>10</td>\n",
       "      <td>2019</td>\n",
       "      <td>Thursday</td>\n",
       "      <td>23</td>\n",
       "      <td>2</td>\n",
       "    </tr>\n",
       "    <tr>\n",
       "      <th>156127</th>\n",
       "      <td>42446757</td>\n",
       "      <td>2019-10-31 23:43:52</td>\n",
       "      <td>view</td>\n",
       "      <td>1307545</td>\n",
       "      <td>2053013558920217191</td>\n",
       "      <td>computers.notebook</td>\n",
       "      <td>lenovo</td>\n",
       "      <td>257.15</td>\n",
       "      <td>546977150</td>\n",
       "      <td>computers</td>\n",
       "      <td>notebook</td>\n",
       "      <td>None</td>\n",
       "      <td>None</td>\n",
       "      <td>23:43:52</td>\n",
       "      <td>31</td>\n",
       "      <td>10</td>\n",
       "      <td>2019</td>\n",
       "      <td>Thursday</td>\n",
       "      <td>23</td>\n",
       "      <td>0</td>\n",
       "    </tr>\n",
       "    <tr>\n",
       "      <th>156128</th>\n",
       "      <td>42446833</td>\n",
       "      <td>2019-10-31 23:44:30</td>\n",
       "      <td>view</td>\n",
       "      <td>1307545</td>\n",
       "      <td>2053013558920217191</td>\n",
       "      <td>computers.notebook</td>\n",
       "      <td>lenovo</td>\n",
       "      <td>257.15</td>\n",
       "      <td>546977150</td>\n",
       "      <td>computers</td>\n",
       "      <td>notebook</td>\n",
       "      <td>None</td>\n",
       "      <td>None</td>\n",
       "      <td>23:44:30</td>\n",
       "      <td>31</td>\n",
       "      <td>10</td>\n",
       "      <td>2019</td>\n",
       "      <td>Thursday</td>\n",
       "      <td>23</td>\n",
       "      <td>0</td>\n",
       "    </tr>\n",
       "  </tbody>\n",
       "</table>\n",
       "</div>"
      ],
      "text/plain": [
       "           index          event_time event_type  product_id  \\\n",
       "156123  42446412 2019-10-31 23:41:03       view     1307545   \n",
       "156125  42446530 2019-10-31 23:41:58       view     1307545   \n",
       "156126  42446696 2019-10-31 23:43:25   purchase     1307545   \n",
       "156127  42446757 2019-10-31 23:43:52       view     1307545   \n",
       "156128  42446833 2019-10-31 23:44:30       view     1307545   \n",
       "\n",
       "                category_id       category_code   brand  price    user_id  \\\n",
       "156123  2053013558920217191  computers.notebook  lenovo 257.15  546977150   \n",
       "156125  2053013558920217191  computers.notebook  lenovo 257.15  546977150   \n",
       "156126  2053013558920217191  computers.notebook  lenovo 257.15  546977150   \n",
       "156127  2053013558920217191  computers.notebook  lenovo 257.15  546977150   \n",
       "156128  2053013558920217191  computers.notebook  lenovo 257.15  546977150   \n",
       "\n",
       "               N0        N1    N2    N3      Time  DayOfMonth  Month  Year  \\\n",
       "156123  computers  notebook  None  None  23:41:03          31     10  2019   \n",
       "156125  computers  notebook  None  None  23:41:58          31     10  2019   \n",
       "156126  computers  notebook  None  None  23:43:25          31     10  2019   \n",
       "156127  computers  notebook  None  None  23:43:52          31     10  2019   \n",
       "156128  computers  notebook  None  None  23:44:30          31     10  2019   \n",
       "\n",
       "             Day  Hour  event_type_ID  \n",
       "156123  Thursday    23              0  \n",
       "156125  Thursday    23              0  \n",
       "156126  Thursday    23              2  \n",
       "156127  Thursday    23              0  \n",
       "156128  Thursday    23              0  "
      ]
     },
     "execution_count": 38,
     "metadata": {},
     "output_type": "execute_result"
    }
   ],
   "source": [
    "df_notebook_OCT[(df_notebook_OCT['user_id']==546977150) & (df_notebook_OCT['product_id']==1307545)]"
   ]
  },
  {
   "cell_type": "code",
   "execution_count": 39,
   "id": "fitting-gentleman",
   "metadata": {
    "colab": {
     "base_uri": "https://localhost:8080/",
     "height": 167
    },
    "executionInfo": {
     "elapsed": 543,
     "status": "ok",
     "timestamp": 1622678728620,
     "user": {
      "displayName": "David Guzzi",
      "photoUrl": "https://lh3.googleusercontent.com/a-/AOh14GhSjhgfhnxX5QmyhWy5jLH3NKcCVPEgEB9KwpG4Eg=s64",
      "userId": "10735015058891789975"
     },
     "user_tz": 180
    },
    "id": "fitting-gentleman",
    "outputId": "58280da7-eb28-4951-95b4-7a38525323f8"
   },
   "outputs": [
    {
     "data": {
      "text/html": [
       "<div>\n",
       "<style scoped>\n",
       "    .dataframe tbody tr th:only-of-type {\n",
       "        vertical-align: middle;\n",
       "    }\n",
       "\n",
       "    .dataframe tbody tr th {\n",
       "        vertical-align: top;\n",
       "    }\n",
       "\n",
       "    .dataframe thead th {\n",
       "        text-align: right;\n",
       "    }\n",
       "</style>\n",
       "<table border=\"1\" class=\"dataframe\">\n",
       "  <thead>\n",
       "    <tr style=\"text-align: right;\">\n",
       "      <th></th>\n",
       "      <th>index</th>\n",
       "      <th>event_time</th>\n",
       "      <th>event_type</th>\n",
       "      <th>product_id</th>\n",
       "      <th>category_id</th>\n",
       "      <th>category_code</th>\n",
       "      <th>brand</th>\n",
       "      <th>price</th>\n",
       "      <th>user_id</th>\n",
       "      <th>N0</th>\n",
       "      <th>N1</th>\n",
       "      <th>N2</th>\n",
       "      <th>N3</th>\n",
       "      <th>Time</th>\n",
       "      <th>DayOfMonth</th>\n",
       "      <th>Month</th>\n",
       "      <th>Year</th>\n",
       "      <th>Day</th>\n",
       "      <th>Hour</th>\n",
       "      <th>event_type_ID</th>\n",
       "    </tr>\n",
       "  </thead>\n",
       "  <tbody>\n",
       "    <tr>\n",
       "      <th>12</th>\n",
       "      <td>24741545</td>\n",
       "      <td>2019-10-18 18:54:44</td>\n",
       "      <td>cart</td>\n",
       "      <td>1307073</td>\n",
       "      <td>2053013558920217191</td>\n",
       "      <td>computers.notebook</td>\n",
       "      <td>acer</td>\n",
       "      <td>694.71</td>\n",
       "      <td>525574339</td>\n",
       "      <td>computers</td>\n",
       "      <td>notebook</td>\n",
       "      <td>None</td>\n",
       "      <td>None</td>\n",
       "      <td>18:54:44</td>\n",
       "      <td>18</td>\n",
       "      <td>10</td>\n",
       "      <td>2019</td>\n",
       "      <td>Friday</td>\n",
       "      <td>18</td>\n",
       "      <td>1</td>\n",
       "    </tr>\n",
       "    <tr>\n",
       "      <th>50791</th>\n",
       "      <td>24741688</td>\n",
       "      <td>2019-10-18 18:54:51</td>\n",
       "      <td>view</td>\n",
       "      <td>1307073</td>\n",
       "      <td>2053013558920217191</td>\n",
       "      <td>computers.notebook</td>\n",
       "      <td>acer</td>\n",
       "      <td>694.71</td>\n",
       "      <td>525574339</td>\n",
       "      <td>computers</td>\n",
       "      <td>notebook</td>\n",
       "      <td>None</td>\n",
       "      <td>None</td>\n",
       "      <td>18:54:51</td>\n",
       "      <td>18</td>\n",
       "      <td>10</td>\n",
       "      <td>2019</td>\n",
       "      <td>Friday</td>\n",
       "      <td>18</td>\n",
       "      <td>0</td>\n",
       "    </tr>\n",
       "  </tbody>\n",
       "</table>\n",
       "</div>"
      ],
      "text/plain": [
       "          index          event_time event_type  product_id  \\\n",
       "12     24741545 2019-10-18 18:54:44       cart     1307073   \n",
       "50791  24741688 2019-10-18 18:54:51       view     1307073   \n",
       "\n",
       "               category_id       category_code brand  price    user_id  \\\n",
       "12     2053013558920217191  computers.notebook  acer 694.71  525574339   \n",
       "50791  2053013558920217191  computers.notebook  acer 694.71  525574339   \n",
       "\n",
       "              N0        N1    N2    N3      Time  DayOfMonth  Month  Year  \\\n",
       "12     computers  notebook  None  None  18:54:44          18     10  2019   \n",
       "50791  computers  notebook  None  None  18:54:51          18     10  2019   \n",
       "\n",
       "          Day  Hour  event_type_ID  \n",
       "12     Friday    18              1  \n",
       "50791  Friday    18              0  "
      ]
     },
     "execution_count": 39,
     "metadata": {},
     "output_type": "execute_result"
    }
   ],
   "source": [
    "df_notebook_OCT[(df_notebook_OCT['user_id']==525574339) & (df_notebook_OCT['product_id']==1307073)]"
   ]
  },
  {
   "cell_type": "markdown",
   "id": "GIXnBbMUmpMQ",
   "metadata": {
    "id": "GIXnBbMUmpMQ"
   },
   "source": [
    "**Answer:** A product can go from view to purchase, or from view to cart and then from cart to purchase."
   ]
  },
  {
   "cell_type": "markdown",
   "id": "disabled-strain",
   "metadata": {
    "id": "disabled-strain"
   },
   "source": [
    "**We aim to answer:** How many users have abandoned notebooks in the cart during the month of October?"
   ]
  },
  {
   "cell_type": "code",
   "execution_count": 45,
   "id": "twelve-aluminum",
   "metadata": {
    "colab": {
     "base_uri": "https://localhost:8080/"
    },
    "executionInfo": {
     "elapsed": 361,
     "status": "ok",
     "timestamp": 1622678736073,
     "user": {
      "displayName": "David Guzzi",
      "photoUrl": "https://lh3.googleusercontent.com/a-/AOh14GhSjhgfhnxX5QmyhWy5jLH3NKcCVPEgEB9KwpG4Eg=s64",
      "userId": "10735015058891789975"
     },
     "user_tz": 180
    },
    "id": "twelve-aluminum",
    "outputId": "fb98c380-1811-45e6-867b-bff7bac39b26"
   },
   "outputs": [
    {
     "name": "stdout",
     "output_type": "stream",
     "text": [
      "2278 users abandoned the cart out of a total of 37269 users\n"
     ]
    },
    {
     "name": "stderr",
     "output_type": "stream",
     "text": [
      "<ipython-input-45-ac84e6b934c8>:3: FutureWarning: The frame.append method is deprecated and will be removed from pandas in a future version. Use pandas.concat instead.\n",
      "  tablaCartXPurchase = tablaCart.append(tablaPurchase).reset_index().drop(columns='index',axis=1)\n"
     ]
    }
   ],
   "source": [
    "tablaCart= df_notebook_OCT[df_notebook_OCT['event_type']=='cart'][['user_id','product_id','event_type', 'brand']].copy()\n",
    "tablaPurchase= df_notebook_OCT[df_notebook_OCT['event_type']=='purchase'][['user_id','product_id','event_type','brand']].copy()\n",
    "tablaCartXPurchase = tablaCart.append(tablaPurchase).reset_index().drop(columns='index',axis=1)\n",
    "tablaCartXPurchase= tablaCartXPurchase.drop_duplicates(subset=['user_id','product_id'])\n",
    "tablaCartXPurchase.drop(tablaCartXPurchase[tablaCartXPurchase['event_type']=='purchase'].index,inplace=True)\n",
    "cantUserAbandCart= len(tablaCartXPurchase)\n",
    "totalUsuarios= len(df_notebook_OCT['user_id'].unique())\n",
    "print(f'{cantUserAbandCart} users abandoned the cart out of a total of {totalUsuarios} users');"
   ]
  },
  {
   "cell_type": "markdown",
   "id": "631e1972",
   "metadata": {},
   "source": [
    "**We also want to know:** What have been the main notebook brands that have not been purchased by users?"
   ]
  },
  {
   "cell_type": "code",
   "execution_count": 47,
   "id": "f818552b",
   "metadata": {},
   "outputs": [
    {
     "data": {
      "image/png": "[encoded data removed]",
      "text/plain": [
       "<Figure size 432x288 with 1 Axes>"
      ]
     },
     "metadata": {
      "needs_background": "light"
     },
     "output_type": "display_data"
    }
   ],
   "source": [
    "tablaCartXPurchase['brand'].value_counts().plot.bar(ylabel='Amount abandoned', xlabel='Brands', title='Number of abandoned notebooks by brand');"
   ]
  },
  {
   "cell_type": "markdown",
   "id": "aggregate-madness",
   "metadata": {
    "id": "aggregate-madness"
   },
   "source": [
    "## **DUPLICATE CLEANUP**"
   ]
  },
  {
   "cell_type": "code",
   "execution_count": 48,
   "id": "intended-maria",
   "metadata": {
    "executionInfo": {
     "elapsed": 900,
     "status": "ok",
     "timestamp": 1622678755122,
     "user": {
      "displayName": "David Guzzi",
      "photoUrl": "https://lh3.googleusercontent.com/a-/AOh14GhSjhgfhnxX5QmyhWy5jLH3NKcCVPEgEB9KwpG4Eg=s64",
      "userId": "10735015058891789975"
     },
     "user_tz": 180
    },
    "id": "intended-maria"
   },
   "outputs": [],
   "source": [
    "df_notebook = df_notebook.drop_duplicates()"
   ]
  },
  {
   "cell_type": "code",
   "execution_count": 50,
   "id": "peaceful-lender",
   "metadata": {
    "colab": {
     "base_uri": "https://localhost:8080/",
     "height": 618
    },
    "executionInfo": {
     "elapsed": 380,
     "status": "ok",
     "timestamp": 1622678875537,
     "user": {
      "displayName": "David Guzzi",
      "photoUrl": "https://lh3.googleusercontent.com/a-/AOh14GhSjhgfhnxX5QmyhWy5jLH3NKcCVPEgEB9KwpG4Eg=s64",
      "userId": "10735015058891789975"
     },
     "user_tz": 180
    },
    "id": "peaceful-lender",
    "outputId": "bae70399-4592-418c-be57-be396b9418a2"
   },
   "outputs": [
    {
     "data": {
      "text/html": [
       "<div>\n",
       "<style scoped>\n",
       "    .dataframe tbody tr th:only-of-type {\n",
       "        vertical-align: middle;\n",
       "    }\n",
       "\n",
       "    .dataframe tbody tr th {\n",
       "        vertical-align: top;\n",
       "    }\n",
       "\n",
       "    .dataframe thead th {\n",
       "        text-align: right;\n",
       "    }\n",
       "</style>\n",
       "<table border=\"1\" class=\"dataframe\">\n",
       "  <thead>\n",
       "    <tr style=\"text-align: right;\">\n",
       "      <th></th>\n",
       "      <th>user_id</th>\n",
       "      <th>event_time</th>\n",
       "      <th>Year</th>\n",
       "      <th>Month</th>\n",
       "      <th>DayOfMonth</th>\n",
       "      <th>Day</th>\n",
       "      <th>Time</th>\n",
       "      <th>event_type</th>\n",
       "      <th>event_type_ID</th>\n",
       "      <th>product_id</th>\n",
       "      <th>category_id</th>\n",
       "      <th>category_code</th>\n",
       "      <th>brand</th>\n",
       "      <th>price</th>\n",
       "    </tr>\n",
       "  </thead>\n",
       "  <tbody>\n",
       "    <tr>\n",
       "      <th>0</th>\n",
       "      <td>549727626</td>\n",
       "      <td>2019-10-18 14:21:55</td>\n",
       "      <td>2019</td>\n",
       "      <td>10</td>\n",
       "      <td>18</td>\n",
       "      <td>Friday</td>\n",
       "      <td>14:21:55</td>\n",
       "      <td>view</td>\n",
       "      <td>0</td>\n",
       "      <td>1307059</td>\n",
       "      <td>2053013558920217191</td>\n",
       "      <td>computers.notebook</td>\n",
       "      <td>apple</td>\n",
       "      <td>1569.92</td>\n",
       "    </tr>\n",
       "    <tr>\n",
       "      <th>1</th>\n",
       "      <td>549734639</td>\n",
       "      <td>2019-10-05 08:20:00</td>\n",
       "      <td>2019</td>\n",
       "      <td>10</td>\n",
       "      <td>5</td>\n",
       "      <td>Saturday</td>\n",
       "      <td>08:20:00</td>\n",
       "      <td>view</td>\n",
       "      <td>0</td>\n",
       "      <td>1307344</td>\n",
       "      <td>2053013558920217191</td>\n",
       "      <td>computers.notebook</td>\n",
       "      <td>asus</td>\n",
       "      <td>540.53</td>\n",
       "    </tr>\n",
       "    <tr>\n",
       "      <th>2</th>\n",
       "      <td>513074495</td>\n",
       "      <td>2019-10-10 19:00:37</td>\n",
       "      <td>2019</td>\n",
       "      <td>10</td>\n",
       "      <td>10</td>\n",
       "      <td>Thursday</td>\n",
       "      <td>19:00:37</td>\n",
       "      <td>view</td>\n",
       "      <td>0</td>\n",
       "      <td>1306691</td>\n",
       "      <td>2053013558920217191</td>\n",
       "      <td>computers.notebook</td>\n",
       "      <td>lenovo</td>\n",
       "      <td>373.06</td>\n",
       "    </tr>\n",
       "    <tr>\n",
       "      <th>3</th>\n",
       "      <td>558355847</td>\n",
       "      <td>2019-10-09 08:19:46</td>\n",
       "      <td>2019</td>\n",
       "      <td>10</td>\n",
       "      <td>9</td>\n",
       "      <td>Wednesday</td>\n",
       "      <td>08:19:46</td>\n",
       "      <td>view</td>\n",
       "      <td>0</td>\n",
       "      <td>1306686</td>\n",
       "      <td>2053013558920217191</td>\n",
       "      <td>computers.notebook</td>\n",
       "      <td>prestigio</td>\n",
       "      <td>257.15</td>\n",
       "    </tr>\n",
       "    <tr>\n",
       "      <th>4</th>\n",
       "      <td>534449314</td>\n",
       "      <td>2019-10-02 19:49:09</td>\n",
       "      <td>2019</td>\n",
       "      <td>10</td>\n",
       "      <td>2</td>\n",
       "      <td>Wednesday</td>\n",
       "      <td>19:49:09</td>\n",
       "      <td>view</td>\n",
       "      <td>0</td>\n",
       "      <td>1307293</td>\n",
       "      <td>2053013558920217191</td>\n",
       "      <td>computers.notebook</td>\n",
       "      <td>msi</td>\n",
       "      <td>866.71</td>\n",
       "    </tr>\n",
       "    <tr>\n",
       "      <th>...</th>\n",
       "      <td>...</td>\n",
       "      <td>...</td>\n",
       "      <td>...</td>\n",
       "      <td>...</td>\n",
       "      <td>...</td>\n",
       "      <td>...</td>\n",
       "      <td>...</td>\n",
       "      <td>...</td>\n",
       "      <td>...</td>\n",
       "      <td>...</td>\n",
       "      <td>...</td>\n",
       "      <td>...</td>\n",
       "      <td>...</td>\n",
       "      <td>...</td>\n",
       "    </tr>\n",
       "    <tr>\n",
       "      <th>156125</th>\n",
       "      <td>546977150</td>\n",
       "      <td>2019-10-31 23:41:58</td>\n",
       "      <td>2019</td>\n",
       "      <td>10</td>\n",
       "      <td>31</td>\n",
       "      <td>Thursday</td>\n",
       "      <td>23:41:58</td>\n",
       "      <td>view</td>\n",
       "      <td>0</td>\n",
       "      <td>1307545</td>\n",
       "      <td>2053013558920217191</td>\n",
       "      <td>computers.notebook</td>\n",
       "      <td>lenovo</td>\n",
       "      <td>257.15</td>\n",
       "    </tr>\n",
       "    <tr>\n",
       "      <th>156126</th>\n",
       "      <td>546977150</td>\n",
       "      <td>2019-10-31 23:43:25</td>\n",
       "      <td>2019</td>\n",
       "      <td>10</td>\n",
       "      <td>31</td>\n",
       "      <td>Thursday</td>\n",
       "      <td>23:43:25</td>\n",
       "      <td>purchase</td>\n",
       "      <td>2</td>\n",
       "      <td>1307545</td>\n",
       "      <td>2053013558920217191</td>\n",
       "      <td>computers.notebook</td>\n",
       "      <td>lenovo</td>\n",
       "      <td>257.15</td>\n",
       "    </tr>\n",
       "    <tr>\n",
       "      <th>156127</th>\n",
       "      <td>546977150</td>\n",
       "      <td>2019-10-31 23:43:52</td>\n",
       "      <td>2019</td>\n",
       "      <td>10</td>\n",
       "      <td>31</td>\n",
       "      <td>Thursday</td>\n",
       "      <td>23:43:52</td>\n",
       "      <td>view</td>\n",
       "      <td>0</td>\n",
       "      <td>1307545</td>\n",
       "      <td>2053013558920217191</td>\n",
       "      <td>computers.notebook</td>\n",
       "      <td>lenovo</td>\n",
       "      <td>257.15</td>\n",
       "    </tr>\n",
       "    <tr>\n",
       "      <th>156128</th>\n",
       "      <td>546977150</td>\n",
       "      <td>2019-10-31 23:44:30</td>\n",
       "      <td>2019</td>\n",
       "      <td>10</td>\n",
       "      <td>31</td>\n",
       "      <td>Thursday</td>\n",
       "      <td>23:44:30</td>\n",
       "      <td>view</td>\n",
       "      <td>0</td>\n",
       "      <td>1307545</td>\n",
       "      <td>2053013558920217191</td>\n",
       "      <td>computers.notebook</td>\n",
       "      <td>lenovo</td>\n",
       "      <td>257.15</td>\n",
       "    </tr>\n",
       "    <tr>\n",
       "      <th>156129</th>\n",
       "      <td>523494091</td>\n",
       "      <td>2019-10-31 23:55:24</td>\n",
       "      <td>2019</td>\n",
       "      <td>10</td>\n",
       "      <td>31</td>\n",
       "      <td>Thursday</td>\n",
       "      <td>23:55:24</td>\n",
       "      <td>view</td>\n",
       "      <td>0</td>\n",
       "      <td>1306256</td>\n",
       "      <td>2053013558920217191</td>\n",
       "      <td>computers.notebook</td>\n",
       "      <td>hp</td>\n",
       "      <td>334.37</td>\n",
       "    </tr>\n",
       "  </tbody>\n",
       "</table>\n",
       "<p>156130 rows × 14 columns</p>\n",
       "</div>"
      ],
      "text/plain": [
       "          user_id          event_time  Year  Month  DayOfMonth        Day  \\\n",
       "0       549727626 2019-10-18 14:21:55  2019     10          18     Friday   \n",
       "1       549734639 2019-10-05 08:20:00  2019     10           5   Saturday   \n",
       "2       513074495 2019-10-10 19:00:37  2019     10          10   Thursday   \n",
       "3       558355847 2019-10-09 08:19:46  2019     10           9  Wednesday   \n",
       "4       534449314 2019-10-02 19:49:09  2019     10           2  Wednesday   \n",
       "...           ...                 ...   ...    ...         ...        ...   \n",
       "156125  546977150 2019-10-31 23:41:58  2019     10          31   Thursday   \n",
       "156126  546977150 2019-10-31 23:43:25  2019     10          31   Thursday   \n",
       "156127  546977150 2019-10-31 23:43:52  2019     10          31   Thursday   \n",
       "156128  546977150 2019-10-31 23:44:30  2019     10          31   Thursday   \n",
       "156129  523494091 2019-10-31 23:55:24  2019     10          31   Thursday   \n",
       "\n",
       "            Time event_type  event_type_ID  product_id          category_id  \\\n",
       "0       14:21:55       view              0     1307059  2053013558920217191   \n",
       "1       08:20:00       view              0     1307344  2053013558920217191   \n",
       "2       19:00:37       view              0     1306691  2053013558920217191   \n",
       "3       08:19:46       view              0     1306686  2053013558920217191   \n",
       "4       19:49:09       view              0     1307293  2053013558920217191   \n",
       "...          ...        ...            ...         ...                  ...   \n",
       "156125  23:41:58       view              0     1307545  2053013558920217191   \n",
       "156126  23:43:25   purchase              2     1307545  2053013558920217191   \n",
       "156127  23:43:52       view              0     1307545  2053013558920217191   \n",
       "156128  23:44:30       view              0     1307545  2053013558920217191   \n",
       "156129  23:55:24       view              0     1306256  2053013558920217191   \n",
       "\n",
       "             category_code      brand   price  \n",
       "0       computers.notebook      apple 1569.92  \n",
       "1       computers.notebook       asus  540.53  \n",
       "2       computers.notebook     lenovo  373.06  \n",
       "3       computers.notebook  prestigio  257.15  \n",
       "4       computers.notebook        msi  866.71  \n",
       "...                    ...        ...     ...  \n",
       "156125  computers.notebook     lenovo  257.15  \n",
       "156126  computers.notebook     lenovo  257.15  \n",
       "156127  computers.notebook     lenovo  257.15  \n",
       "156128  computers.notebook     lenovo  257.15  \n",
       "156129  computers.notebook         hp  334.37  \n",
       "\n",
       "[156130 rows x 14 columns]"
      ]
     },
     "execution_count": 50,
     "metadata": {},
     "output_type": "execute_result"
    }
   ],
   "source": [
    "#We reordered the columns.\n",
    "df_notebook.reindex(columns=[ 'user_id', 'event_time', \n",
    "       'Year','Month', 'DayOfMonth','Day', 'Time', 'event_type','event_type_ID', 'product_id', 'category_id',\n",
    "       'category_code', 'brand', 'price'])                                           "
   ]
  },
  {
   "cell_type": "code",
   "execution_count": 51,
   "id": "neural-jaguar",
   "metadata": {
    "colab": {
     "base_uri": "https://localhost:8080/",
     "height": 144
    },
    "executionInfo": {
     "elapsed": 372,
     "status": "ok",
     "timestamp": 1622678883508,
     "user": {
      "displayName": "David Guzzi",
      "photoUrl": "https://lh3.googleusercontent.com/a-/AOh14GhSjhgfhnxX5QmyhWy5jLH3NKcCVPEgEB9KwpG4Eg=s64",
      "userId": "10735015058891789975"
     },
     "user_tz": 180
    },
    "id": "neural-jaguar",
    "outputId": "41459b27-2136-4e08-b0af-5b9e5a0c8a42"
   },
   "outputs": [
    {
     "data": {
      "text/html": [
       "<div>\n",
       "<style scoped>\n",
       "    .dataframe tbody tr th:only-of-type {\n",
       "        vertical-align: middle;\n",
       "    }\n",
       "\n",
       "    .dataframe tbody tr th {\n",
       "        vertical-align: top;\n",
       "    }\n",
       "\n",
       "    .dataframe thead th {\n",
       "        text-align: right;\n",
       "    }\n",
       "</style>\n",
       "<table border=\"1\" class=\"dataframe\">\n",
       "  <thead>\n",
       "    <tr style=\"text-align: right;\">\n",
       "      <th></th>\n",
       "      <th>event_type</th>\n",
       "      <th>cantidad</th>\n",
       "    </tr>\n",
       "  </thead>\n",
       "  <tbody>\n",
       "    <tr>\n",
       "      <th>0</th>\n",
       "      <td>view</td>\n",
       "      <td>147162</td>\n",
       "    </tr>\n",
       "    <tr>\n",
       "      <th>1</th>\n",
       "      <td>purchase</td>\n",
       "      <td>5118</td>\n",
       "    </tr>\n",
       "    <tr>\n",
       "      <th>2</th>\n",
       "      <td>cart</td>\n",
       "      <td>3850</td>\n",
       "    </tr>\n",
       "  </tbody>\n",
       "</table>\n",
       "</div>"
      ],
      "text/plain": [
       "  event_type  cantidad\n",
       "0       view    147162\n",
       "1   purchase      5118\n",
       "2       cart      3850"
      ]
     },
     "execution_count": 51,
     "metadata": {},
     "output_type": "execute_result"
    }
   ],
   "source": [
    "cantEventType= df_notebook['event_type'].value_counts().reset_index()\n",
    "cantEventType.rename(columns={'index':'event_type',\n",
    "                    'event_type':'cantidad'})"
   ]
  },
  {
   "cell_type": "markdown",
   "id": "proved-celtic",
   "metadata": {
    "id": "proved-celtic"
   },
   "source": [
    "## **CLEANING DATA - NULL DATA**\n",
    " "
   ]
  },
  {
   "cell_type": "code",
   "execution_count": 52,
   "id": "parliamentary-sector",
   "metadata": {
    "colab": {
     "base_uri": "https://localhost:8080/"
    },
    "executionInfo": {
     "elapsed": 362,
     "status": "ok",
     "timestamp": 1622678927302,
     "user": {
      "displayName": "David Guzzi",
      "photoUrl": "https://lh3.googleusercontent.com/a-/AOh14GhSjhgfhnxX5QmyhWy5jLH3NKcCVPEgEB9KwpG4Eg=s64",
      "userId": "10735015058891789975"
     },
     "user_tz": 180
    },
    "id": "parliamentary-sector",
    "outputId": "818a8999-70c0-4d11-93be-53dcd1d5a89b"
   },
   "outputs": [
    {
     "data": {
      "text/plain": [
       "index                 0\n",
       "event_time            0\n",
       "event_type            0\n",
       "product_id            0\n",
       "category_id           0\n",
       "category_code         0\n",
       "brand               941\n",
       "price                 0\n",
       "user_id               0\n",
       "N0                    0\n",
       "N1                    0\n",
       "N2               156130\n",
       "N3               156130\n",
       "Time                  0\n",
       "DayOfMonth            0\n",
       "Month                 0\n",
       "Year                  0\n",
       "Day                   0\n",
       "Hour                  0\n",
       "event_type_ID         0\n",
       "dtype: int64"
      ]
     },
     "execution_count": 52,
     "metadata": {},
     "output_type": "execute_result"
    }
   ],
   "source": [
    "df_notebook.isnull().sum()"
   ]
  },
  {
   "cell_type": "code",
   "execution_count": 53,
   "id": "working-blues",
   "metadata": {
    "colab": {
     "base_uri": "https://localhost:8080/",
     "height": 618
    },
    "executionInfo": {
     "elapsed": 444,
     "status": "ok",
     "timestamp": 1622678931170,
     "user": {
      "displayName": "David Guzzi",
      "photoUrl": "https://lh3.googleusercontent.com/a-/AOh14GhSjhgfhnxX5QmyhWy5jLH3NKcCVPEgEB9KwpG4Eg=s64",
      "userId": "10735015058891789975"
     },
     "user_tz": 180
    },
    "id": "working-blues",
    "outputId": "c9b5e598-8f68-4829-e8d4-f09113d64b56"
   },
   "outputs": [
    {
     "data": {
      "text/html": [
       "<div>\n",
       "<style scoped>\n",
       "    .dataframe tbody tr th:only-of-type {\n",
       "        vertical-align: middle;\n",
       "    }\n",
       "\n",
       "    .dataframe tbody tr th {\n",
       "        vertical-align: top;\n",
       "    }\n",
       "\n",
       "    .dataframe thead th {\n",
       "        text-align: right;\n",
       "    }\n",
       "</style>\n",
       "<table border=\"1\" class=\"dataframe\">\n",
       "  <thead>\n",
       "    <tr style=\"text-align: right;\">\n",
       "      <th></th>\n",
       "      <th>index</th>\n",
       "      <th>event_time</th>\n",
       "      <th>event_type</th>\n",
       "      <th>product_id</th>\n",
       "      <th>category_id</th>\n",
       "      <th>category_code</th>\n",
       "      <th>brand</th>\n",
       "      <th>price</th>\n",
       "      <th>user_id</th>\n",
       "      <th>N0</th>\n",
       "      <th>N1</th>\n",
       "      <th>N2</th>\n",
       "      <th>N3</th>\n",
       "      <th>Time</th>\n",
       "      <th>DayOfMonth</th>\n",
       "      <th>Month</th>\n",
       "      <th>Year</th>\n",
       "      <th>Day</th>\n",
       "      <th>Hour</th>\n",
       "      <th>event_type_ID</th>\n",
       "    </tr>\n",
       "  </thead>\n",
       "  <tbody>\n",
       "    <tr>\n",
       "      <th>82</th>\n",
       "      <td>31940466</td>\n",
       "      <td>2019-10-23 19:25:21</td>\n",
       "      <td>view</td>\n",
       "      <td>1307539</td>\n",
       "      <td>2053013558920217191</td>\n",
       "      <td>computers.notebook</td>\n",
       "      <td>None</td>\n",
       "      <td>0.00</td>\n",
       "      <td>514019335</td>\n",
       "      <td>computers</td>\n",
       "      <td>notebook</td>\n",
       "      <td>None</td>\n",
       "      <td>None</td>\n",
       "      <td>19:25:21</td>\n",
       "      <td>23</td>\n",
       "      <td>10</td>\n",
       "      <td>2019</td>\n",
       "      <td>Wednesday</td>\n",
       "      <td>19</td>\n",
       "      <td>0</td>\n",
       "    </tr>\n",
       "    <tr>\n",
       "      <th>31783</th>\n",
       "      <td>33741978</td>\n",
       "      <td>2019-10-25 08:03:03</td>\n",
       "      <td>view</td>\n",
       "      <td>1307537</td>\n",
       "      <td>2053013558920217191</td>\n",
       "      <td>computers.notebook</td>\n",
       "      <td>None</td>\n",
       "      <td>0.00</td>\n",
       "      <td>539890482</td>\n",
       "      <td>computers</td>\n",
       "      <td>notebook</td>\n",
       "      <td>None</td>\n",
       "      <td>None</td>\n",
       "      <td>08:03:03</td>\n",
       "      <td>25</td>\n",
       "      <td>10</td>\n",
       "      <td>2019</td>\n",
       "      <td>Friday</td>\n",
       "      <td>8</td>\n",
       "      <td>0</td>\n",
       "    </tr>\n",
       "    <tr>\n",
       "      <th>128247</th>\n",
       "      <td>29207722</td>\n",
       "      <td>2019-10-21 22:41:09</td>\n",
       "      <td>view</td>\n",
       "      <td>1307522</td>\n",
       "      <td>2053013558920217191</td>\n",
       "      <td>computers.notebook</td>\n",
       "      <td>None</td>\n",
       "      <td>0.00</td>\n",
       "      <td>512655313</td>\n",
       "      <td>computers</td>\n",
       "      <td>notebook</td>\n",
       "      <td>None</td>\n",
       "      <td>None</td>\n",
       "      <td>22:41:09</td>\n",
       "      <td>21</td>\n",
       "      <td>10</td>\n",
       "      <td>2019</td>\n",
       "      <td>Monday</td>\n",
       "      <td>22</td>\n",
       "      <td>0</td>\n",
       "    </tr>\n",
       "    <tr>\n",
       "      <th>128246</th>\n",
       "      <td>29207671</td>\n",
       "      <td>2019-10-21 22:40:47</td>\n",
       "      <td>view</td>\n",
       "      <td>1307522</td>\n",
       "      <td>2053013558920217191</td>\n",
       "      <td>computers.notebook</td>\n",
       "      <td>None</td>\n",
       "      <td>0.00</td>\n",
       "      <td>512655313</td>\n",
       "      <td>computers</td>\n",
       "      <td>notebook</td>\n",
       "      <td>None</td>\n",
       "      <td>None</td>\n",
       "      <td>22:40:47</td>\n",
       "      <td>21</td>\n",
       "      <td>10</td>\n",
       "      <td>2019</td>\n",
       "      <td>Monday</td>\n",
       "      <td>22</td>\n",
       "      <td>0</td>\n",
       "    </tr>\n",
       "    <tr>\n",
       "      <th>83220</th>\n",
       "      <td>10503612</td>\n",
       "      <td>2019-10-09 06:44:41</td>\n",
       "      <td>view</td>\n",
       "      <td>1307454</td>\n",
       "      <td>2053013558920217191</td>\n",
       "      <td>computers.notebook</td>\n",
       "      <td>None</td>\n",
       "      <td>0.00</td>\n",
       "      <td>516877544</td>\n",
       "      <td>computers</td>\n",
       "      <td>notebook</td>\n",
       "      <td>None</td>\n",
       "      <td>None</td>\n",
       "      <td>06:44:41</td>\n",
       "      <td>9</td>\n",
       "      <td>10</td>\n",
       "      <td>2019</td>\n",
       "      <td>Wednesday</td>\n",
       "      <td>6</td>\n",
       "      <td>0</td>\n",
       "    </tr>\n",
       "    <tr>\n",
       "      <th>...</th>\n",
       "      <td>...</td>\n",
       "      <td>...</td>\n",
       "      <td>...</td>\n",
       "      <td>...</td>\n",
       "      <td>...</td>\n",
       "      <td>...</td>\n",
       "      <td>...</td>\n",
       "      <td>...</td>\n",
       "      <td>...</td>\n",
       "      <td>...</td>\n",
       "      <td>...</td>\n",
       "      <td>...</td>\n",
       "      <td>...</td>\n",
       "      <td>...</td>\n",
       "      <td>...</td>\n",
       "      <td>...</td>\n",
       "      <td>...</td>\n",
       "      <td>...</td>\n",
       "      <td>...</td>\n",
       "      <td>...</td>\n",
       "    </tr>\n",
       "    <tr>\n",
       "      <th>30867</th>\n",
       "      <td>32763331</td>\n",
       "      <td>2019-10-24 13:30:15</td>\n",
       "      <td>view</td>\n",
       "      <td>1307374</td>\n",
       "      <td>2053013558920217191</td>\n",
       "      <td>computers.notebook</td>\n",
       "      <td>None</td>\n",
       "      <td>2197.10</td>\n",
       "      <td>557438104</td>\n",
       "      <td>computers</td>\n",
       "      <td>notebook</td>\n",
       "      <td>None</td>\n",
       "      <td>None</td>\n",
       "      <td>13:30:15</td>\n",
       "      <td>24</td>\n",
       "      <td>10</td>\n",
       "      <td>2019</td>\n",
       "      <td>Thursday</td>\n",
       "      <td>13</td>\n",
       "      <td>0</td>\n",
       "    </tr>\n",
       "    <tr>\n",
       "      <th>29424</th>\n",
       "      <td>20213036</td>\n",
       "      <td>2019-10-15 17:16:03</td>\n",
       "      <td>view</td>\n",
       "      <td>1307374</td>\n",
       "      <td>2053013558920217191</td>\n",
       "      <td>computers.notebook</td>\n",
       "      <td>None</td>\n",
       "      <td>2197.10</td>\n",
       "      <td>522401757</td>\n",
       "      <td>computers</td>\n",
       "      <td>notebook</td>\n",
       "      <td>None</td>\n",
       "      <td>None</td>\n",
       "      <td>17:16:03</td>\n",
       "      <td>15</td>\n",
       "      <td>10</td>\n",
       "      <td>2019</td>\n",
       "      <td>Tuesday</td>\n",
       "      <td>17</td>\n",
       "      <td>0</td>\n",
       "    </tr>\n",
       "    <tr>\n",
       "      <th>49599</th>\n",
       "      <td>20215428</td>\n",
       "      <td>2019-10-15 17:17:22</td>\n",
       "      <td>view</td>\n",
       "      <td>1307374</td>\n",
       "      <td>2053013558920217191</td>\n",
       "      <td>computers.notebook</td>\n",
       "      <td>None</td>\n",
       "      <td>2197.10</td>\n",
       "      <td>519101767</td>\n",
       "      <td>computers</td>\n",
       "      <td>notebook</td>\n",
       "      <td>None</td>\n",
       "      <td>None</td>\n",
       "      <td>17:17:22</td>\n",
       "      <td>15</td>\n",
       "      <td>10</td>\n",
       "      <td>2019</td>\n",
       "      <td>Tuesday</td>\n",
       "      <td>17</td>\n",
       "      <td>0</td>\n",
       "    </tr>\n",
       "    <tr>\n",
       "      <th>123635</th>\n",
       "      <td>27126472</td>\n",
       "      <td>2019-10-20 12:37:46</td>\n",
       "      <td>view</td>\n",
       "      <td>1307374</td>\n",
       "      <td>2053013558920217191</td>\n",
       "      <td>computers.notebook</td>\n",
       "      <td>None</td>\n",
       "      <td>2197.10</td>\n",
       "      <td>545092338</td>\n",
       "      <td>computers</td>\n",
       "      <td>notebook</td>\n",
       "      <td>None</td>\n",
       "      <td>None</td>\n",
       "      <td>12:37:46</td>\n",
       "      <td>20</td>\n",
       "      <td>10</td>\n",
       "      <td>2019</td>\n",
       "      <td>Sunday</td>\n",
       "      <td>12</td>\n",
       "      <td>0</td>\n",
       "    </tr>\n",
       "    <tr>\n",
       "      <th>32814</th>\n",
       "      <td>17511781</td>\n",
       "      <td>2019-10-14 02:57:21</td>\n",
       "      <td>view</td>\n",
       "      <td>1307374</td>\n",
       "      <td>2053013558920217191</td>\n",
       "      <td>computers.notebook</td>\n",
       "      <td>None</td>\n",
       "      <td>2197.10</td>\n",
       "      <td>512689612</td>\n",
       "      <td>computers</td>\n",
       "      <td>notebook</td>\n",
       "      <td>None</td>\n",
       "      <td>None</td>\n",
       "      <td>02:57:21</td>\n",
       "      <td>14</td>\n",
       "      <td>10</td>\n",
       "      <td>2019</td>\n",
       "      <td>Monday</td>\n",
       "      <td>2</td>\n",
       "      <td>0</td>\n",
       "    </tr>\n",
       "  </tbody>\n",
       "</table>\n",
       "<p>941 rows × 20 columns</p>\n",
       "</div>"
      ],
      "text/plain": [
       "           index          event_time event_type  product_id  \\\n",
       "82      31940466 2019-10-23 19:25:21       view     1307539   \n",
       "31783   33741978 2019-10-25 08:03:03       view     1307537   \n",
       "128247  29207722 2019-10-21 22:41:09       view     1307522   \n",
       "128246  29207671 2019-10-21 22:40:47       view     1307522   \n",
       "83220   10503612 2019-10-09 06:44:41       view     1307454   \n",
       "...          ...                 ...        ...         ...   \n",
       "30867   32763331 2019-10-24 13:30:15       view     1307374   \n",
       "29424   20213036 2019-10-15 17:16:03       view     1307374   \n",
       "49599   20215428 2019-10-15 17:17:22       view     1307374   \n",
       "123635  27126472 2019-10-20 12:37:46       view     1307374   \n",
       "32814   17511781 2019-10-14 02:57:21       view     1307374   \n",
       "\n",
       "                category_id       category_code brand   price    user_id  \\\n",
       "82      2053013558920217191  computers.notebook  None    0.00  514019335   \n",
       "31783   2053013558920217191  computers.notebook  None    0.00  539890482   \n",
       "128247  2053013558920217191  computers.notebook  None    0.00  512655313   \n",
       "128246  2053013558920217191  computers.notebook  None    0.00  512655313   \n",
       "83220   2053013558920217191  computers.notebook  None    0.00  516877544   \n",
       "...                     ...                 ...   ...     ...        ...   \n",
       "30867   2053013558920217191  computers.notebook  None 2197.10  557438104   \n",
       "29424   2053013558920217191  computers.notebook  None 2197.10  522401757   \n",
       "49599   2053013558920217191  computers.notebook  None 2197.10  519101767   \n",
       "123635  2053013558920217191  computers.notebook  None 2197.10  545092338   \n",
       "32814   2053013558920217191  computers.notebook  None 2197.10  512689612   \n",
       "\n",
       "               N0        N1    N2    N3      Time  DayOfMonth  Month  Year  \\\n",
       "82      computers  notebook  None  None  19:25:21          23     10  2019   \n",
       "31783   computers  notebook  None  None  08:03:03          25     10  2019   \n",
       "128247  computers  notebook  None  None  22:41:09          21     10  2019   \n",
       "128246  computers  notebook  None  None  22:40:47          21     10  2019   \n",
       "83220   computers  notebook  None  None  06:44:41           9     10  2019   \n",
       "...           ...       ...   ...   ...       ...         ...    ...   ...   \n",
       "30867   computers  notebook  None  None  13:30:15          24     10  2019   \n",
       "29424   computers  notebook  None  None  17:16:03          15     10  2019   \n",
       "49599   computers  notebook  None  None  17:17:22          15     10  2019   \n",
       "123635  computers  notebook  None  None  12:37:46          20     10  2019   \n",
       "32814   computers  notebook  None  None  02:57:21          14     10  2019   \n",
       "\n",
       "              Day  Hour  event_type_ID  \n",
       "82      Wednesday    19              0  \n",
       "31783      Friday     8              0  \n",
       "128247     Monday    22              0  \n",
       "128246     Monday    22              0  \n",
       "83220   Wednesday     6              0  \n",
       "...           ...   ...            ...  \n",
       "30867    Thursday    13              0  \n",
       "29424     Tuesday    17              0  \n",
       "49599     Tuesday    17              0  \n",
       "123635     Sunday    12              0  \n",
       "32814      Monday     2              0  \n",
       "\n",
       "[941 rows x 20 columns]"
      ]
     },
     "execution_count": 53,
     "metadata": {},
     "output_type": "execute_result"
    }
   ],
   "source": [
    "df_notebook[df_notebook['brand'].isnull()].sort_values('price')"
   ]
  },
  {
   "cell_type": "markdown",
   "id": "lUgkVKCSoA7o",
   "metadata": {
    "id": "lUgkVKCSoA7o"
   },
   "source": [
    "We observe records with None brands and prices of 0. We proceed to delete them."
   ]
  },
  {
   "cell_type": "code",
   "execution_count": 54,
   "id": "behind-aerospace",
   "metadata": {
    "executionInfo": {
     "elapsed": 419,
     "status": "ok",
     "timestamp": 1622678936808,
     "user": {
      "displayName": "David Guzzi",
      "photoUrl": "https://lh3.googleusercontent.com/a-/AOh14GhSjhgfhnxX5QmyhWy5jLH3NKcCVPEgEB9KwpG4Eg=s64",
      "userId": "10735015058891789975"
     },
     "user_tz": 180
    },
    "id": "behind-aerospace"
   },
   "outputs": [],
   "source": [
    "df_notebook.drop(df_notebook[df_notebook.brand.isnull()].index, inplace= True)"
   ]
  },
  {
   "cell_type": "code",
   "execution_count": 55,
   "id": "horizontal-cedar",
   "metadata": {
    "colab": {
     "base_uri": "https://localhost:8080/",
     "height": 69
    },
    "executionInfo": {
     "elapsed": 515,
     "status": "ok",
     "timestamp": 1622678939458,
     "user": {
      "displayName": "David Guzzi",
      "photoUrl": "https://lh3.googleusercontent.com/a-/AOh14GhSjhgfhnxX5QmyhWy5jLH3NKcCVPEgEB9KwpG4Eg=s64",
      "userId": "10735015058891789975"
     },
     "user_tz": 180
    },
    "id": "horizontal-cedar",
    "outputId": "231526fe-b9da-4305-bc7f-600f72c68504"
   },
   "outputs": [
    {
     "data": {
      "text/html": [
       "<div>\n",
       "<style scoped>\n",
       "    .dataframe tbody tr th:only-of-type {\n",
       "        vertical-align: middle;\n",
       "    }\n",
       "\n",
       "    .dataframe tbody tr th {\n",
       "        vertical-align: top;\n",
       "    }\n",
       "\n",
       "    .dataframe thead th {\n",
       "        text-align: right;\n",
       "    }\n",
       "</style>\n",
       "<table border=\"1\" class=\"dataframe\">\n",
       "  <thead>\n",
       "    <tr style=\"text-align: right;\">\n",
       "      <th></th>\n",
       "      <th>index</th>\n",
       "      <th>event_time</th>\n",
       "      <th>event_type</th>\n",
       "      <th>product_id</th>\n",
       "      <th>category_id</th>\n",
       "      <th>category_code</th>\n",
       "      <th>brand</th>\n",
       "      <th>price</th>\n",
       "      <th>user_id</th>\n",
       "      <th>N0</th>\n",
       "      <th>N1</th>\n",
       "      <th>N2</th>\n",
       "      <th>N3</th>\n",
       "      <th>Time</th>\n",
       "      <th>DayOfMonth</th>\n",
       "      <th>Month</th>\n",
       "      <th>Year</th>\n",
       "      <th>Day</th>\n",
       "      <th>Hour</th>\n",
       "      <th>event_type_ID</th>\n",
       "    </tr>\n",
       "  </thead>\n",
       "  <tbody>\n",
       "  </tbody>\n",
       "</table>\n",
       "</div>"
      ],
      "text/plain": [
       "Empty DataFrame\n",
       "Columns: [index, event_time, event_type, product_id, category_id, category_code, brand, price, user_id, N0, N1, N2, N3, Time, DayOfMonth, Month, Year, Day, Hour, event_type_ID]\n",
       "Index: []"
      ]
     },
     "execution_count": 55,
     "metadata": {},
     "output_type": "execute_result"
    }
   ],
   "source": [
    "df_notebook[df_notebook['brand']==None]"
   ]
  },
  {
   "cell_type": "markdown",
   "id": "welcome-latitude",
   "metadata": {
    "id": "welcome-latitude"
   },
   "source": [
    "## **OUTLIERS**"
   ]
  },
  {
   "cell_type": "code",
   "execution_count": 57,
   "id": "perceived-shirt",
   "metadata": {
    "colab": {
     "base_uri": "https://localhost:8080/",
     "height": 297
    },
    "executionInfo": {
     "elapsed": 369,
     "status": "ok",
     "timestamp": 1622678944130,
     "user": {
      "displayName": "David Guzzi",
      "photoUrl": "https://lh3.googleusercontent.com/a-/AOh14GhSjhgfhnxX5QmyhWy5jLH3NKcCVPEgEB9KwpG4Eg=s64",
      "userId": "10735015058891789975"
     },
     "user_tz": 180
    },
    "id": "perceived-shirt",
    "outputId": "eb7d7e38-7244-4d4b-ceac-17ad729c734a"
   },
   "outputs": [
    {
     "data": {
      "image/png": "[encoded data removed]",
      "text/plain": [
       "<Figure size 432x288 with 1 Axes>"
      ]
     },
     "metadata": {
      "needs_background": "light"
     },
     "output_type": "display_data"
    }
   ],
   "source": [
    "sns.boxplot (x = df_notebook['price']);"
   ]
  },
  {
   "cell_type": "markdown",
   "id": "gorgeous-chester",
   "metadata": {
    "id": "gorgeous-chester"
   },
   "source": [
    "### **Assumption:** We will consider only those records as Notebooks whose prices are greater than 120, as this is the minimum price of notebooks in the market."
   ]
  },
  {
   "cell_type": "code",
   "execution_count": 59,
   "id": "angry-reputation",
   "metadata": {
    "colab": {
     "base_uri": "https://localhost:8080/",
     "height": 297
    },
    "executionInfo": {
     "elapsed": 549,
     "status": "ok",
     "timestamp": 1622678951492,
     "user": {
      "displayName": "David Guzzi",
      "photoUrl": "https://lh3.googleusercontent.com/a-/AOh14GhSjhgfhnxX5QmyhWy5jLH3NKcCVPEgEB9KwpG4Eg=s64",
      "userId": "10735015058891789975"
     },
     "user_tz": 180
    },
    "id": "angry-reputation",
    "outputId": "366e202a-8047-463c-b177-a811acde4319"
   },
   "outputs": [
    {
     "data": {
      "image/png": "[encoded data removed]",
      "text/plain": [
       "<Figure size 432x288 with 1 Axes>"
      ]
     },
     "metadata": {
      "needs_background": "light"
     },
     "output_type": "display_data"
    }
   ],
   "source": [
    "df_notebook= df_notebook[df_notebook['price']>120]\n",
    "sns.boxplot (x = df_notebook['price']);"
   ]
  },
  {
   "cell_type": "markdown",
   "id": "53d2bca3",
   "metadata": {},
   "source": [
    "#### Number of values greater than the 99% of the data, as there are many values we will keep them."
   ]
  },
  {
   "cell_type": "code",
   "execution_count": 60,
   "id": "48ec8a2f",
   "metadata": {},
   "outputs": [
    {
     "data": {
      "text/html": [
       "<div>\n",
       "<style scoped>\n",
       "    .dataframe tbody tr th:only-of-type {\n",
       "        vertical-align: middle;\n",
       "    }\n",
       "\n",
       "    .dataframe tbody tr th {\n",
       "        vertical-align: top;\n",
       "    }\n",
       "\n",
       "    .dataframe thead th {\n",
       "        text-align: right;\n",
       "    }\n",
       "</style>\n",
       "<table border=\"1\" class=\"dataframe\">\n",
       "  <thead>\n",
       "    <tr style=\"text-align: right;\">\n",
       "      <th></th>\n",
       "      <th>index</th>\n",
       "      <th>event_time</th>\n",
       "      <th>event_type</th>\n",
       "      <th>product_id</th>\n",
       "      <th>category_id</th>\n",
       "      <th>category_code</th>\n",
       "      <th>brand</th>\n",
       "      <th>price</th>\n",
       "      <th>user_id</th>\n",
       "      <th>N0</th>\n",
       "      <th>N1</th>\n",
       "      <th>N2</th>\n",
       "      <th>N3</th>\n",
       "      <th>Time</th>\n",
       "      <th>DayOfMonth</th>\n",
       "      <th>Month</th>\n",
       "      <th>Year</th>\n",
       "      <th>Day</th>\n",
       "      <th>Hour</th>\n",
       "      <th>event_type_ID</th>\n",
       "    </tr>\n",
       "  </thead>\n",
       "  <tbody>\n",
       "    <tr>\n",
       "      <th>288</th>\n",
       "      <td>3352434</td>\n",
       "      <td>2019-10-03 17:10:32</td>\n",
       "      <td>view</td>\n",
       "      <td>1304849</td>\n",
       "      <td>2053013558920217191</td>\n",
       "      <td>computers.notebook</td>\n",
       "      <td>acer</td>\n",
       "      <td>2552.93</td>\n",
       "      <td>539049229</td>\n",
       "      <td>computers</td>\n",
       "      <td>notebook</td>\n",
       "      <td>None</td>\n",
       "      <td>None</td>\n",
       "      <td>17:10:32</td>\n",
       "      <td>3</td>\n",
       "      <td>10</td>\n",
       "      <td>2019</td>\n",
       "      <td>Thursday</td>\n",
       "      <td>17</td>\n",
       "      <td>0</td>\n",
       "    </tr>\n",
       "    <tr>\n",
       "      <th>564</th>\n",
       "      <td>15788491</td>\n",
       "      <td>2019-10-12 21:59:21</td>\n",
       "      <td>view</td>\n",
       "      <td>1307449</td>\n",
       "      <td>2053013558920217191</td>\n",
       "      <td>computers.notebook</td>\n",
       "      <td>asus</td>\n",
       "      <td>2570.18</td>\n",
       "      <td>559623257</td>\n",
       "      <td>computers</td>\n",
       "      <td>notebook</td>\n",
       "      <td>None</td>\n",
       "      <td>None</td>\n",
       "      <td>21:59:21</td>\n",
       "      <td>12</td>\n",
       "      <td>10</td>\n",
       "      <td>2019</td>\n",
       "      <td>Saturday</td>\n",
       "      <td>21</td>\n",
       "      <td>0</td>\n",
       "    </tr>\n",
       "    <tr>\n",
       "      <th>792</th>\n",
       "      <td>9878711</td>\n",
       "      <td>2019-10-08 16:11:51</td>\n",
       "      <td>view</td>\n",
       "      <td>1307275</td>\n",
       "      <td>2053013558920217191</td>\n",
       "      <td>computers.notebook</td>\n",
       "      <td>msi</td>\n",
       "      <td>2574.04</td>\n",
       "      <td>519724443</td>\n",
       "      <td>computers</td>\n",
       "      <td>notebook</td>\n",
       "      <td>None</td>\n",
       "      <td>None</td>\n",
       "      <td>16:11:51</td>\n",
       "      <td>8</td>\n",
       "      <td>10</td>\n",
       "      <td>2019</td>\n",
       "      <td>Tuesday</td>\n",
       "      <td>16</td>\n",
       "      <td>0</td>\n",
       "    </tr>\n",
       "    <tr>\n",
       "      <th>895</th>\n",
       "      <td>12223400</td>\n",
       "      <td>2019-10-10 12:45:12</td>\n",
       "      <td>view</td>\n",
       "      <td>1307428</td>\n",
       "      <td>2053013558920217191</td>\n",
       "      <td>computers.notebook</td>\n",
       "      <td>lenovo</td>\n",
       "      <td>2522.33</td>\n",
       "      <td>517225256</td>\n",
       "      <td>computers</td>\n",
       "      <td>notebook</td>\n",
       "      <td>None</td>\n",
       "      <td>None</td>\n",
       "      <td>12:45:12</td>\n",
       "      <td>10</td>\n",
       "      <td>10</td>\n",
       "      <td>2019</td>\n",
       "      <td>Thursday</td>\n",
       "      <td>12</td>\n",
       "      <td>0</td>\n",
       "    </tr>\n",
       "    <tr>\n",
       "      <th>917</th>\n",
       "      <td>10995481</td>\n",
       "      <td>2019-10-09 13:27:02</td>\n",
       "      <td>view</td>\n",
       "      <td>1307449</td>\n",
       "      <td>2053013558920217191</td>\n",
       "      <td>computers.notebook</td>\n",
       "      <td>asus</td>\n",
       "      <td>2574.04</td>\n",
       "      <td>513172820</td>\n",
       "      <td>computers</td>\n",
       "      <td>notebook</td>\n",
       "      <td>None</td>\n",
       "      <td>None</td>\n",
       "      <td>13:27:02</td>\n",
       "      <td>9</td>\n",
       "      <td>10</td>\n",
       "      <td>2019</td>\n",
       "      <td>Wednesday</td>\n",
       "      <td>13</td>\n",
       "      <td>0</td>\n",
       "    </tr>\n",
       "    <tr>\n",
       "      <th>...</th>\n",
       "      <td>...</td>\n",
       "      <td>...</td>\n",
       "      <td>...</td>\n",
       "      <td>...</td>\n",
       "      <td>...</td>\n",
       "      <td>...</td>\n",
       "      <td>...</td>\n",
       "      <td>...</td>\n",
       "      <td>...</td>\n",
       "      <td>...</td>\n",
       "      <td>...</td>\n",
       "      <td>...</td>\n",
       "      <td>...</td>\n",
       "      <td>...</td>\n",
       "      <td>...</td>\n",
       "      <td>...</td>\n",
       "      <td>...</td>\n",
       "      <td>...</td>\n",
       "      <td>...</td>\n",
       "      <td>...</td>\n",
       "    </tr>\n",
       "    <tr>\n",
       "      <th>156046</th>\n",
       "      <td>42413994</td>\n",
       "      <td>2019-10-31 20:42:13</td>\n",
       "      <td>view</td>\n",
       "      <td>1307449</td>\n",
       "      <td>2053013558920217191</td>\n",
       "      <td>computers.notebook</td>\n",
       "      <td>asus</td>\n",
       "      <td>2570.18</td>\n",
       "      <td>539358901</td>\n",
       "      <td>computers</td>\n",
       "      <td>notebook</td>\n",
       "      <td>None</td>\n",
       "      <td>None</td>\n",
       "      <td>20:42:13</td>\n",
       "      <td>31</td>\n",
       "      <td>10</td>\n",
       "      <td>2019</td>\n",
       "      <td>Thursday</td>\n",
       "      <td>20</td>\n",
       "      <td>0</td>\n",
       "    </tr>\n",
       "    <tr>\n",
       "      <th>156047</th>\n",
       "      <td>42414155</td>\n",
       "      <td>2019-10-31 20:42:40</td>\n",
       "      <td>view</td>\n",
       "      <td>1307449</td>\n",
       "      <td>2053013558920217191</td>\n",
       "      <td>computers.notebook</td>\n",
       "      <td>asus</td>\n",
       "      <td>2570.18</td>\n",
       "      <td>539358901</td>\n",
       "      <td>computers</td>\n",
       "      <td>notebook</td>\n",
       "      <td>None</td>\n",
       "      <td>None</td>\n",
       "      <td>20:42:40</td>\n",
       "      <td>31</td>\n",
       "      <td>10</td>\n",
       "      <td>2019</td>\n",
       "      <td>Thursday</td>\n",
       "      <td>20</td>\n",
       "      <td>0</td>\n",
       "    </tr>\n",
       "    <tr>\n",
       "      <th>156055</th>\n",
       "      <td>42417473</td>\n",
       "      <td>2019-10-31 20:51:59</td>\n",
       "      <td>view</td>\n",
       "      <td>1307449</td>\n",
       "      <td>2053013558920217191</td>\n",
       "      <td>computers.notebook</td>\n",
       "      <td>asus</td>\n",
       "      <td>2570.18</td>\n",
       "      <td>513285279</td>\n",
       "      <td>computers</td>\n",
       "      <td>notebook</td>\n",
       "      <td>None</td>\n",
       "      <td>None</td>\n",
       "      <td>20:51:59</td>\n",
       "      <td>31</td>\n",
       "      <td>10</td>\n",
       "      <td>2019</td>\n",
       "      <td>Thursday</td>\n",
       "      <td>20</td>\n",
       "      <td>0</td>\n",
       "    </tr>\n",
       "    <tr>\n",
       "      <th>156058</th>\n",
       "      <td>42417611</td>\n",
       "      <td>2019-10-31 20:52:22</td>\n",
       "      <td>view</td>\n",
       "      <td>1307449</td>\n",
       "      <td>2053013558920217191</td>\n",
       "      <td>computers.notebook</td>\n",
       "      <td>asus</td>\n",
       "      <td>2570.18</td>\n",
       "      <td>513285279</td>\n",
       "      <td>computers</td>\n",
       "      <td>notebook</td>\n",
       "      <td>None</td>\n",
       "      <td>None</td>\n",
       "      <td>20:52:22</td>\n",
       "      <td>31</td>\n",
       "      <td>10</td>\n",
       "      <td>2019</td>\n",
       "      <td>Thursday</td>\n",
       "      <td>20</td>\n",
       "      <td>0</td>\n",
       "    </tr>\n",
       "    <tr>\n",
       "      <th>156065</th>\n",
       "      <td>42418245</td>\n",
       "      <td>2019-10-31 20:54:03</td>\n",
       "      <td>view</td>\n",
       "      <td>1307449</td>\n",
       "      <td>2053013558920217191</td>\n",
       "      <td>computers.notebook</td>\n",
       "      <td>asus</td>\n",
       "      <td>2570.18</td>\n",
       "      <td>513285279</td>\n",
       "      <td>computers</td>\n",
       "      <td>notebook</td>\n",
       "      <td>None</td>\n",
       "      <td>None</td>\n",
       "      <td>20:54:03</td>\n",
       "      <td>31</td>\n",
       "      <td>10</td>\n",
       "      <td>2019</td>\n",
       "      <td>Thursday</td>\n",
       "      <td>20</td>\n",
       "      <td>0</td>\n",
       "    </tr>\n",
       "  </tbody>\n",
       "</table>\n",
       "<p>1046 rows × 20 columns</p>\n",
       "</div>"
      ],
      "text/plain": [
       "           index          event_time event_type  product_id  \\\n",
       "288      3352434 2019-10-03 17:10:32       view     1304849   \n",
       "564     15788491 2019-10-12 21:59:21       view     1307449   \n",
       "792      9878711 2019-10-08 16:11:51       view     1307275   \n",
       "895     12223400 2019-10-10 12:45:12       view     1307428   \n",
       "917     10995481 2019-10-09 13:27:02       view     1307449   \n",
       "...          ...                 ...        ...         ...   \n",
       "156046  42413994 2019-10-31 20:42:13       view     1307449   \n",
       "156047  42414155 2019-10-31 20:42:40       view     1307449   \n",
       "156055  42417473 2019-10-31 20:51:59       view     1307449   \n",
       "156058  42417611 2019-10-31 20:52:22       view     1307449   \n",
       "156065  42418245 2019-10-31 20:54:03       view     1307449   \n",
       "\n",
       "                category_id       category_code   brand   price    user_id  \\\n",
       "288     2053013558920217191  computers.notebook    acer 2552.93  539049229   \n",
       "564     2053013558920217191  computers.notebook    asus 2570.18  559623257   \n",
       "792     2053013558920217191  computers.notebook     msi 2574.04  519724443   \n",
       "895     2053013558920217191  computers.notebook  lenovo 2522.33  517225256   \n",
       "917     2053013558920217191  computers.notebook    asus 2574.04  513172820   \n",
       "...                     ...                 ...     ...     ...        ...   \n",
       "156046  2053013558920217191  computers.notebook    asus 2570.18  539358901   \n",
       "156047  2053013558920217191  computers.notebook    asus 2570.18  539358901   \n",
       "156055  2053013558920217191  computers.notebook    asus 2570.18  513285279   \n",
       "156058  2053013558920217191  computers.notebook    asus 2570.18  513285279   \n",
       "156065  2053013558920217191  computers.notebook    asus 2570.18  513285279   \n",
       "\n",
       "               N0        N1    N2    N3      Time  DayOfMonth  Month  Year  \\\n",
       "288     computers  notebook  None  None  17:10:32           3     10  2019   \n",
       "564     computers  notebook  None  None  21:59:21          12     10  2019   \n",
       "792     computers  notebook  None  None  16:11:51           8     10  2019   \n",
       "895     computers  notebook  None  None  12:45:12          10     10  2019   \n",
       "917     computers  notebook  None  None  13:27:02           9     10  2019   \n",
       "...           ...       ...   ...   ...       ...         ...    ...   ...   \n",
       "156046  computers  notebook  None  None  20:42:13          31     10  2019   \n",
       "156047  computers  notebook  None  None  20:42:40          31     10  2019   \n",
       "156055  computers  notebook  None  None  20:51:59          31     10  2019   \n",
       "156058  computers  notebook  None  None  20:52:22          31     10  2019   \n",
       "156065  computers  notebook  None  None  20:54:03          31     10  2019   \n",
       "\n",
       "              Day  Hour  event_type_ID  \n",
       "288      Thursday    17              0  \n",
       "564      Saturday    21              0  \n",
       "792       Tuesday    16              0  \n",
       "895      Thursday    12              0  \n",
       "917     Wednesday    13              0  \n",
       "...           ...   ...            ...  \n",
       "156046   Thursday    20              0  \n",
       "156047   Thursday    20              0  \n",
       "156055   Thursday    20              0  \n",
       "156058   Thursday    20              0  \n",
       "156065   Thursday    20              0  \n",
       "\n",
       "[1046 rows x 20 columns]"
      ]
     },
     "execution_count": 60,
     "metadata": {},
     "output_type": "execute_result"
    }
   ],
   "source": [
    "df_notebook[df_notebook.price > df_notebook.price.quantile(0.99)]"
   ]
  },
  {
   "cell_type": "markdown",
   "id": "ceramic-moscow",
   "metadata": {
    "id": "ceramic-moscow"
   },
   "source": [
    "## **ANALYSIS OF DATA - SOLD NOTEBOOKS.**"
   ]
  },
  {
   "cell_type": "code",
   "execution_count": 61,
   "id": "radical-brazil",
   "metadata": {
    "executionInfo": {
     "elapsed": 450,
     "status": "ok",
     "timestamp": 1622678956482,
     "user": {
      "displayName": "David Guzzi",
      "photoUrl": "https://lh3.googleusercontent.com/a-/AOh14GhSjhgfhnxX5QmyhWy5jLH3NKcCVPEgEB9KwpG4Eg=s64",
      "userId": "10735015058891789975"
     },
     "user_tz": 180
    },
    "id": "radical-brazil"
   },
   "outputs": [],
   "source": [
    "df_notebook_OCT_purchase= df_notebook[(df_notebook['event_type']=='purchase')].copy() \n",
    "df_notebook_OCT_purchase= df_notebook_OCT_purchase.drop(['index'],axis=1)"
   ]
  },
  {
   "cell_type": "code",
   "execution_count": 62,
   "id": "challenging-haven",
   "metadata": {
    "colab": {
     "base_uri": "https://localhost:8080/",
     "height": 618
    },
    "executionInfo": {
     "elapsed": 375,
     "status": "ok",
     "timestamp": 1622678959470,
     "user": {
      "displayName": "David Guzzi",
      "photoUrl": "https://lh3.googleusercontent.com/a-/AOh14GhSjhgfhnxX5QmyhWy5jLH3NKcCVPEgEB9KwpG4Eg=s64",
      "userId": "10735015058891789975"
     },
     "user_tz": 180
    },
    "id": "challenging-haven",
    "outputId": "96286968-3609-4ec1-c162-d664e1402d56"
   },
   "outputs": [
    {
     "data": {
      "text/html": [
       "<div>\n",
       "<style scoped>\n",
       "    .dataframe tbody tr th:only-of-type {\n",
       "        vertical-align: middle;\n",
       "    }\n",
       "\n",
       "    .dataframe tbody tr th {\n",
       "        vertical-align: top;\n",
       "    }\n",
       "\n",
       "    .dataframe thead th {\n",
       "        text-align: right;\n",
       "    }\n",
       "</style>\n",
       "<table border=\"1\" class=\"dataframe\">\n",
       "  <thead>\n",
       "    <tr style=\"text-align: right;\">\n",
       "      <th></th>\n",
       "      <th>event_time</th>\n",
       "      <th>event_type</th>\n",
       "      <th>product_id</th>\n",
       "      <th>category_id</th>\n",
       "      <th>category_code</th>\n",
       "      <th>brand</th>\n",
       "      <th>price</th>\n",
       "      <th>user_id</th>\n",
       "      <th>N0</th>\n",
       "      <th>N1</th>\n",
       "      <th>N2</th>\n",
       "      <th>N3</th>\n",
       "      <th>Time</th>\n",
       "      <th>DayOfMonth</th>\n",
       "      <th>Month</th>\n",
       "      <th>Year</th>\n",
       "      <th>Day</th>\n",
       "      <th>Hour</th>\n",
       "      <th>event_type_ID</th>\n",
       "    </tr>\n",
       "  </thead>\n",
       "  <tbody>\n",
       "    <tr>\n",
       "      <th>5</th>\n",
       "      <td>2019-10-02 11:05:29</td>\n",
       "      <td>purchase</td>\n",
       "      <td>1306310</td>\n",
       "      <td>2053013558920217191</td>\n",
       "      <td>computers.notebook</td>\n",
       "      <td>apple</td>\n",
       "      <td>1352.67</td>\n",
       "      <td>514984136</td>\n",
       "      <td>computers</td>\n",
       "      <td>notebook</td>\n",
       "      <td>None</td>\n",
       "      <td>None</td>\n",
       "      <td>11:05:29</td>\n",
       "      <td>2</td>\n",
       "      <td>10</td>\n",
       "      <td>2019</td>\n",
       "      <td>Wednesday</td>\n",
       "      <td>11</td>\n",
       "      <td>2</td>\n",
       "    </tr>\n",
       "    <tr>\n",
       "      <th>122</th>\n",
       "      <td>2019-10-10 08:43:27</td>\n",
       "      <td>purchase</td>\n",
       "      <td>1307408</td>\n",
       "      <td>2053013558920217191</td>\n",
       "      <td>computers.notebook</td>\n",
       "      <td>acer</td>\n",
       "      <td>360.34</td>\n",
       "      <td>513731310</td>\n",
       "      <td>computers</td>\n",
       "      <td>notebook</td>\n",
       "      <td>None</td>\n",
       "      <td>None</td>\n",
       "      <td>08:43:27</td>\n",
       "      <td>10</td>\n",
       "      <td>10</td>\n",
       "      <td>2019</td>\n",
       "      <td>Thursday</td>\n",
       "      <td>8</td>\n",
       "      <td>2</td>\n",
       "    </tr>\n",
       "    <tr>\n",
       "      <th>124</th>\n",
       "      <td>2019-10-21 03:27:22</td>\n",
       "      <td>purchase</td>\n",
       "      <td>1306133</td>\n",
       "      <td>2053013558920217191</td>\n",
       "      <td>computers.notebook</td>\n",
       "      <td>xiaomi</td>\n",
       "      <td>1145.20</td>\n",
       "      <td>559469054</td>\n",
       "      <td>computers</td>\n",
       "      <td>notebook</td>\n",
       "      <td>None</td>\n",
       "      <td>None</td>\n",
       "      <td>03:27:22</td>\n",
       "      <td>21</td>\n",
       "      <td>10</td>\n",
       "      <td>2019</td>\n",
       "      <td>Monday</td>\n",
       "      <td>3</td>\n",
       "      <td>2</td>\n",
       "    </tr>\n",
       "    <tr>\n",
       "      <th>568</th>\n",
       "      <td>2019-10-26 11:48:36</td>\n",
       "      <td>purchase</td>\n",
       "      <td>1307073</td>\n",
       "      <td>2053013558920217191</td>\n",
       "      <td>computers.notebook</td>\n",
       "      <td>acer</td>\n",
       "      <td>682.10</td>\n",
       "      <td>564298425</td>\n",
       "      <td>computers</td>\n",
       "      <td>notebook</td>\n",
       "      <td>None</td>\n",
       "      <td>None</td>\n",
       "      <td>11:48:36</td>\n",
       "      <td>26</td>\n",
       "      <td>10</td>\n",
       "      <td>2019</td>\n",
       "      <td>Saturday</td>\n",
       "      <td>11</td>\n",
       "      <td>2</td>\n",
       "    </tr>\n",
       "    <tr>\n",
       "      <th>675</th>\n",
       "      <td>2019-10-26 19:05:54</td>\n",
       "      <td>purchase</td>\n",
       "      <td>1306016</td>\n",
       "      <td>2053013558920217191</td>\n",
       "      <td>computers.notebook</td>\n",
       "      <td>asus</td>\n",
       "      <td>421.89</td>\n",
       "      <td>537204995</td>\n",
       "      <td>computers</td>\n",
       "      <td>notebook</td>\n",
       "      <td>None</td>\n",
       "      <td>None</td>\n",
       "      <td>19:05:54</td>\n",
       "      <td>26</td>\n",
       "      <td>10</td>\n",
       "      <td>2019</td>\n",
       "      <td>Saturday</td>\n",
       "      <td>19</td>\n",
       "      <td>2</td>\n",
       "    </tr>\n",
       "    <tr>\n",
       "      <th>...</th>\n",
       "      <td>...</td>\n",
       "      <td>...</td>\n",
       "      <td>...</td>\n",
       "      <td>...</td>\n",
       "      <td>...</td>\n",
       "      <td>...</td>\n",
       "      <td>...</td>\n",
       "      <td>...</td>\n",
       "      <td>...</td>\n",
       "      <td>...</td>\n",
       "      <td>...</td>\n",
       "      <td>...</td>\n",
       "      <td>...</td>\n",
       "      <td>...</td>\n",
       "      <td>...</td>\n",
       "      <td>...</td>\n",
       "      <td>...</td>\n",
       "      <td>...</td>\n",
       "      <td>...</td>\n",
       "    </tr>\n",
       "    <tr>\n",
       "      <th>155886</th>\n",
       "      <td>2019-10-31 17:53:31</td>\n",
       "      <td>purchase</td>\n",
       "      <td>1307073</td>\n",
       "      <td>2053013558920217191</td>\n",
       "      <td>computers.notebook</td>\n",
       "      <td>acer</td>\n",
       "      <td>682.09</td>\n",
       "      <td>552532395</td>\n",
       "      <td>computers</td>\n",
       "      <td>notebook</td>\n",
       "      <td>None</td>\n",
       "      <td>None</td>\n",
       "      <td>17:53:31</td>\n",
       "      <td>31</td>\n",
       "      <td>10</td>\n",
       "      <td>2019</td>\n",
       "      <td>Thursday</td>\n",
       "      <td>17</td>\n",
       "      <td>2</td>\n",
       "    </tr>\n",
       "    <tr>\n",
       "      <th>155983</th>\n",
       "      <td>2019-10-31 18:33:57</td>\n",
       "      <td>purchase</td>\n",
       "      <td>1306650</td>\n",
       "      <td>2053013558920217191</td>\n",
       "      <td>computers.notebook</td>\n",
       "      <td>acer</td>\n",
       "      <td>437.57</td>\n",
       "      <td>513999770</td>\n",
       "      <td>computers</td>\n",
       "      <td>notebook</td>\n",
       "      <td>None</td>\n",
       "      <td>None</td>\n",
       "      <td>18:33:57</td>\n",
       "      <td>31</td>\n",
       "      <td>10</td>\n",
       "      <td>2019</td>\n",
       "      <td>Thursday</td>\n",
       "      <td>18</td>\n",
       "      <td>2</td>\n",
       "    </tr>\n",
       "    <tr>\n",
       "      <th>156021</th>\n",
       "      <td>2019-10-31 19:58:58</td>\n",
       "      <td>purchase</td>\n",
       "      <td>1307073</td>\n",
       "      <td>2053013558920217191</td>\n",
       "      <td>computers.notebook</td>\n",
       "      <td>acer</td>\n",
       "      <td>682.09</td>\n",
       "      <td>512699299</td>\n",
       "      <td>computers</td>\n",
       "      <td>notebook</td>\n",
       "      <td>None</td>\n",
       "      <td>None</td>\n",
       "      <td>19:58:58</td>\n",
       "      <td>31</td>\n",
       "      <td>10</td>\n",
       "      <td>2019</td>\n",
       "      <td>Thursday</td>\n",
       "      <td>19</td>\n",
       "      <td>2</td>\n",
       "    </tr>\n",
       "    <tr>\n",
       "      <th>156107</th>\n",
       "      <td>2019-10-31 23:30:47</td>\n",
       "      <td>purchase</td>\n",
       "      <td>1304409</td>\n",
       "      <td>2053013558920217191</td>\n",
       "      <td>computers.notebook</td>\n",
       "      <td>apple</td>\n",
       "      <td>1402.87</td>\n",
       "      <td>562780507</td>\n",
       "      <td>computers</td>\n",
       "      <td>notebook</td>\n",
       "      <td>None</td>\n",
       "      <td>None</td>\n",
       "      <td>23:30:47</td>\n",
       "      <td>31</td>\n",
       "      <td>10</td>\n",
       "      <td>2019</td>\n",
       "      <td>Thursday</td>\n",
       "      <td>23</td>\n",
       "      <td>2</td>\n",
       "    </tr>\n",
       "    <tr>\n",
       "      <th>156126</th>\n",
       "      <td>2019-10-31 23:43:25</td>\n",
       "      <td>purchase</td>\n",
       "      <td>1307545</td>\n",
       "      <td>2053013558920217191</td>\n",
       "      <td>computers.notebook</td>\n",
       "      <td>lenovo</td>\n",
       "      <td>257.15</td>\n",
       "      <td>546977150</td>\n",
       "      <td>computers</td>\n",
       "      <td>notebook</td>\n",
       "      <td>None</td>\n",
       "      <td>None</td>\n",
       "      <td>23:43:25</td>\n",
       "      <td>31</td>\n",
       "      <td>10</td>\n",
       "      <td>2019</td>\n",
       "      <td>Thursday</td>\n",
       "      <td>23</td>\n",
       "      <td>2</td>\n",
       "    </tr>\n",
       "  </tbody>\n",
       "</table>\n",
       "<p>5075 rows × 19 columns</p>\n",
       "</div>"
      ],
      "text/plain": [
       "                event_time event_type  product_id          category_id  \\\n",
       "5      2019-10-02 11:05:29   purchase     1306310  2053013558920217191   \n",
       "122    2019-10-10 08:43:27   purchase     1307408  2053013558920217191   \n",
       "124    2019-10-21 03:27:22   purchase     1306133  2053013558920217191   \n",
       "568    2019-10-26 11:48:36   purchase     1307073  2053013558920217191   \n",
       "675    2019-10-26 19:05:54   purchase     1306016  2053013558920217191   \n",
       "...                    ...        ...         ...                  ...   \n",
       "155886 2019-10-31 17:53:31   purchase     1307073  2053013558920217191   \n",
       "155983 2019-10-31 18:33:57   purchase     1306650  2053013558920217191   \n",
       "156021 2019-10-31 19:58:58   purchase     1307073  2053013558920217191   \n",
       "156107 2019-10-31 23:30:47   purchase     1304409  2053013558920217191   \n",
       "156126 2019-10-31 23:43:25   purchase     1307545  2053013558920217191   \n",
       "\n",
       "             category_code   brand   price    user_id         N0        N1  \\\n",
       "5       computers.notebook   apple 1352.67  514984136  computers  notebook   \n",
       "122     computers.notebook    acer  360.34  513731310  computers  notebook   \n",
       "124     computers.notebook  xiaomi 1145.20  559469054  computers  notebook   \n",
       "568     computers.notebook    acer  682.10  564298425  computers  notebook   \n",
       "675     computers.notebook    asus  421.89  537204995  computers  notebook   \n",
       "...                    ...     ...     ...        ...        ...       ...   \n",
       "155886  computers.notebook    acer  682.09  552532395  computers  notebook   \n",
       "155983  computers.notebook    acer  437.57  513999770  computers  notebook   \n",
       "156021  computers.notebook    acer  682.09  512699299  computers  notebook   \n",
       "156107  computers.notebook   apple 1402.87  562780507  computers  notebook   \n",
       "156126  computers.notebook  lenovo  257.15  546977150  computers  notebook   \n",
       "\n",
       "          N2    N3      Time  DayOfMonth  Month  Year        Day  Hour  \\\n",
       "5       None  None  11:05:29           2     10  2019  Wednesday    11   \n",
       "122     None  None  08:43:27          10     10  2019   Thursday     8   \n",
       "124     None  None  03:27:22          21     10  2019     Monday     3   \n",
       "568     None  None  11:48:36          26     10  2019   Saturday    11   \n",
       "675     None  None  19:05:54          26     10  2019   Saturday    19   \n",
       "...      ...   ...       ...         ...    ...   ...        ...   ...   \n",
       "155886  None  None  17:53:31          31     10  2019   Thursday    17   \n",
       "155983  None  None  18:33:57          31     10  2019   Thursday    18   \n",
       "156021  None  None  19:58:58          31     10  2019   Thursday    19   \n",
       "156107  None  None  23:30:47          31     10  2019   Thursday    23   \n",
       "156126  None  None  23:43:25          31     10  2019   Thursday    23   \n",
       "\n",
       "        event_type_ID  \n",
       "5                   2  \n",
       "122                 2  \n",
       "124                 2  \n",
       "568                 2  \n",
       "675                 2  \n",
       "...               ...  \n",
       "155886              2  \n",
       "155983              2  \n",
       "156021              2  \n",
       "156107              2  \n",
       "156126              2  \n",
       "\n",
       "[5075 rows x 19 columns]"
      ]
     },
     "execution_count": 62,
     "metadata": {},
     "output_type": "execute_result"
    }
   ],
   "source": [
    "df_notebook_OCT_purchase"
   ]
  },
  {
   "cell_type": "markdown",
   "id": "incorrect-observer",
   "metadata": {
    "id": "incorrect-observer"
   },
   "source": [
    "### **BEST-SELLING BRANDS.**"
   ]
  },
  {
   "cell_type": "code",
   "execution_count": 63,
   "id": "technical-instruction",
   "metadata": {
    "colab": {
     "base_uri": "https://localhost:8080/",
     "height": 384
    },
    "executionInfo": {
     "elapsed": 436,
     "status": "ok",
     "timestamp": 1622678966960,
     "user": {
      "displayName": "David Guzzi",
      "photoUrl": "https://lh3.googleusercontent.com/a-/AOh14GhSjhgfhnxX5QmyhWy5jLH3NKcCVPEgEB9KwpG4Eg=s64",
      "userId": "10735015058891789975"
     },
     "user_tz": 180
    },
    "id": "technical-instruction",
    "outputId": "06bec7c0-0671-45ef-d394-125f5c071d97"
   },
   "outputs": [
    {
     "data": {
      "image/png": "[encoded data removed]",
      "text/plain": [
       "<Figure size 432x288 with 1 Axes>"
      ]
     },
     "metadata": {
      "needs_background": "light"
     },
     "output_type": "display_data"
    }
   ],
   "source": [
    "df_notebook_OCT_purchase['brand'].value_counts().plot.bar(ylabel='Quantity sold', xlabel='Brands', title='Number of notebooks sold by brand');"
   ]
  },
  {
   "cell_type": "code",
   "execution_count": 64,
   "id": "governmental-independence",
   "metadata": {
    "colab": {
     "base_uri": "https://localhost:8080/",
     "height": 300
    },
    "executionInfo": {
     "elapsed": 367,
     "status": "ok",
     "timestamp": 1622678971988,
     "user": {
      "displayName": "David Guzzi",
      "photoUrl": "https://lh3.googleusercontent.com/a-/AOh14GhSjhgfhnxX5QmyhWy5jLH3NKcCVPEgEB9KwpG4Eg=s64",
      "userId": "10735015058891789975"
     },
     "user_tz": 180
    },
    "id": "governmental-independence",
    "outputId": "4b463ea2-1b1a-40c0-94f3-120e65cfb0ba"
   },
   "outputs": [
    {
     "data": {
      "text/html": [
       "<div>\n",
       "<style scoped>\n",
       "    .dataframe tbody tr th:only-of-type {\n",
       "        vertical-align: middle;\n",
       "    }\n",
       "\n",
       "    .dataframe tbody tr th {\n",
       "        vertical-align: top;\n",
       "    }\n",
       "\n",
       "    .dataframe thead th {\n",
       "        text-align: right;\n",
       "    }\n",
       "</style>\n",
       "<table border=\"1\" class=\"dataframe\">\n",
       "  <thead>\n",
       "    <tr style=\"text-align: right;\">\n",
       "      <th></th>\n",
       "      <th>product_id</th>\n",
       "      <th>category_id</th>\n",
       "      <th>price</th>\n",
       "      <th>user_id</th>\n",
       "      <th>DayOfMonth</th>\n",
       "      <th>Month</th>\n",
       "      <th>Year</th>\n",
       "      <th>Hour</th>\n",
       "      <th>event_type_ID</th>\n",
       "    </tr>\n",
       "  </thead>\n",
       "  <tbody>\n",
       "    <tr>\n",
       "      <th>count</th>\n",
       "      <td>5075.00</td>\n",
       "      <td>5075.00</td>\n",
       "      <td>5075.00</td>\n",
       "      <td>5075.00</td>\n",
       "      <td>5075.00</td>\n",
       "      <td>5075.00</td>\n",
       "      <td>5075.00</td>\n",
       "      <td>5075.00</td>\n",
       "      <td>5075.00</td>\n",
       "    </tr>\n",
       "    <tr>\n",
       "      <th>mean</th>\n",
       "      <td>1306949.87</td>\n",
       "      <td>2053013558920217088.00</td>\n",
       "      <td>581.28</td>\n",
       "      <td>535105820.26</td>\n",
       "      <td>15.71</td>\n",
       "      <td>10.00</td>\n",
       "      <td>2019.00</td>\n",
       "      <td>10.33</td>\n",
       "      <td>2.00</td>\n",
       "    </tr>\n",
       "    <tr>\n",
       "      <th>std</th>\n",
       "      <td>568.72</td>\n",
       "      <td>0.00</td>\n",
       "      <td>401.26</td>\n",
       "      <td>18121623.66</td>\n",
       "      <td>8.49</td>\n",
       "      <td>0.00</td>\n",
       "      <td>0.00</td>\n",
       "      <td>4.89</td>\n",
       "      <td>0.00</td>\n",
       "    </tr>\n",
       "    <tr>\n",
       "      <th>min</th>\n",
       "      <td>1303355.00</td>\n",
       "      <td>2053013558920217088.00</td>\n",
       "      <td>180.11</td>\n",
       "      <td>502469352.00</td>\n",
       "      <td>1.00</td>\n",
       "      <td>10.00</td>\n",
       "      <td>2019.00</td>\n",
       "      <td>0.00</td>\n",
       "      <td>2.00</td>\n",
       "    </tr>\n",
       "    <tr>\n",
       "      <th>25%</th>\n",
       "      <td>1306797.00</td>\n",
       "      <td>2053013558920217088.00</td>\n",
       "      <td>290.59</td>\n",
       "      <td>516262862.50</td>\n",
       "      <td>8.00</td>\n",
       "      <td>10.00</td>\n",
       "      <td>2019.00</td>\n",
       "      <td>7.00</td>\n",
       "      <td>2.00</td>\n",
       "    </tr>\n",
       "    <tr>\n",
       "      <th>50%</th>\n",
       "      <td>1307074.00</td>\n",
       "      <td>2053013558920217088.00</td>\n",
       "      <td>437.57</td>\n",
       "      <td>533866348.00</td>\n",
       "      <td>16.00</td>\n",
       "      <td>10.00</td>\n",
       "      <td>2019.00</td>\n",
       "      <td>10.00</td>\n",
       "      <td>2.00</td>\n",
       "    </tr>\n",
       "    <tr>\n",
       "      <th>75%</th>\n",
       "      <td>1307310.00</td>\n",
       "      <td>2053013558920217088.00</td>\n",
       "      <td>694.97</td>\n",
       "      <td>552140443.00</td>\n",
       "      <td>23.00</td>\n",
       "      <td>10.00</td>\n",
       "      <td>2019.00</td>\n",
       "      <td>14.00</td>\n",
       "      <td>2.00</td>\n",
       "    </tr>\n",
       "    <tr>\n",
       "      <th>max</th>\n",
       "      <td>1307545.00</td>\n",
       "      <td>2053013558920217088.00</td>\n",
       "      <td>2574.04</td>\n",
       "      <td>566171268.00</td>\n",
       "      <td>31.00</td>\n",
       "      <td>10.00</td>\n",
       "      <td>2019.00</td>\n",
       "      <td>23.00</td>\n",
       "      <td>2.00</td>\n",
       "    </tr>\n",
       "  </tbody>\n",
       "</table>\n",
       "</div>"
      ],
      "text/plain": [
       "       product_id            category_id   price      user_id  DayOfMonth  \\\n",
       "count     5075.00                5075.00 5075.00      5075.00     5075.00   \n",
       "mean   1306949.87 2053013558920217088.00  581.28 535105820.26       15.71   \n",
       "std        568.72                   0.00  401.26  18121623.66        8.49   \n",
       "min    1303355.00 2053013558920217088.00  180.11 502469352.00        1.00   \n",
       "25%    1306797.00 2053013558920217088.00  290.59 516262862.50        8.00   \n",
       "50%    1307074.00 2053013558920217088.00  437.57 533866348.00       16.00   \n",
       "75%    1307310.00 2053013558920217088.00  694.97 552140443.00       23.00   \n",
       "max    1307545.00 2053013558920217088.00 2574.04 566171268.00       31.00   \n",
       "\n",
       "        Month    Year    Hour  event_type_ID  \n",
       "count 5075.00 5075.00 5075.00        5075.00  \n",
       "mean    10.00 2019.00   10.33           2.00  \n",
       "std      0.00    0.00    4.89           0.00  \n",
       "min     10.00 2019.00    0.00           2.00  \n",
       "25%     10.00 2019.00    7.00           2.00  \n",
       "50%     10.00 2019.00   10.00           2.00  \n",
       "75%     10.00 2019.00   14.00           2.00  \n",
       "max     10.00 2019.00   23.00           2.00  "
      ]
     },
     "execution_count": 64,
     "metadata": {},
     "output_type": "execute_result"
    }
   ],
   "source": [
    "df_notebook_OCT_purchase.describe()"
   ]
  },
  {
   "cell_type": "code",
   "execution_count": 66,
   "id": "incorporate-region",
   "metadata": {
    "colab": {
     "base_uri": "https://localhost:8080/"
    },
    "executionInfo": {
     "elapsed": 358,
     "status": "ok",
     "timestamp": 1622678975677,
     "user": {
      "displayName": "David Guzzi",
      "photoUrl": "https://lh3.googleusercontent.com/a-/AOh14GhSjhgfhnxX5QmyhWy5jLH3NKcCVPEgEB9KwpG4Eg=s64",
      "userId": "10735015058891789975"
     },
     "user_tz": 180
    },
    "id": "incorporate-region",
    "outputId": "65063711-bdc5-4508-aeea-980c8f617c89"
   },
   "outputs": [
    {
     "name": "stdout",
     "output_type": "stream",
     "text": [
      "Number of notebooks sold by brand $2949976.52\n"
     ]
    }
   ],
   "source": [
    "totalVendido= df_notebook_OCT_purchase['price'].sum()\n",
    "print(f'Number of notebooks sold by brand ${totalVendido}')"
   ]
  },
  {
   "cell_type": "code",
   "execution_count": 67,
   "id": "alternative-monday",
   "metadata": {
    "executionInfo": {
     "elapsed": 354,
     "status": "ok",
     "timestamp": 1622678979831,
     "user": {
      "displayName": "David Guzzi",
      "photoUrl": "https://lh3.googleusercontent.com/a-/AOh14GhSjhgfhnxX5QmyhWy5jLH3NKcCVPEgEB9KwpG4Eg=s64",
      "userId": "10735015058891789975"
     },
     "user_tz": 180
    },
    "id": "alternative-monday"
   },
   "outputs": [],
   "source": [
    "precioProductoMasCaroVendidoOCT = df_notebook_OCT_purchase['price'].max()"
   ]
  },
  {
   "cell_type": "code",
   "execution_count": 68,
   "id": "qualified-smooth",
   "metadata": {
    "executionInfo": {
     "elapsed": 348,
     "status": "ok",
     "timestamp": 1622678983156,
     "user": {
      "displayName": "David Guzzi",
      "photoUrl": "https://lh3.googleusercontent.com/a-/AOh14GhSjhgfhnxX5QmyhWy5jLH3NKcCVPEgEB9KwpG4Eg=s64",
      "userId": "10735015058891789975"
     },
     "user_tz": 180
    },
    "id": "qualified-smooth"
   },
   "outputs": [],
   "source": [
    "idDeMayorPrecioOCTVendido = df_notebook_OCT_purchase[df_notebook_OCT_purchase['price'] == df_notebook_OCT_purchase['price'].max()]\n",
    "idDeMayorPrecioOCTVendido = int(idDeMayorPrecioOCTVendido['product_id'].to_string().split()[1])"
   ]
  },
  {
   "cell_type": "code",
   "execution_count": 70,
   "id": "physical-national",
   "metadata": {
    "colab": {
     "base_uri": "https://localhost:8080/"
    },
    "executionInfo": {
     "elapsed": 12,
     "status": "ok",
     "timestamp": 1622678986400,
     "user": {
      "displayName": "David Guzzi",
      "photoUrl": "https://lh3.googleusercontent.com/a-/AOh14GhSjhgfhnxX5QmyhWy5jLH3NKcCVPEgEB9KwpG4Eg=s64",
      "userId": "10735015058891789975"
     },
     "user_tz": 180
    },
    "id": "physical-national",
    "outputId": "c20d56c0-185d-4e5d-b984-d241aab03201"
   },
   "outputs": [
    {
     "name": "stdout",
     "output_type": "stream",
     "text": [
      "The ID of the most expensive product sold in the month of October is 1307275 with an amount of $2574.04\n"
     ]
    }
   ],
   "source": [
    "print(f'The ID of the most expensive product sold in the month of October is {idDeMayorPrecioOCTVendido} with an amount of ${precioProductoMasCaroVendidoOCT}')"
   ]
  },
  {
   "cell_type": "markdown",
   "id": "3e8c77f2",
   "metadata": {},
   "source": [
    "## Graph of the distribution of the price variable"
   ]
  },
  {
   "cell_type": "code",
   "execution_count": 71,
   "id": "d2f1739b",
   "metadata": {},
   "outputs": [
    {
     "data": {
      "image/png": "[encoded data removed]",
      "text/plain": [
       "<Figure size 360x360 with 1 Axes>"
      ]
     },
     "metadata": {
      "needs_background": "light"
     },
     "output_type": "display_data"
    }
   ],
   "source": [
    "grafPrecio= sns.displot(data = df_notebook_OCT_purchase['price'])\n",
    "grafPrecio.set(title=\"Distribucion de la variable precio\");"
   ]
  },
  {
   "cell_type": "markdown",
   "id": "different-trust",
   "metadata": {
    "id": "different-trust"
   },
   "source": [
    "### **DAYS WITH MOST SALES.**"
   ]
  },
  {
   "cell_type": "code",
   "execution_count": 72,
   "id": "julian-mexico",
   "metadata": {
    "colab": {
     "base_uri": "https://localhost:8080/"
    },
    "executionInfo": {
     "elapsed": 385,
     "status": "ok",
     "timestamp": 1622678992290,
     "user": {
      "displayName": "David Guzzi",
      "photoUrl": "https://lh3.googleusercontent.com/a-/AOh14GhSjhgfhnxX5QmyhWy5jLH3NKcCVPEgEB9KwpG4Eg=s64",
      "userId": "10735015058891789975"
     },
     "user_tz": 180
    },
    "id": "julian-mexico",
    "outputId": "177e56e4-d677-4021-fc9b-151478d5b902"
   },
   "outputs": [
    {
     "data": {
      "text/plain": [
       "Wednesday    806\n",
       "Tuesday      768\n",
       "Friday       749\n",
       "Thursday     741\n",
       "Monday       694\n",
       "Saturday     660\n",
       "Sunday       657\n",
       "Name: Day, dtype: int64"
      ]
     },
     "execution_count": 72,
     "metadata": {},
     "output_type": "execute_result"
    }
   ],
   "source": [
    "ventasXdia = df_notebook_OCT_purchase['Day'].value_counts()\n",
    "ventasXdia"
   ]
  },
  {
   "cell_type": "code",
   "execution_count": 73,
   "id": "powered-passenger",
   "metadata": {
    "colab": {
     "base_uri": "https://localhost:8080/",
     "height": 347
    },
    "executionInfo": {
     "elapsed": 437,
     "status": "ok",
     "timestamp": 1622678995262,
     "user": {
      "displayName": "David Guzzi",
      "photoUrl": "https://lh3.googleusercontent.com/a-/AOh14GhSjhgfhnxX5QmyhWy5jLH3NKcCVPEgEB9KwpG4Eg=s64",
      "userId": "10735015058891789975"
     },
     "user_tz": 180
    },
    "id": "powered-passenger",
    "outputId": "cd8685b4-4af4-4b82-cef4-2310d9f678c2"
   },
   "outputs": [
    {
     "data": {
      "image/png": "[encoded data removed]",
      "text/plain": [
       "<Figure size 432x288 with 1 Axes>"
      ]
     },
     "metadata": {
      "needs_background": "light"
     },
     "output_type": "display_data"
    }
   ],
   "source": [
    "ventasXdia.plot.bar(title='Sales by day of the week in October', ylabel='Number of sales');"
   ]
  },
  {
   "cell_type": "code",
   "execution_count": 74,
   "id": "neural-advice",
   "metadata": {
    "colab": {
     "base_uri": "https://localhost:8080/"
    },
    "executionInfo": {
     "elapsed": 530,
     "status": "ok",
     "timestamp": 1622679000451,
     "user": {
      "displayName": "David Guzzi",
      "photoUrl": "https://lh3.googleusercontent.com/a-/AOh14GhSjhgfhnxX5QmyhWy5jLH3NKcCVPEgEB9KwpG4Eg=s64",
      "userId": "10735015058891789975"
     },
     "user_tz": 180
    },
    "id": "neural-advice",
    "outputId": "a22b282e-7771-49ac-96b5-7098116ede66"
   },
   "outputs": [
    {
     "name": "stdout",
     "output_type": "stream",
     "text": [
      "The day with the highest number of sales was Wednesday with a total of 806 sales\n"
     ]
    }
   ],
   "source": [
    "diaMasVentas, cantMasVentas = ventasXdia[ventasXdia == ventasXdia.max()].to_string().split()\n",
    "print(f'The day with the highest number of sales was {diaMasVentas} with a total of {cantMasVentas} sales')"
   ]
  },
  {
   "cell_type": "code",
   "execution_count": 78,
   "id": "yellow-violin",
   "metadata": {
    "colab": {
     "base_uri": "https://localhost:8080/",
     "height": 361
    },
    "executionInfo": {
     "elapsed": 703,
     "status": "ok",
     "timestamp": 1622679005043,
     "user": {
      "displayName": "David Guzzi",
      "photoUrl": "https://lh3.googleusercontent.com/a-/AOh14GhSjhgfhnxX5QmyhWy5jLH3NKcCVPEgEB9KwpG4Eg=s64",
      "userId": "10735015058891789975"
     },
     "user_tz": 180
    },
    "id": "yellow-violin",
    "outputId": "f190e2f9-6237-459a-9c58-1d5edeb8e589"
   },
   "outputs": [
    {
     "data": {
      "image/png": "[encoded data removed]",
      "text/plain": [
       "<Figure size 432x288 with 1 Axes>"
      ]
     },
     "metadata": {
      "needs_background": "light"
     },
     "output_type": "display_data"
    }
   ],
   "source": [
    "cantVentasPorUser= df_notebook_OCT_purchase.value_counts('user_id')[:5]\n",
    "cantVentasPorUser.plot.bar(title='Top 5 users with most purchases', ylabel='Number of products');"
   ]
  },
  {
   "cell_type": "code",
   "execution_count": 77,
   "id": "impossible-austria",
   "metadata": {
    "colab": {
     "base_uri": "https://localhost:8080/"
    },
    "executionInfo": {
     "elapsed": 361,
     "status": "ok",
     "timestamp": 1622679013017,
     "user": {
      "displayName": "David Guzzi",
      "photoUrl": "https://lh3.googleusercontent.com/a-/AOh14GhSjhgfhnxX5QmyhWy5jLH3NKcCVPEgEB9KwpG4Eg=s64",
      "userId": "10735015058891789975"
     },
     "user_tz": 180
    },
    "id": "impossible-austria",
    "outputId": "06c57bea-910e-4857-8d97-7b0ea2dbe485"
   },
   "outputs": [
    {
     "name": "stdout",
     "output_type": "stream",
     "text": [
      "The user 550800513 has the highest number of sales in the month of October (60)\n"
     ]
    }
   ],
   "source": [
    "uid_masVentas= cantVentasPorUser[0:1].to_string().split()[1]\n",
    "cant_masVentas= cantVentasPorUser[0:1].to_string().split()[2]\n",
    "print(f'The user {uid_masVentas} has the highest number of sales in the month of October ({cant_masVentas})')"
   ]
  },
  {
   "cell_type": "markdown",
   "id": "absent-april",
   "metadata": {
    "id": "absent-april"
   },
   "source": [
    "### **HIGHEST REVENUE BY BRAND.**"
   ]
  },
  {
   "cell_type": "code",
   "execution_count": 79,
   "id": "original-lawyer",
   "metadata": {
    "colab": {
     "base_uri": "https://localhost:8080/",
     "height": 366
    },
    "executionInfo": {
     "elapsed": 441,
     "status": "ok",
     "timestamp": 1622679018201,
     "user": {
      "displayName": "David Guzzi",
      "photoUrl": "https://lh3.googleusercontent.com/a-/AOh14GhSjhgfhnxX5QmyhWy5jLH3NKcCVPEgEB9KwpG4Eg=s64",
      "userId": "10735015058891789975"
     },
     "user_tz": 180
    },
    "id": "original-lawyer",
    "outputId": "09b94c5b-32ce-4fe9-f3d9-ffb5fe5ddd66"
   },
   "outputs": [
    {
     "data": {
      "image/png": "[encoded data removed]",
      "text/plain": [
       "<Figure size 432x288 with 1 Axes>"
      ]
     },
     "metadata": {
      "needs_background": "light"
     },
     "output_type": "display_data"
    }
   ],
   "source": [
    "df_notebook_OCT_purchase.groupby(['brand'])['price'].sum().sort_values(ascending=False).plot.bar(title='Revenue by brand',ylabel='Revenue (dollars)')\n",
    "plt.ticklabel_format(style=\"plain\", axis=\"y\");"
   ]
  },
  {
   "cell_type": "code",
   "execution_count": 80,
   "id": "smaller-packing",
   "metadata": {
    "colab": {
     "base_uri": "https://localhost:8080/",
     "height": 313
    },
    "executionInfo": {
     "elapsed": 921,
     "status": "ok",
     "timestamp": 1622679023247,
     "user": {
      "displayName": "David Guzzi",
      "photoUrl": "https://lh3.googleusercontent.com/a-/AOh14GhSjhgfhnxX5QmyhWy5jLH3NKcCVPEgEB9KwpG4Eg=s64",
      "userId": "10735015058891789975"
     },
     "user_tz": 180
    },
    "id": "smaller-packing",
    "outputId": "1cd94d55-dec6-4bf7-915c-2f5b750d9a37"
   },
   "outputs": [
    {
     "data": {
      "image/png": "[encoded data removed]",
      "text/plain": [
       "<Figure size 432x288 with 1 Axes>"
      ]
     },
     "metadata": {
      "needs_background": "light"
     },
     "output_type": "display_data"
    }
   ],
   "source": [
    "fig1=df_notebook_OCT_purchase[df_notebook_OCT_purchase['brand']=='acer']['price'].hist(bins=50,color=\"red\")\n",
    "fig2=df_notebook_OCT_purchase[df_notebook_OCT_purchase['brand']=='apple']['price'].hist(bins=50)\n",
    "fig2.set_xlabel('Precio')\n",
    "fig1.set_ylabel('Cantidad')\n",
    "plt.title('Acer vs Apple')\n",
    "plt.legend(('Acer', 'Apple'));"
   ]
  },
  {
   "cell_type": "markdown",
   "id": "pursuant-myanmar",
   "metadata": {
    "id": "pursuant-myanmar"
   },
   "source": [
    "#### **ACER AND APPLE.**"
   ]
  },
  {
   "cell_type": "code",
   "execution_count": 81,
   "id": "solved-christmas",
   "metadata": {
    "colab": {
     "base_uri": "https://localhost:8080/"
    },
    "executionInfo": {
     "elapsed": 431,
     "status": "ok",
     "timestamp": 1622679041069,
     "user": {
      "displayName": "David Guzzi",
      "photoUrl": "https://lh3.googleusercontent.com/a-/AOh14GhSjhgfhnxX5QmyhWy5jLH3NKcCVPEgEB9KwpG4Eg=s64",
      "userId": "10735015058891789975"
     },
     "user_tz": 180
    },
    "id": "solved-christmas",
    "outputId": "d2d5b64e-b735-4b6c-8055-07226708a22f"
   },
   "outputs": [
    {
     "name": "stdout",
     "output_type": "stream",
     "text": [
      "ACER vs APPLE revenue comparison\n",
      "Most of the revenue in october comes from ACER with a total sold of 1933 units and revenue of $1035811 while Apple sold a total of 378 units and revenue of $590782\n"
     ]
    }
   ],
   "source": [
    "recaudacion_oct_apple= int(df_notebook_OCT_purchase[df_notebook_OCT_purchase['brand']=='apple']['price'].sum())\n",
    "cant_vendido_apple= (df_notebook_OCT_purchase[df_notebook_OCT_purchase['brand']=='apple'].count()[:1].to_list())[0]\n",
    "\n",
    "cant_vendido_acer= (df_notebook_OCT_purchase[df_notebook_OCT_purchase['brand']=='acer'].count()[:1].to_list())[0]\n",
    "recaudacion_oct_acer= int(df_notebook_OCT_purchase[df_notebook_OCT_purchase['brand']=='acer']['price'].sum())\n",
    "print(\"ACER vs APPLE revenue comparison\")\n",
    "if recaudacion_oct_acer > recaudacion_oct_apple:\n",
    "    print(f'Most of the revenue in october comes from ACER with a total sold of {cant_vendido_acer} units and revenue of ${recaudacion_oct_acer} while Apple sold a total of {cant_vendido_apple} units and revenue of ${recaudacion_oct_apple}')\n",
    "else:\n",
    "    print(f'Most of the revenue in october comes from APPLE with a total sold of {cant_vendido_apple} units and revenue of ${recaudacion_oct_apple} while Lenovo sold a total of {cant_vendido_lenovo}  units and revenue of ${recaudacion_oct_lenovo}')"
   ]
  },
  {
   "cell_type": "markdown",
   "id": "regular-chancellor",
   "metadata": {
    "id": "regular-chancellor"
   },
   "source": [
    "### **TIME WITH HIGHEST SALES.**"
   ]
  },
  {
   "cell_type": "code",
   "execution_count": 82,
   "id": "spiritual-batman",
   "metadata": {
    "colab": {
     "base_uri": "https://localhost:8080/",
     "height": 302
    },
    "executionInfo": {
     "elapsed": 381,
     "status": "ok",
     "timestamp": 1622679047090,
     "user": {
      "displayName": "David Guzzi",
      "photoUrl": "https://lh3.googleusercontent.com/a-/AOh14GhSjhgfhnxX5QmyhWy5jLH3NKcCVPEgEB9KwpG4Eg=s64",
      "userId": "10735015058891789975"
     },
     "user_tz": 180
    },
    "id": "spiritual-batman",
    "outputId": "62b05371-0b16-4435-f52e-15daa91fe184"
   },
   "outputs": [
    {
     "data": {
      "image/png": "[encoded data removed]",
      "text/plain": [
       "<Figure size 432x288 with 1 Axes>"
      ]
     },
     "metadata": {
      "needs_background": "light"
     },
     "output_type": "display_data"
    }
   ],
   "source": [
    "df_notebook_OCT_purchase['Hour'].value_counts().sort_index().plot.bar(title='Time with highest sales');"
   ]
  },
  {
   "cell_type": "code",
   "execution_count": 84,
   "id": "impressive-scale",
   "metadata": {
    "colab": {
     "base_uri": "https://localhost:8080/",
     "height": 420
    },
    "executionInfo": {
     "elapsed": 522,
     "status": "ok",
     "timestamp": 1622679051698,
     "user": {
      "displayName": "David Guzzi",
      "photoUrl": "https://lh3.googleusercontent.com/a-/AOh14GhSjhgfhnxX5QmyhWy5jLH3NKcCVPEgEB9KwpG4Eg=s64",
      "userId": "10735015058891789975"
     },
     "user_tz": 180
    },
    "id": "impressive-scale",
    "outputId": "c56a1c1a-85bd-4f11-a699-236611c3e7c8"
   },
   "outputs": [
    {
     "data": {
      "image/png": "[encoded data removed]",
      "text/plain": [
       "<Figure size 432x288 with 1 Axes>"
      ]
     },
     "metadata": {
      "needs_background": "light"
     },
     "output_type": "display_data"
    }
   ],
   "source": [
    "userXproduct_purchase = df_notebook_OCT_purchase[['user_id','product_id']].value_counts()\n",
    "userXproduct_purchase[:10].plot.bar(title='Users who purchased the same product multiple times', ylabel= 'Number');"
   ]
  },
  {
   "cell_type": "code",
   "execution_count": 85,
   "id": "advisory-programming",
   "metadata": {
    "colab": {
     "base_uri": "https://localhost:8080/",
     "height": 348
    },
    "executionInfo": {
     "elapsed": 422,
     "status": "ok",
     "timestamp": 1622679060297,
     "user": {
      "displayName": "David Guzzi",
      "photoUrl": "https://lh3.googleusercontent.com/a-/AOh14GhSjhgfhnxX5QmyhWy5jLH3NKcCVPEgEB9KwpG4Eg=s64",
      "userId": "10735015058891789975"
     },
     "user_tz": 180
    },
    "id": "advisory-programming",
    "outputId": "50046015-b343-4d43-b243-541ced12fb0d"
   },
   "outputs": [
    {
     "data": {
      "image/png": "[encoded data removed]",
      "text/plain": [
       "<Figure size 432x288 with 1 Axes>"
      ]
     },
     "metadata": {
      "needs_background": "light"
     },
     "output_type": "display_data"
    }
   ],
   "source": [
    "df_notebook_OCT_purchase['product_id'].value_counts()[:10].plot.bar(title='Top selling products in october',xlabel='product_id',ylabel='Number');"
   ]
  },
  {
   "cell_type": "markdown",
   "id": "fifteen-style",
   "metadata": {
    "id": "fifteen-style"
   },
   "source": [
    "### **SALES THROUGHOUT THE MONTH.**"
   ]
  },
  {
   "cell_type": "code",
   "execution_count": 86,
   "id": "protective-lyric",
   "metadata": {
    "colab": {
     "base_uri": "https://localhost:8080/",
     "height": 313
    },
    "executionInfo": {
     "elapsed": 491,
     "status": "ok",
     "timestamp": 1622679330515,
     "user": {
      "displayName": "David Guzzi",
      "photoUrl": "https://lh3.googleusercontent.com/a-/AOh14GhSjhgfhnxX5QmyhWy5jLH3NKcCVPEgEB9KwpG4Eg=s64",
      "userId": "10735015058891789975"
     },
     "user_tz": 180
    },
    "id": "protective-lyric",
    "outputId": "f9178bbb-c643-429c-ba3a-2cc8196b1b56"
   },
   "outputs": [
    {
     "data": {
      "image/png": "[encoded data removed]",
      "text/plain": [
       "<Figure size 432x288 with 1 Axes>"
      ]
     },
     "metadata": {
      "needs_background": "light"
     },
     "output_type": "display_data"
    }
   ],
   "source": [
    "df_notebook_OCT_purchase['DayOfMonth'].value_counts().sort_index().plot(title='Number of sales per day of the month', ylabel='Number',xlabel='Day of the month');"
   ]
  },
  {
   "cell_type": "markdown",
   "id": "catholic-single",
   "metadata": {
    "id": "catholic-single"
   },
   "source": [
    "## ** CREATING NEW COLUMNS: PURCHASE RATE.**"
   ]
  },
  {
   "cell_type": "markdown",
   "id": "b4d299e4",
   "metadata": {},
   "source": [
    "## Products with the highest purchase rate."
   ]
  },
  {
   "cell_type": "markdown",
   "id": "comparable-thread",
   "metadata": {
    "id": "comparable-thread"
   },
   "source": [
    "#### Step 1. Filter and create two new records."
   ]
  },
  {
   "cell_type": "code",
   "execution_count": 87,
   "id": "indirect-offering",
   "metadata": {
    "executionInfo": {
     "elapsed": 354,
     "status": "ok",
     "timestamp": 1622679071427,
     "user": {
      "displayName": "David Guzzi",
      "photoUrl": "https://lh3.googleusercontent.com/a-/AOh14GhSjhgfhnxX5QmyhWy5jLH3NKcCVPEgEB9KwpG4Eg=s64",
      "userId": "10735015058891789975"
     },
     "user_tz": 180
    },
    "id": "indirect-offering"
   },
   "outputs": [],
   "source": [
    "cantCompraXProducto= df_notebook_OCT[df_notebook_OCT['event_type']=='purchase']['product_id'].value_counts()\n",
    "cantVistasXProducto= df_notebook_OCT[df_notebook_OCT['event_type']=='view']['product_id'].value_counts().reset_index()"
   ]
  },
  {
   "cell_type": "markdown",
   "id": "disturbed-setup",
   "metadata": {
    "id": "disturbed-setup"
   },
   "source": [
    "#### Step 2. Create tables and add the product_id that have no purchases to cantCompraXProducto."
   ]
  },
  {
   "cell_type": "code",
   "execution_count": 88,
   "id": "hungarian-creature",
   "metadata": {
    "executionInfo": {
     "elapsed": 380,
     "status": "ok",
     "timestamp": 1622679075334,
     "user": {
      "displayName": "David Guzzi",
      "photoUrl": "https://lh3.googleusercontent.com/a-/AOh14GhSjhgfhnxX5QmyhWy5jLH3NKcCVPEgEB9KwpG4Eg=s64",
      "userId": "10735015058891789975"
     },
     "user_tz": 180
    },
    "id": "hungarian-creature"
   },
   "outputs": [
    {
     "name": "stderr",
     "output_type": "stream",
     "text": [
      "<ipython-input-88-312a2d5b7e41>:4: FutureWarning: The frame.append method is deprecated and will be removed from pandas in a future version. Use pandas.concat instead.\n",
      "  tablaCompra= tablaCompra.append(tablaVistas)\n"
     ]
    }
   ],
   "source": [
    "tablaVistas = cantVistasXProducto.reset_index()\n",
    "tablaCompra= cantCompraXProducto.reset_index()\n",
    "tablaVistas['product_id'] = 0\n",
    "tablaCompra= tablaCompra.append(tablaVistas)\n",
    "cantCompraXProducto=tablaCompra"
   ]
  },
  {
   "cell_type": "markdown",
   "id": "unique-citizen",
   "metadata": {
    "id": "unique-citizen"
   },
   "source": [
    "#### Step 3. Remove duplicates, keeping the original values and adding the product_ids with 0 purchases."
   ]
  },
  {
   "cell_type": "code",
   "execution_count": 89,
   "id": "plastic-tiger",
   "metadata": {
    "colab": {
     "base_uri": "https://localhost:8080/",
     "height": 345
    },
    "executionInfo": {
     "elapsed": 372,
     "status": "error",
     "timestamp": 1622679415983,
     "user": {
      "displayName": "David Guzzi",
      "photoUrl": "https://lh3.googleusercontent.com/a-/AOh14GhSjhgfhnxX5QmyhWy5jLH3NKcCVPEgEB9KwpG4Eg=s64",
      "userId": "10735015058891789975"
     },
     "user_tz": 180
    },
    "id": "plastic-tiger",
    "outputId": "1fd56a1f-9cb3-4b7c-ecb9-0b2b8d0027b6"
   },
   "outputs": [],
   "source": [
    "cantCompraXProducto= tablaCompra.drop_duplicates(['index'], keep='first')\n",
    "cantCompraXProducto=cantCompraXProducto.drop(['level_0'],axis=1)"
   ]
  },
  {
   "cell_type": "markdown",
   "id": "first-trust",
   "metadata": {
    "id": "first-trust"
   },
   "source": [
    "#### Step 4: Sort both tables."
   ]
  },
  {
   "cell_type": "code",
   "execution_count": 90,
   "id": "heavy-danish",
   "metadata": {
    "colab": {
     "base_uri": "https://localhost:8080/",
     "height": 192
    },
    "executionInfo": {
     "elapsed": 370,
     "status": "error",
     "timestamp": 1622679200204,
     "user": {
      "displayName": "David Guzzi",
      "photoUrl": "https://lh3.googleusercontent.com/a-/AOh14GhSjhgfhnxX5QmyhWy5jLH3NKcCVPEgEB9KwpG4Eg=s64",
      "userId": "10735015058891789975"
     },
     "user_tz": 180
    },
    "id": "heavy-danish",
    "outputId": "8d5aaa0e-2ef6-4419-d3e9-ebaac17d7338"
   },
   "outputs": [],
   "source": [
    "cantCompraXProducto=cantCompraXProducto.sort_values(by='index')\n",
    "cantVistasXProducto=cantVistasXProducto.sort_values(by='index')"
   ]
  },
  {
   "cell_type": "markdown",
   "id": "instrumental-vintage",
   "metadata": {
    "id": "instrumental-vintage"
   },
   "source": [
    "#### tep 5. Rename both tables."
   ]
  },
  {
   "cell_type": "code",
   "execution_count": 91,
   "id": "pressed-shoulder",
   "metadata": {
    "id": "pressed-shoulder"
   },
   "outputs": [],
   "source": [
    "cantCompraXProducto= cantCompraXProducto.rename(columns={'index':'product_id',\n",
    "                                   'product_id':'cantidadCompras'})\n",
    "cantVistasXProducto= cantVistasXProducto.rename(columns={'index':'product_id',\n",
    "                                   'product_id':'cantidadVistas'})"
   ]
  },
  {
   "cell_type": "markdown",
   "id": "employed-mounting",
   "metadata": {
    "id": "employed-mounting"
   },
   "source": [
    "#### Step 6. Merge both tables into one."
   ]
  },
  {
   "cell_type": "code",
   "execution_count": 93,
   "id": "pressing-shoot",
   "metadata": {
    "id": "pressing-shoot"
   },
   "outputs": [],
   "source": [
    "tasaCompraXProducto= cantCompraXProducto.copy()\n",
    "tasaCompraXProducto['cantidadVistas']= cantVistasXProducto['cantidadVistas']\n",
    "tasaCompraXProducto['tasaCompra']=tasaCompraXProducto['cantidadCompras'] / tasaCompraXProducto['cantidadVistas']"
   ]
  },
  {
   "cell_type": "code",
   "execution_count": 94,
   "id": "negative-restriction",
   "metadata": {
    "id": "negative-restriction"
   },
   "outputs": [],
   "source": [
    "for i in df_notebook_OCT_purchase.index:\n",
    "    pid= df_notebook_OCT_purchase.loc[i, 'product_id'] \n",
    "    tasa= round(float(tasaCompraXProducto[tasaCompraXProducto['product_id']==pid]['tasaCompra'].values), 3)\n",
    "    df_notebook_OCT_purchase.loc[i, 'tasaCompra']= tasa"
   ]
  },
  {
   "cell_type": "markdown",
   "id": "absolute-hostel",
   "metadata": {
    "id": "absolute-hostel"
   },
   "source": [
    "#### Step 7. Order the table according to purchase rate values."
   ]
  },
  {
   "cell_type": "code",
   "execution_count": 95,
   "id": "general-colors",
   "metadata": {
    "id": "general-colors"
   },
   "outputs": [],
   "source": [
    "tasaCompraXProducto=tasaCompraXProducto.sort_values(by='tasaCompra',ascending=False)"
   ]
  },
  {
   "cell_type": "code",
   "execution_count": 96,
   "id": "17dd9514",
   "metadata": {
    "colab": {
     "base_uri": "https://localhost:8080/",
     "height": 210
    },
    "executionInfo": {
     "elapsed": 369,
     "status": "error",
     "timestamp": 1622679356461,
     "user": {
      "displayName": "David Guzzi",
      "photoUrl": "https://lh3.googleusercontent.com/a-/AOh14GhSjhgfhnxX5QmyhWy5jLH3NKcCVPEgEB9KwpG4Eg=s64",
      "userId": "10735015058891789975"
     },
     "user_tz": 180
    },
    "id": "blocked-verification",
    "outputId": "171a4491-441e-430f-d2a7-a60e23284425"
   },
   "outputs": [
    {
     "data": {
      "image/png": "[encoded data removed]",
      "text/plain": [
       "<Figure size 432x288 with 1 Axes>"
      ]
     },
     "metadata": {
      "needs_background": "light"
     },
     "output_type": "display_data"
    }
   ],
   "source": [
    "tablaGrafica = tasaCompraXProducto.set_index('product_id')\n",
    "tablaGrafica=tablaGrafica.drop(['cantidadCompras','cantidadVistas'],axis=1)\n",
    "tablaGrafica[:30].plot(kind='bar', title= 'Products with the highest purchase rate', ylabel='Purchase rate');"
   ]
  },
  {
   "cell_type": "markdown",
   "id": "qWv3nBaArnqx",
   "metadata": {
    "id": "qWv3nBaArnqx"
   },
   "source": [
    "*We have found which are the product_ id of the Notebooks with the highest purchase rate.*"
   ]
  },
  {
   "cell_type": "markdown",
   "id": "fc2b37cd",
   "metadata": {},
   "source": [
    "## Brands with the highest purchase rate."
   ]
  },
  {
   "cell_type": "code",
   "execution_count": 98,
   "id": "bcafbbec",
   "metadata": {},
   "outputs": [],
   "source": [
    "marcasXEvent= df_notebook_OCT[(df_notebook_OCT['event_type']=='view') ^ (df_notebook_OCT['event_type']=='purchase')][['brand','event_type']].copy()\n",
    "tablaTasa= marcasXEvent[['brand','event_type']].value_counts().reset_index()\n",
    "tablaTasa.columns=['brand','event_type','cant'] #Rename columns\n",
    "indiceDrop= tablaTasa[~tablaTasa['brand'].duplicated(keep=False)].index.to_list()\n",
    "tablaTasa= tablaTasa.drop(indiceDrop, axis=0)\n",
    "marcas= tablaTasa.drop_duplicates(subset=['brand'])['brand'].reset_index().drop(columns=['index'],axis=1)\n",
    "marcas['tasaCompra']= 0\n",
    "for indexTasa in tablaTasa.index.to_list():\n",
    "    for indexMarca in marcas.index.to_list():\n",
    "        brand= marcas.iloc[indexMarca].values[0]\n",
    "        view= tablaTasa[(tablaTasa['brand']==brand) & (tablaTasa['event_type']=='view')]['cant'].values[0]\n",
    "        purchase= tablaTasa[(tablaTasa['brand']==brand) & (tablaTasa['event_type']=='purchase')]['cant'].values[0]\n",
    "        tasa= purchase/view\n",
    "        marcas.iloc[indexMarca, 1]=tasa"
   ]
  },
  {
   "cell_type": "code",
   "execution_count": 99,
   "id": "e0db905f",
   "metadata": {},
   "outputs": [],
   "source": [
    "marcas= marcas.sort_values(by='tasaCompra',ascending=False)"
   ]
  },
  {
   "cell_type": "code",
   "execution_count": 102,
   "id": "bc6d0ec0",
   "metadata": {},
   "outputs": [
    {
     "data": {
      "image/png": "[encoded data removed]",
      "text/plain": [
       "<Figure size 432x288 with 1 Axes>"
      ]
     },
     "metadata": {
      "needs_background": "light"
     },
     "output_type": "display_data"
    }
   ],
   "source": [
    "grafMarcasTasa= marcas.plot.bar(title= 'Brands with the highest purchase rate', x='brand',y='tasaCompra')\n",
    "for p in grafMarcasTasa.patches:\n",
    "    grafMarcasTasa.annotate(str(round(p.get_height(),2)), (p.get_x() * 1.000, p.get_height() * 1.005));"
   ]
  },
  {
   "cell_type": "code",
   "execution_count": 103,
   "id": "3757ea4b",
   "metadata": {},
   "outputs": [],
   "source": [
    "tablaTasa= tablaGrafica.reset_index()\n",
    "listaPidBr = df_notebook_OCT_purchase.drop_duplicates(subset=['product_id'])\n",
    "listaPidBr = listaPidBr[['product_id','brand']]"
   ]
  },
  {
   "cell_type": "code",
   "execution_count": 104,
   "id": "859b23a6",
   "metadata": {},
   "outputs": [],
   "source": [
    "num=0\n",
    "for pid in tablaTasa['product_id'].values:\n",
    "    for index in listaPidBr.index.to_list():\n",
    "        if listaPidBr.loc[index, 'product_id'] == pid:\n",
    "            marca=listaPidBr.loc[index, 'brand']\n",
    "            tablaTasa.loc[num,'brand']= marca\n",
    "        num+=1"
   ]
  },
  {
   "cell_type": "code",
   "execution_count": 105,
   "id": "f0791961",
   "metadata": {},
   "outputs": [
    {
     "data": {
      "text/html": [
       "<div>\n",
       "<style scoped>\n",
       "    .dataframe tbody tr th:only-of-type {\n",
       "        vertical-align: middle;\n",
       "    }\n",
       "\n",
       "    .dataframe tbody tr th {\n",
       "        vertical-align: top;\n",
       "    }\n",
       "\n",
       "    .dataframe thead th {\n",
       "        text-align: right;\n",
       "    }\n",
       "</style>\n",
       "<table border=\"1\" class=\"dataframe\">\n",
       "  <thead>\n",
       "    <tr style=\"text-align: right;\">\n",
       "      <th></th>\n",
       "      <th>product_id</th>\n",
       "      <th>tasaCompra</th>\n",
       "      <th>brand</th>\n",
       "    </tr>\n",
       "  </thead>\n",
       "  <tbody>\n",
       "    <tr>\n",
       "      <th>0</th>\n",
       "      <td>1306650.00</td>\n",
       "      <td>0.07</td>\n",
       "      <td>NaN</td>\n",
       "    </tr>\n",
       "    <tr>\n",
       "      <th>1</th>\n",
       "      <td>1307073.00</td>\n",
       "      <td>0.07</td>\n",
       "      <td>NaN</td>\n",
       "    </tr>\n",
       "    <tr>\n",
       "      <th>2</th>\n",
       "      <td>1307366.00</td>\n",
       "      <td>0.07</td>\n",
       "      <td>NaN</td>\n",
       "    </tr>\n",
       "    <tr>\n",
       "      <th>3</th>\n",
       "      <td>1307067.00</td>\n",
       "      <td>0.06</td>\n",
       "      <td>NaN</td>\n",
       "    </tr>\n",
       "    <tr>\n",
       "      <th>4</th>\n",
       "      <td>1307187.00</td>\n",
       "      <td>0.06</td>\n",
       "      <td>NaN</td>\n",
       "    </tr>\n",
       "    <tr>\n",
       "      <th>...</th>\n",
       "      <td>...</td>\n",
       "      <td>...</td>\n",
       "      <td>...</td>\n",
       "    </tr>\n",
       "    <tr>\n",
       "      <th>194521</th>\n",
       "      <td>NaN</td>\n",
       "      <td>NaN</td>\n",
       "      <td>lenovo</td>\n",
       "    </tr>\n",
       "    <tr>\n",
       "      <th>195252</th>\n",
       "      <td>NaN</td>\n",
       "      <td>NaN</td>\n",
       "      <td>asus</td>\n",
       "    </tr>\n",
       "    <tr>\n",
       "      <th>195683</th>\n",
       "      <td>NaN</td>\n",
       "      <td>NaN</td>\n",
       "      <td>lenovo</td>\n",
       "    </tr>\n",
       "    <tr>\n",
       "      <th>196118</th>\n",
       "      <td>NaN</td>\n",
       "      <td>NaN</td>\n",
       "      <td>dreammachines</td>\n",
       "    </tr>\n",
       "    <tr>\n",
       "      <th>196550</th>\n",
       "      <td>NaN</td>\n",
       "      <td>NaN</td>\n",
       "      <td>hp</td>\n",
       "    </tr>\n",
       "  </tbody>\n",
       "</table>\n",
       "<p>1566 rows × 3 columns</p>\n",
       "</div>"
      ],
      "text/plain": [
       "        product_id  tasaCompra          brand\n",
       "0       1306650.00        0.07            NaN\n",
       "1       1307073.00        0.07            NaN\n",
       "2       1307366.00        0.07            NaN\n",
       "3       1307067.00        0.06            NaN\n",
       "4       1307187.00        0.06            NaN\n",
       "...            ...         ...            ...\n",
       "194521         NaN         NaN         lenovo\n",
       "195252         NaN         NaN           asus\n",
       "195683         NaN         NaN         lenovo\n",
       "196118         NaN         NaN  dreammachines\n",
       "196550         NaN         NaN             hp\n",
       "\n",
       "[1566 rows x 3 columns]"
      ]
     },
     "execution_count": 105,
     "metadata": {},
     "output_type": "execute_result"
    }
   ],
   "source": [
    "tablaTasa"
   ]
  },
  {
   "cell_type": "markdown",
   "id": "labeled-evaluation",
   "metadata": {
    "id": "labeled-evaluation"
   },
   "source": [
    "## Correlation analysis."
   ]
  },
  {
   "cell_type": "code",
   "execution_count": 106,
   "id": "3836b426",
   "metadata": {},
   "outputs": [
    {
     "name": "stderr",
     "output_type": "stream",
     "text": [
      "<ipython-input-106-4f37db3ef55f>:1: FutureWarning: The default value of numeric_only in DataFrame.corr is deprecated. In a future version, it will default to False. Select only valid columns or specify the value of numeric_only to silence this warning.\n",
      "  correlation_mat= df_notebook_OCT.corr()\n"
     ]
    },
    {
     "data": {
      "image/png": "[encoded data removed]",
      "text/plain": [
       "<Figure size 432x288 with 2 Axes>"
      ]
     },
     "metadata": {
      "needs_background": "light"
     },
     "output_type": "display_data"
    }
   ],
   "source": [
    "correlation_mat= df_notebook_OCT.corr()\n",
    "sns.heatmap(correlation_mat, annot= True)\n",
    "plt.show;"
   ]
  },
  {
   "cell_type": "markdown",
   "id": "eligible-webmaster",
   "metadata": {
    "id": "eligible-webmaster"
   },
   "source": [
    "## SCATTERPLOT"
   ]
  },
  {
   "cell_type": "code",
   "execution_count": 107,
   "id": "quarterly-phone",
   "metadata": {
    "colab": {
     "base_uri": "https://localhost:8080/",
     "height": 856
    },
    "executionInfo": {
     "elapsed": 402,
     "status": "error",
     "timestamp": 1622679514244,
     "user": {
      "displayName": "David Guzzi",
      "photoUrl": "https://lh3.googleusercontent.com/a-/AOh14GhSjhgfhnxX5QmyhWy5jLH3NKcCVPEgEB9KwpG4Eg=s64",
      "userId": "10735015058891789975"
     },
     "user_tz": 180
    },
    "id": "quarterly-phone",
    "outputId": "82f6c16a-4d6d-4486-f681-089539709b5c"
   },
   "outputs": [
    {
     "data": {
      "image/png": "[encoded data removed]",
      "text/plain": [
       "<Figure size 432x288 with 1 Axes>"
      ]
     },
     "metadata": {
      "needs_background": "light"
     },
     "output_type": "display_data"
    }
   ],
   "source": [
    "df_notebook_OCT_purchase.plot.scatter(title='Correlations between Purchase Rate and Prices',x='price',y='tasaCompra');"
   ]
  },
  {
   "cell_type": "markdown",
   "id": "149000c1",
   "metadata": {},
   "source": [
    "**A negative relationship is observed between the Purchase Rate and the price of notebooks**: At higher prices, notebooks exhibit lower purchase rates given the income restriction that every consumer presents."
   ]
  }
 ],
 "metadata": {
  "colab": {
   "collapsed_sections": [],
   "name": "Proyecto DS (5).ipynb",
   "provenance": []
  },
  "kernelspec": {
   "display_name": "Python 3",
   "language": "python",
   "name": "python3"
  },
  "language_info": {
   "codemirror_mode": {
    "name": "ipython",
    "version": 3
   },
   "file_extension": ".py",
   "mimetype": "text/x-python",
   "name": "python",
   "nbconvert_exporter": "python",
   "pygments_lexer": "ipython3",
   "version": "3.8.8"
  }
 },
 "nbformat": 4,
 "nbformat_minor": 5
}
