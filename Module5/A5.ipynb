{
 "cells": [
  {
   "cell_type": "markdown",
   "id": "d2421909",
   "metadata": {},
   "source": [
    "# Natural Language Processing: Yelp reviews."
   ]
  },
  {
   "cell_type": "markdown",
   "id": "4af46275",
   "metadata": {},
   "source": [
    "### Meaning of the features:\n",
    "\n",
    "● business_id: Identifier of the business to which the review is being carried out;\n",
    "\n",
    "● cool: Number of votes for being a “cool” review;\n",
    "\n",
    "● date: Review completion date;\n",
    "\n",
    "● funny: Number of votes for a “fun” review;\n",
    "\n",
    "● review_id: Unique revision identifier (obfuscated);\n",
    "\n",
    "● stars: Number of stars given by the user in reference to the review;\n",
    "\n",
    "● text: Review made by the user about a certain business;\n",
    "\n",
    "● useful: Number of votes received by users who found the review helpful;\n",
    "\n",
    "● user_id: platform user id (obfuscated)."
   ]
  },
  {
   "cell_type": "code",
   "execution_count": 1,
   "id": "783d3818-55d0-465b-9bda-a213e05b8b5e",
   "metadata": {},
   "outputs": [],
   "source": [
    "import numpy as np\n",
    "import pandas as pd\n",
    "import matplotlib.pyplot as plt\n",
    "import seaborn as sns"
   ]
  },
  {
   "cell_type": "code",
   "execution_count": 2,
   "id": "76fca969-90d8-4d86-893e-0247847ec32a",
   "metadata": {
    "id": "Yy7tR45_CMHC"
   },
   "outputs": [],
   "source": [
    "pd.options.display.float_format = '{:.2f}'.format"
   ]
  },
  {
   "cell_type": "code",
   "execution_count": 3,
   "id": "28c4f1cc-d5b5-4000-9616-607835999bdf",
   "metadata": {
    "colab": {
     "base_uri": "https://localhost:8080/"
    },
    "id": "2096ed6a-f343-4199-9f48-df1732d10187",
    "outputId": "cfc67176-827b-46fd-9ea6-f479ed9bd562"
   },
   "outputs": [
    {
     "name": "stderr",
     "output_type": "stream",
     "text": [
      "C:\\Users\\juamp\\anaconda3\\lib\\site-packages\\IPython\\core\\interactiveshell.py:3441: DtypeWarning: Columns (1) have mixed types.Specify dtype option on import or set low_memory=False.\n",
      "  exec(code_obj, self.user_global_ns, self.user_ns)\n"
     ]
    }
   ],
   "source": [
    "df = pd.read_csv('reviews_yelp_nn.csv', sep='\\t')"
   ]
  },
  {
   "cell_type": "markdown",
   "id": "20876972-c30b-46c8-acd3-f854cf0e7b29",
   "metadata": {
    "tags": []
   },
   "source": [
    "## Data Cleaning."
   ]
  },
  {
   "cell_type": "code",
   "execution_count": 4,
   "id": "bb2b81dc-0f04-4b2b-a5eb-b37323f77e6d",
   "metadata": {
    "id": "751d398d-f549-4cc4-815e-420b7e356200"
   },
   "outputs": [],
   "source": [
    "df.dropna(inplace=True)"
   ]
  },
  {
   "cell_type": "markdown",
   "id": "2305b012-10ce-4005-a533-e0f23fe83c64",
   "metadata": {
    "id": "xz2nfHR3aF4L"
   },
   "source": [
    "## Exploratory analysis."
   ]
  },
  {
   "cell_type": "code",
   "execution_count": 5,
   "id": "1a616756-416b-43ef-8b94-592673985e49",
   "metadata": {
    "colab": {
     "base_uri": "https://localhost:8080/"
    },
    "id": "bb946684-c1d0-4fdc-a3da-07949ee725dd",
    "outputId": "691e06e4-0672-4358-ff7e-3f429b367eac",
    "scrolled": true
   },
   "outputs": [
    {
     "name": "stdout",
     "output_type": "stream",
     "text": [
      "<class 'pandas.core.frame.DataFrame'>\n",
      "Int64Index: 3342943 entries, 0 to 3342957\n",
      "Data columns (total 9 columns):\n",
      " #   Column       Dtype  \n",
      "---  ------       -----  \n",
      " 0   business_id  object \n",
      " 1   cool         object \n",
      " 2   date         object \n",
      " 3   funny        float64\n",
      " 4   review_id    object \n",
      " 5   stars        float64\n",
      " 6   text         object \n",
      " 7   useful       float64\n",
      " 8   user_id      object \n",
      "dtypes: float64(3), object(6)\n",
      "memory usage: 255.0+ MB\n"
     ]
    }
   ],
   "source": [
    "df.info()"
   ]
  },
  {
   "cell_type": "code",
   "execution_count": 6,
   "id": "871b4779-0e12-483a-bdbb-3240f0a83b67",
   "metadata": {
    "id": "00b3e7ea-6007-4753-af83-352303d936ea"
   },
   "outputs": [],
   "source": [
    "df['date'] = pd.to_datetime(df['date']) "
   ]
  },
  {
   "cell_type": "code",
   "execution_count": 7,
   "id": "e6d3bd48-22c7-49c4-bc42-7201b33170ef",
   "metadata": {
    "id": "9eda20aa-c8d4-4fdd-80f8-c4788e72493c"
   },
   "outputs": [],
   "source": [
    "df = df.set_index('date') "
   ]
  },
  {
   "cell_type": "code",
   "execution_count": 8,
   "id": "8b06af17-ff25-435f-b0a5-1c672dc59d3b",
   "metadata": {
    "colab": {
     "base_uri": "https://localhost:8080/",
     "height": 294
    },
    "id": "3edf788a-feeb-476a-908b-6c4debd46fb6",
    "outputId": "d7f84f41-fb6d-4f18-b954-d1fa31ae2dab"
   },
   "outputs": [
    {
     "data": {
      "image/png": "[encoded data removed]",
      "text/plain": [
       "<Figure size 432x288 with 1 Axes>"
      ]
     },
     "metadata": {
      "needs_background": "light"
     },
     "output_type": "display_data"
    }
   ],
   "source": [
    "plt.plot(df['text'].resample('M').count())\n",
    "plt.xlabel('Año')\n",
    "plt.ylabel('Numero de reviews')\n",
    "plt.title('Numero de reviews por año')\n",
    "plt.show()"
   ]
  },
  {
   "cell_type": "markdown",
   "id": "0b23cee4-fbbe-40d4-b28b-748554bdb326",
   "metadata": {
    "id": "02b5f099-62a6-4cc7-8399-cb98a579bee5"
   },
   "source": [
    "**We can see a growth until 2018 in the number of reviews, and then from there a decline in it to approximately 2014 levels.**"
   ]
  },
  {
   "cell_type": "code",
   "execution_count": 9,
   "id": "8bd34e74-67b9-4779-b693-a4d0f24e5645",
   "metadata": {
    "colab": {
     "base_uri": "https://localhost:8080/",
     "height": 294
    },
    "id": "242a7f4c-2c85-4611-b16b-2b01736ce9e1",
    "outputId": "34c3c76b-6ad3-49a2-8a5d-88de9796ad8c"
   },
   "outputs": [
    {
     "data": {
      "image/png": "[encoded data removed]",
      "text/plain": [
       "<Figure size 432x288 with 1 Axes>"
      ]
     },
     "metadata": {
      "needs_background": "light"
     },
     "output_type": "display_data"
    }
   ],
   "source": [
    "#Distribution of the variable stars.\n",
    "ax = sns.barplot(data=df, x='stars', y='stars', estimator=lambda x: len(x) / len(df) * 100)\n",
    "ax.set(ylabel=\"Porcentaje\")\n",
    "plt.title('Distribucion de estrellas')\n",
    "plt.show()"
   ]
  },
  {
   "cell_type": "code",
   "execution_count": 10,
   "id": "92955192-d578-48c5-b6c7-65ddd46c1dc1",
   "metadata": {
    "colab": {
     "base_uri": "https://localhost:8080/",
     "height": 422
    },
    "id": "BuF6s8nK8Rwg",
    "outputId": "e7513078-902c-4761-a1e3-cb26bc036c7f"
   },
   "outputs": [
    {
     "data": {
      "image/png": "[encoded data removed]",
      "text/plain": [
       "<Figure size 432x288 with 1 Axes>"
      ]
     },
     "metadata": {
      "needs_background": "light"
     },
     "output_type": "display_data"
    },
    {
     "data": {
      "text/plain": [
       "<Figure size 1440x504 with 0 Axes>"
      ]
     },
     "metadata": {},
     "output_type": "display_data"
    }
   ],
   "source": [
    "#Distribution of the business id variable.\n",
    "business_count = df.business_id.value_counts()\n",
    "business_count = business_count[business_count>2000]\n",
    "ax = sns.barplot(x=business_count.index, y=business_count)\n",
    "ax.set_xticklabels(ax.get_xticklabels(), rotation=90, ha=\"right\")\n",
    "plt.figure(figsize=(20,7))\n",
    "plt.tight_layout()\n",
    "plt.show()"
   ]
  },
  {
   "cell_type": "markdown",
   "id": "dbe28b61-04ce-4dbd-834f-1a13f5f0547d",
   "metadata": {},
   "source": [
    "## Data filtering."
   ]
  },
  {
   "cell_type": "code",
   "execution_count": 11,
   "id": "326a157c-e10d-49fa-98e5-efcf2470163d",
   "metadata": {
    "id": "8Ot-yp0n-qQE"
   },
   "outputs": [],
   "source": [
    "business_most_review = business_count.index[0:10]"
   ]
  },
  {
   "cell_type": "code",
   "execution_count": 12,
   "id": "c4adbf53-7724-4641-8a97-a2c991abf18a",
   "metadata": {
    "id": "QgeCjr69-g17"
   },
   "outputs": [],
   "source": [
    "#We are left with the top 5 business id with the most reviews.\n",
    "df_filtered = df[(df.business_id==business_most_review[0]) |\n",
    "        (df.business_id==business_most_review[1]) |\n",
    "        (df.business_id==business_most_review[2]) | \n",
    "        (df.business_id==business_most_review[3]) |\n",
    "        (df.business_id==business_most_review[4])]"
   ]
  },
  {
   "cell_type": "code",
   "execution_count": 13,
   "id": "3649cae4-76a8-4acc-bef9-70e16bfc90b9",
   "metadata": {
    "id": "focbpsTGNnbP"
   },
   "outputs": [],
   "source": [
    "df_filtered = df_filtered[['stars', 'text']]"
   ]
  },
  {
   "cell_type": "markdown",
   "id": "ad373458-c401-4547-9a2d-72f8fdf2705a",
   "metadata": {},
   "source": [
    "## Pre processing."
   ]
  },
  {
   "cell_type": "code",
   "execution_count": 14,
   "id": "b790e322-c2bb-45c3-b62f-0ecd3e15636a",
   "metadata": {
    "id": "vbCDJmTEOJ_i"
   },
   "outputs": [],
   "source": [
    "#Converting the text to lowercase.\n",
    "txt_lower = [txt.lower() for txt in df_filtered.text]\n",
    "df_filtered['text']= txt_lower"
   ]
  },
  {
   "cell_type": "code",
   "execution_count": 15,
   "id": "467a1114-21f5-4c2b-b4ce-a9de1a9c9df9",
   "metadata": {
    "id": "4yW3ZT_2-zM6"
   },
   "outputs": [],
   "source": [
    "df_filtered['positive_review'] = \"\""
   ]
  },
  {
   "cell_type": "code",
   "execution_count": 16,
   "id": "d5b33259-4014-4d87-8692-eb5b47b7e57f",
   "metadata": {
    "colab": {
     "base_uri": "https://localhost:8080/"
    },
    "id": "vo6AJrwN7I1S",
    "outputId": "a295b2ab-9c6e-48a9-d773-5279d2ae4cd3"
   },
   "outputs": [
    {
     "name": "stdout",
     "output_type": "stream",
     "text": [
      "5.00    7138\n",
      "4.00    5301\n",
      "3.00    2637\n",
      "2.00    1472\n",
      "1.00    1185\n",
      "Name: stars, dtype: int64\n"
     ]
    }
   ],
   "source": [
    "#Plot reviews clasification.\n",
    "stars_count = df_filtered.stars.value_counts()\n",
    "print(stars_count)"
   ]
  },
  {
   "cell_type": "code",
   "execution_count": 17,
   "id": "47bc74e3-fe2d-41b6-8630-54dec6c6b216",
   "metadata": {
    "colab": {
     "base_uri": "https://localhost:8080/",
     "height": 334
    },
    "id": "FFu3_7rS9r04",
    "outputId": "994a1dc9-32cb-4eb4-d4b1-d4b99eb3aa73"
   },
   "outputs": [
    {
     "data": {
      "image/png": "[encoded data removed]",
      "text/plain": [
       "<Figure size 432x288 with 1 Axes>"
      ]
     },
     "metadata": {
      "needs_background": "light"
     },
     "output_type": "display_data"
    },
    {
     "name": "stdout",
     "output_type": "stream",
     "text": [
      "\n",
      "Positive count: 12439 \n",
      "Negative count: 5294 \n"
     ]
    }
   ],
   "source": [
    "#Plot reviews clasification.\n",
    "stars_count = df_filtered.stars.value_counts()\n",
    "\n",
    "negative_count = stars_count[1] +  stars_count[2] + stars_count[3] \n",
    "positive_count = stars_count[4] + stars_count[5]\n",
    "raiting = pd.DataFrame([{'positive_count': positive_count, 'negative_count': negative_count}])\n",
    "plt.bar(['positive','negative'], raiting.values[0])\n",
    "plt.title(\"Positive and negative reviews\")\n",
    "plt.show()\n",
    "print(f\"\\nPositive count: {positive_count} \\nNegative count: {negative_count} \")"
   ]
  },
  {
   "cell_type": "code",
   "execution_count": 18,
   "id": "9aee1677-7716-4c31-80c8-87573cb84022",
   "metadata": {
    "id": "WGFGlL-I_RHW"
   },
   "outputs": [],
   "source": [
    "df_filtered.reset_index(inplace=True, drop=True)"
   ]
  },
  {
   "cell_type": "code",
   "execution_count": 19,
   "id": "6d20eb86-8469-48b0-8718-3c8568e1be8d",
   "metadata": {
    "id": "DY462SWd4nLf"
   },
   "outputs": [],
   "source": [
    "for row in df_filtered.itertuples(index=True):\n",
    "    if row[1] >= 4:\n",
    "        df_filtered.loc[row[0], 'positive_review'] = 1\n",
    "    else:\n",
    "        df_filtered.loc[row[0], 'positive_review'] = 0"
   ]
  },
  {
   "cell_type": "code",
   "execution_count": 20,
   "id": "d5fedefb-e9dd-455f-99b4-477e0cf57189",
   "metadata": {
    "id": "-aGxVOGf_qn_"
   },
   "outputs": [],
   "source": [
    "df_filtered = df_filtered[['text','positive_review']]"
   ]
  },
  {
   "cell_type": "markdown",
   "id": "bea93260-6bdf-4da5-9508-317713edd122",
   "metadata": {},
   "source": [
    "## CLASSIFICATION."
   ]
  },
  {
   "cell_type": "markdown",
   "id": "afa6a3c9-d4f9-4ba6-9505-5bc8aa81f79f",
   "metadata": {},
   "source": [
    "### Select the variables."
   ]
  },
  {
   "cell_type": "code",
   "execution_count": 130,
   "id": "700dc1cf-f20d-4ecf-9776-f3866cfc334e",
   "metadata": {},
   "outputs": [],
   "source": [
    "x = df_filtered['text'].values\n",
    "y = df_filtered['positive_review'].values"
   ]
  },
  {
   "cell_type": "code",
   "execution_count": 131,
   "id": "0b639563-5eba-44af-8589-25f8875d3f1b",
   "metadata": {},
   "outputs": [],
   "source": [
    "y = y.astype('int')"
   ]
  },
  {
   "cell_type": "code",
   "execution_count": 132,
   "id": "eb1e4243-7903-4265-93b9-a20d424f54c7",
   "metadata": {},
   "outputs": [],
   "source": [
    "x = x.reshape(-1,1)\n",
    "y = y.reshape(-1,1)"
   ]
  },
  {
   "cell_type": "markdown",
   "id": "c5862b59-ff89-4ef3-8a7d-625a4f44958b",
   "metadata": {},
   "source": [
    "### Classes are balanced."
   ]
  },
  {
   "cell_type": "code",
   "execution_count": 133,
   "id": "3fd0abf2-6cd8-4165-afca-dd29ea581cf7",
   "metadata": {},
   "outputs": [],
   "source": [
    "from imblearn.under_sampling import RandomUnderSampler"
   ]
  },
  {
   "cell_type": "code",
   "execution_count": 134,
   "id": "0bbb4cb5-4f7a-4f07-a259-b7fde4d7830e",
   "metadata": {},
   "outputs": [],
   "source": [
    "rus = RandomUnderSampler(random_state=0)\n",
    "x, y = rus.fit_resample(x, y)"
   ]
  },
  {
   "cell_type": "markdown",
   "id": "8da8ac94-d9d8-40a0-a9e6-b1c4339f1873",
   "metadata": {},
   "source": [
    "### Text cleanup."
   ]
  },
  {
   "cell_type": "code",
   "execution_count": 135,
   "id": "6ac4c10c-3dcc-4131-b0b0-4ed4285b6a29",
   "metadata": {},
   "outputs": [],
   "source": [
    "from nltk.corpus import stopwords\n",
    "import string\n",
    "text = []\n",
    "def text_clean(message):\n",
    "    nopunc = [i for i in message if i not in string.punctuation]\n",
    "    nopunc = [i for i in nopunc if i not in string.digits]\n",
    "    nn = \"\".join(nopunc)\n",
    "    nn = nn.lower().split()\n",
    "    nostop = [words for words in nn if words not in stopwords.words('english')]\n",
    "    for i in nostop:\n",
    "        if int(len(i)) >=3:\n",
    "            text.append(i)\n",
    "    return(text)"
   ]
  },
  {
   "cell_type": "code",
   "execution_count": 137,
   "id": "dc9c9218-81c7-4bed-9e7b-baa096e5452f",
   "metadata": {},
   "outputs": [],
   "source": [
    "from sklearn.feature_extraction.text import CountVectorizer\n",
    "cv_transformer = CountVectorizer(analyzer = text_clean)"
   ]
  },
  {
   "cell_type": "code",
   "execution_count": null,
   "id": "0f4406e0-7061-4437-8060-0d3e89f13b53",
   "metadata": {},
   "outputs": [],
   "source": [
    "x = cv_transformer.fit_transform(x)"
   ]
  },
  {
   "cell_type": "markdown",
   "id": "bf4ef07f-cca1-4e65-b555-d20c9216402b",
   "metadata": {
    "tags": []
   },
   "source": [
    "### Separates into train and test."
   ]
  },
  {
   "cell_type": "code",
   "execution_count": 48,
   "id": "55c22151-a824-4998-afe4-9397655c1696",
   "metadata": {},
   "outputs": [],
   "source": [
    "from sklearn.model_selection import train_test_split\n",
    "x_train, x_test, y_train, y_test = train_test_split(x,y,test_size = 0.3, random_state = 101)"
   ]
  },
  {
   "cell_type": "markdown",
   "id": "fe3c4526-a670-4424-bf1b-6f6887945204",
   "metadata": {},
   "source": [
    "## MODEL: Naive Bayes."
   ]
  },
  {
   "cell_type": "code",
   "execution_count": 49,
   "id": "ba9ea4ef-6754-4f71-9ddf-9a0150f8039a",
   "metadata": {},
   "outputs": [],
   "source": [
    "from sklearn.naive_bayes import MultinomialNB"
   ]
  },
  {
   "cell_type": "code",
   "execution_count": 50,
   "id": "ffd05966-6b70-41cb-abef-bab5b75ed65e",
   "metadata": {},
   "outputs": [
    {
     "data": {
      "text/plain": [
       "MultinomialNB()"
      ]
     },
     "execution_count": 50,
     "metadata": {},
     "output_type": "execute_result"
    }
   ],
   "source": [
    "nb = MultinomialNB()\n",
    "nb.fit(x_train, y_train)"
   ]
  },
  {
   "cell_type": "code",
   "execution_count": 51,
   "id": "7d07fdec-c88e-47f5-a471-134eea4f18ce",
   "metadata": {},
   "outputs": [
    {
     "data": {
      "text/plain": [
       "array([1, 0, 0, ..., 1, 1, 1])"
      ]
     },
     "execution_count": 51,
     "metadata": {},
     "output_type": "execute_result"
    }
   ],
   "source": [
    "pred_nb = nb.predict(x_test)\n",
    "pred_nb"
   ]
  },
  {
   "cell_type": "code",
   "execution_count": 52,
   "id": "df975f84-7bc4-417c-a7ed-d9f64111bd3b",
   "metadata": {},
   "outputs": [],
   "source": [
    "from sklearn.metrics import classification_report, confusion_matrix"
   ]
  },
  {
   "cell_type": "code",
   "execution_count": 53,
   "id": "68eca3bb-5351-4883-bad6-88a205eaefcf",
   "metadata": {},
   "outputs": [
    {
     "name": "stdout",
     "output_type": "stream",
     "text": [
      "Predictions     0     1\n",
      "Actual                 \n",
      "0            1375   232\n",
      "1             273  1297\n",
      "\n",
      "\n",
      "              precision    recall  f1-score   support\n",
      "\n",
      "           0       0.83      0.86      0.84      1607\n",
      "           1       0.85      0.83      0.84      1570\n",
      "\n",
      "    accuracy                           0.84      3177\n",
      "   macro avg       0.84      0.84      0.84      3177\n",
      "weighted avg       0.84      0.84      0.84      3177\n",
      "\n"
     ]
    }
   ],
   "source": [
    "df_confusion = pd.crosstab(y_test, pred_nb,colnames=[\"Predictions\"], rownames=[\"Actual\"])\n",
    "print(df_confusion)\n",
    "print(\"\\n\")\n",
    "print(classification_report(y_test, pred_nb))"
   ]
  },
  {
   "cell_type": "markdown",
   "id": "8787c301-08da-4d87-9883-4887c2fe3448",
   "metadata": {},
   "source": [
    "## MODEL: Random Forest."
   ]
  },
  {
   "cell_type": "code",
   "execution_count": 54,
   "id": "703023db-96d1-4dd9-bc6e-ba232656a712",
   "metadata": {},
   "outputs": [],
   "source": [
    "from sklearn.ensemble import RandomForestClassifier"
   ]
  },
  {
   "cell_type": "code",
   "execution_count": 55,
   "id": "3e198359-a48a-4ce8-84f4-9ed8b9c727c9",
   "metadata": {},
   "outputs": [
    {
     "data": {
      "text/plain": [
       "RandomForestClassifier()"
      ]
     },
     "execution_count": 55,
     "metadata": {},
     "output_type": "execute_result"
    }
   ],
   "source": [
    "rf = RandomForestClassifier()\n",
    "rf.fit(x_train, y_train)"
   ]
  },
  {
   "cell_type": "code",
   "execution_count": 56,
   "id": "211399fa-f013-41ee-a3d2-46fed44a1716",
   "metadata": {},
   "outputs": [],
   "source": [
    "pred_rf = rf.predict(x_test)"
   ]
  },
  {
   "cell_type": "code",
   "execution_count": 57,
   "id": "41f1c195-987a-4279-ace9-019f744465dc",
   "metadata": {},
   "outputs": [
    {
     "name": "stdout",
     "output_type": "stream",
     "text": [
      "Predictions     0     1\n",
      "Actual                 \n",
      "0            1389   218\n",
      "1             365  1205\n",
      "\n",
      "\n",
      "Classification report\n",
      "               precision    recall  f1-score   support\n",
      "\n",
      "           0       0.79      0.86      0.83      1607\n",
      "           1       0.85      0.77      0.81      1570\n",
      "\n",
      "    accuracy                           0.82      3177\n",
      "   macro avg       0.82      0.82      0.82      3177\n",
      "weighted avg       0.82      0.82      0.82      3177\n",
      "\n"
     ]
    }
   ],
   "source": [
    "df_confusion = pd.crosstab(y_test, pred_rf,colnames=[\"Predictions\"], rownames=[\"Actual\"])\n",
    "print(df_confusion)\n",
    "print(\"\\n\")\n",
    "print(\"Classification report\\n\",classification_report(y_test, pred_rf))"
   ]
  },
  {
   "cell_type": "markdown",
   "id": "a4bf18a9-6557-4da4-9891-50eaccb5fae1",
   "metadata": {},
   "source": [
    "## MODEL: Logistic regression."
   ]
  },
  {
   "cell_type": "code",
   "execution_count": 59,
   "id": "671d742c-dee6-4edc-8e92-fb44793ef0f5",
   "metadata": {},
   "outputs": [],
   "source": [
    "from sklearn.linear_model import LogisticRegression"
   ]
  },
  {
   "cell_type": "code",
   "execution_count": 60,
   "id": "fa93221b-0644-4e1d-b1ae-2da78a65dfea",
   "metadata": {},
   "outputs": [
    {
     "name": "stderr",
     "output_type": "stream",
     "text": [
      "C:\\Users\\juamp\\anaconda3\\lib\\site-packages\\sklearn\\linear_model\\_logistic.py:763: ConvergenceWarning: lbfgs failed to converge (status=1):\n",
      "STOP: TOTAL NO. of ITERATIONS REACHED LIMIT.\n",
      "\n",
      "Increase the number of iterations (max_iter) or scale the data as shown in:\n",
      "    https://scikit-learn.org/stable/modules/preprocessing.html\n",
      "Please also refer to the documentation for alternative solver options:\n",
      "    https://scikit-learn.org/stable/modules/linear_model.html#logistic-regression\n",
      "  n_iter_i = _check_optimize_result(\n"
     ]
    }
   ],
   "source": [
    "log_reg = LogisticRegression().fit(x_train, y_train)\n",
    "pred_lg = log_reg.predict(x_test)"
   ]
  },
  {
   "cell_type": "code",
   "execution_count": 62,
   "id": "d386f76a-79f6-46ef-80f5-33702188edb5",
   "metadata": {},
   "outputs": [
    {
     "name": "stdout",
     "output_type": "stream",
     "text": [
      "Predictions     0     1\n",
      "Actual                 \n",
      "0            1349   258\n",
      "1             227  1343\n",
      "\n",
      "\n",
      "Classification report\n",
      "               precision    recall  f1-score   support\n",
      "\n",
      "           0       0.86      0.84      0.85      1607\n",
      "           1       0.84      0.86      0.85      1570\n",
      "\n",
      "    accuracy                           0.85      3177\n",
      "   macro avg       0.85      0.85      0.85      3177\n",
      "weighted avg       0.85      0.85      0.85      3177\n",
      "\n"
     ]
    }
   ],
   "source": [
    "df_confusion = pd.crosstab(y_test, pred_lg,colnames=[\"Predictions\"], rownames=[\"Actual\"])\n",
    "print(df_confusion)\n",
    "print(\"\\n\")\n",
    "print(\"Classification report\\n\",classification_report(y_test, pred_lg))"
   ]
  },
  {
   "cell_type": "code",
   "execution_count": 72,
   "id": "69dafcf5-5fb8-4c96-b7c9-56d0c5eb082c",
   "metadata": {},
   "outputs": [],
   "source": [
    "from sklearn.metrics import roc_curve\n",
    "from sklearn.metrics import roc_auc_score\n",
    "import matplotlib.pyplot as plt"
   ]
  },
  {
   "cell_type": "code",
   "execution_count": 64,
   "id": "e6be6b32-919f-446f-9022-556527188a30",
   "metadata": {},
   "outputs": [],
   "source": [
    "ns_probs = [0 for _ in range(len(y_test))]\n",
    "ns_auc = roc_auc_score(y_test, ns_probs)\n",
    "ns_fpr, ns_tpr, _ = roc_curve(y_test, ns_probs)"
   ]
  },
  {
   "cell_type": "code",
   "execution_count": 78,
   "id": "823c1626-eb4c-4fea-a051-d0bd6704e07b",
   "metadata": {},
   "outputs": [],
   "source": [
    "#Logistic regression,\n",
    "lr_probs = log_reg.predict_proba(x_test)\n",
    "lr_probs = lr_probs[:, 1]\n",
    "lr_auc = roc_auc_score(y_test, lr_probs)\n",
    "lr_fpr, lr_tpr, _ = roc_curve(y_test, lr_probs)\n",
    "\n",
    "#Random forest.\n",
    "rf_probs = rf.predict_proba(x_test)\n",
    "rf_probs = rf_probs[:, 1]\n",
    "rf_auc = roc_auc_score(y_test, rf_probs)\n",
    "rf_fpr, rf_tpr, _ = roc_curve(y_test, rf_probs)\n",
    "\n",
    "#MultinomialNB.\n",
    "nb_probs = nb.predict_proba(x_test)\n",
    "nb_probs =nb_probs[:, 1]\n",
    "nb_auc = roc_auc_score(y_test, nb_probs)\n",
    "nb_fpr, nb_tpr, _ = roc_curve(y_test, nb_probs)"
   ]
  },
  {
   "cell_type": "code",
   "execution_count": 79,
   "id": "d65dae4e-a09c-41d3-b33b-e641d6af89a6",
   "metadata": {},
   "outputs": [
    {
     "data": {
      "image/png": "[encoded data removed]",
      "text/plain": [
       "<Figure size 432x288 with 1 Axes>"
      ]
     },
     "metadata": {
      "needs_background": "light"
     },
     "output_type": "display_data"
    }
   ],
   "source": [
    "plt.plot(ns_fpr, ns_tpr, linestyle='--', label='Sin entrenar')\n",
    "plt.plot(lr_fpr, lr_tpr, marker='.', label='Regresión Logística')\n",
    "plt.plot(rf_fpr, rf_tpr, marker='.', label='Random Forest')\n",
    "plt.plot(nb_fpr, nb_tpr, marker='.', label='MultinomialNB')\n",
    "plt.title('CURVA ROC Regresion logistica')\n",
    "plt.xlabel('Tasa de Falsos Positivos')\n",
    "plt.ylabel('Tasa de Verdaderos Positivos')\n",
    "plt.legend()\n",
    "plt.show()"
   ]
  }
 ],
 "metadata": {
  "kernelspec": {
   "display_name": "Python 3",
   "language": "python",
   "name": "python3"
  },
  "language_info": {
   "codemirror_mode": {
    "name": "ipython",
    "version": 3
   },
   "file_extension": ".py",
   "mimetype": "text/x-python",
   "name": "python",
   "nbconvert_exporter": "python",
   "pygments_lexer": "ipython3",
   "version": "3.8.8"
  }
 },
 "nbformat": 4,
 "nbformat_minor": 5
}
